{
 "cells": [
  {
   "cell_type": "markdown",
   "id": "0adb5722-4550-439b-aa9b-a38fa12a0f76",
   "metadata": {},
   "source": [
    "# Conditionals\n",
    "\n",
    "By default, statements in Python script are executed sequentially from top to bottom. If the processing logic require so, the sequential flow of execution can be altered in two way:\n",
    "\n",
    "* Conditional execution: a block of one or more statements will be executed if a certain expression is true\n",
    "* Repetitive execution: a block of one or more statements will be repetitively executed as long as a certain expression is true.\n",
    "\n",
    "In this section, we will cover the conditional execution: `if`, `else`, `elif` statements. The comparison and logical operators we learned in previous sections will be useful here.\n",
    "\n",
    "The repetitive execution (`while` loop) will be discussed in the next section.\n",
    "\n",
    "```{contents}\n",
    ":local:\n",
    "```"
   ]
  },
  {
   "cell_type": "markdown",
   "id": "f8d1a571-69d9-420c-9fc2-b986287128b4",
   "metadata": {},
   "source": [
    "## If Condition\n",
    "\n",
    "In python and other programming languages the key word if is used to check if a condition is true and to execute the block code. Remember the indentation after the colon.\n",
    "\n",
    "```\n",
    "# syntax\n",
    "if condition:\n",
    "    this part of code runs for truthy conditions\n",
    "```"
   ]
  },
  {
   "cell_type": "code",
   "execution_count": 1,
   "id": "1427378a-c5b4-49f4-a82d-319f7beda504",
   "metadata": {},
   "outputs": [
    {
     "name": "stdout",
     "output_type": "stream",
     "text": [
      "A is a positive number\n"
     ]
    }
   ],
   "source": [
    "a = 3\n",
    "if a > 0:\n",
    "    print(\"A is a positive number\")"
   ]
  },
  {
   "cell_type": "markdown",
   "id": "7ce9be18-58bc-4d0b-b6cd-619272f123e6",
   "metadata": {},
   "source": [
    "As you can see in the example above, 3 is greater than 0. The condition was true and the block code was executed. However, if the condition is false, we do not see the result. In order to see the result of the falsy condition, we should have another block, which is going to be else."
   ]
  },
  {
   "cell_type": "markdown",
   "id": "ad39d9e7-6bb7-4a25-bd7b-fccd76a8ca5f",
   "metadata": {},
   "source": [
    "## If Else\n",
    "\n",
    "If condition is true the first block will be executed, if not the else condition will run.\n",
    "\n",
    "```\n",
    "# syntax\n",
    "if condition:\n",
    "    this part of code runs for truthy conditions\n",
    "else:\n",
    "     this part of code runs for false conditions\n",
    "```"
   ]
  },
  {
   "cell_type": "code",
   "execution_count": 2,
   "id": "b3d1f07f-2008-457a-a8c0-9bd0f929d1f2",
   "metadata": {},
   "outputs": [
    {
     "name": "stdout",
     "output_type": "stream",
     "text": [
      "A is a positive number\n"
     ]
    }
   ],
   "source": [
    "a = 3\n",
    "if a < 0:\n",
    "    print(\"A is a negative number\")\n",
    "else:\n",
    "    print(\"A is a positive number\")"
   ]
  },
  {
   "cell_type": "markdown",
   "id": "44f7b1e9-2b55-4e86-ba5b-c00d883479c9",
   "metadata": {},
   "source": [
    "The condition above proves false, therefore the else block was executed. How about if our condition is more than two? We could use `elif`."
   ]
  },
  {
   "cell_type": "markdown",
   "id": "8bf61ae2-58f2-441b-a4e6-db75e3b6442b",
   "metadata": {},
   "source": [
    "## If Elif Else\n",
    "\n",
    "In our daily life, we make decisions on daily basis. We make decisions not by checking one or two conditions but multiple conditions. As similar to life, programming is also full of conditions. We use elif when we have multiple conditions.\n",
    "\n",
    "```\n",
    "# syntax\n",
    "if condition:\n",
    "    code\n",
    "elif condition:\n",
    "    code\n",
    "else:\n",
    "    code\n",
    "```"
   ]
  },
  {
   "cell_type": "code",
   "execution_count": 3,
   "id": "3f612544-8704-4d10-9f12-8f673c2ee8df",
   "metadata": {},
   "outputs": [
    {
     "name": "stdout",
     "output_type": "stream",
     "text": [
      "A is zero\n"
     ]
    }
   ],
   "source": [
    "a = 0\n",
    "if a > 0:\n",
    "    print(\"A is a positive number\")\n",
    "elif a < 0:\n",
    "    print(\"A is a negative number\")\n",
    "else:\n",
    "    print(\"A is zero\")"
   ]
  },
  {
   "cell_type": "markdown",
   "id": "3988047c-f885-4648-9ae9-ca56c02cbfd9",
   "metadata": {},
   "source": [
    "## Short Hand\n",
    "\n",
    "```\n",
    "# syntax\n",
    "code if condition else code\n",
    "```"
   ]
  },
  {
   "cell_type": "code",
   "execution_count": 4,
   "id": "a583554f-e993-43a4-9aeb-c3df427a3974",
   "metadata": {},
   "outputs": [
    {
     "name": "stdout",
     "output_type": "stream",
     "text": [
      "A is positive\n"
     ]
    }
   ],
   "source": [
    "a = 3\n",
    "(\n",
    "    print(\"A is positive\") if a > 0 else print(\"A is negative\")\n",
    ")  # first condition met, 'A is positive' will be printed"
   ]
  },
  {
   "cell_type": "markdown",
   "id": "61ef5fe4-683a-4460-ad6d-11f4ca05cccb",
   "metadata": {},
   "source": [
    "## Nested Conditions\n",
    "\n",
    "Conditions can be nested\n",
    "\n",
    "```\n",
    "# syntax\n",
    "if condition:\n",
    "    code\n",
    "    if condition:\n",
    "    code\n",
    "```"
   ]
  },
  {
   "cell_type": "code",
   "execution_count": 5,
   "id": "2a7170dc-bbfc-4cd4-89a1-dedadd8653b1",
   "metadata": {},
   "outputs": [
    {
     "name": "stdout",
     "output_type": "stream",
     "text": [
      "A is zero\n"
     ]
    }
   ],
   "source": [
    "a = 0\n",
    "if a > 0:\n",
    "    if a % 2 == 0:\n",
    "        print(\"A is a positive and even integer\")\n",
    "    else:\n",
    "        print(\"A is a positive number\")\n",
    "elif a == 0:\n",
    "    print(\"A is zero\")\n",
    "else:\n",
    "    print(\"A is a negative number\")"
   ]
  },
  {
   "cell_type": "markdown",
   "id": "c86148d8-2c21-4856-a3f3-7b682db71b78",
   "metadata": {},
   "source": [
    "We can avoid writing nested condition by using logical operator `and`."
   ]
  },
  {
   "cell_type": "markdown",
   "id": "d93f5e55-db73-4d3b-b7da-82a9b4972f60",
   "metadata": {},
   "source": [
    "## If Condition and Logical Operators\n",
    "\n",
    "```\n",
    "# syntax\n",
    "if condition and condition:\n",
    "    code\n",
    "```"
   ]
  },
  {
   "cell_type": "code",
   "execution_count": 6,
   "id": "f1fc52e9-0bc4-4d02-b0ef-6640cf9c0e06",
   "metadata": {},
   "outputs": [
    {
     "name": "stdout",
     "output_type": "stream",
     "text": [
      "A is zero\n"
     ]
    }
   ],
   "source": [
    "a = 0\n",
    "if a > 0 and a % 2 == 0:\n",
    "    print(\"A is an even and positive integer\")\n",
    "elif a > 0 and a % 2 != 0:\n",
    "    print(\"A is a positive integer\")\n",
    "elif a == 0:\n",
    "    print(\"A is zero\")\n",
    "else:\n",
    "    print(\"A is negative\")"
   ]
  },
  {
   "cell_type": "markdown",
   "id": "9e9bbd01-bb75-4227-b492-897dfd14ea1d",
   "metadata": {},
   "source": [
    "## If and Or Logical Operators\n",
    "\n",
    "```\n",
    "# syntax\n",
    "if condition or condition:\n",
    "    code\n",
    "```"
   ]
  },
  {
   "cell_type": "code",
   "execution_count": 7,
   "id": "5f8c16ad-c3f3-41bb-b5d2-67fbe8873d42",
   "metadata": {},
   "outputs": [
    {
     "name": "stdout",
     "output_type": "stream",
     "text": [
      "Access denied!\n"
     ]
    }
   ],
   "source": [
    "user = \"James\"\n",
    "access_level = 3\n",
    "if user == \"admin\" or access_level >= 4:\n",
    "    print(\"Access granted!\")\n",
    "else:\n",
    "    print(\"Access denied!\")"
   ]
  },
  {
   "cell_type": "markdown",
   "id": "d88beaea-4a3f-4031-af70-f8165507d85f",
   "metadata": {},
   "source": [
    "You are doing great! Never give up because great things take time. Now do some exercises for your brain 🧠"
   ]
  },
  {
   "cell_type": "markdown",
   "id": "692be7e0-e119-4dc1-be64-8f4ad71d46b7",
   "metadata": {},
   "source": [
    "## Excercises\n",
    "\n",
    "### Exercises: Level 1\n",
    "\n",
    "1. Get user input using input(“Enter your age: ”). If user is 18 or older, give feedback: You are old enough to drive. If below 18 give feedback to wait for the missing amount of years. Output:\n",
    "    ```sh\n",
    "    Enter your age: 30\n",
    "    You are old enough to learn to drive.\n",
    "    Output:\n",
    "    Enter your age: 15\n",
    "    You need 3 more years to learn to drive.\n",
    "    ```\n",
    "2. Compare the values of my_age and your_age using if … else. Who is older (me or you)? Use input(“Enter your age: ”) to get the age as input. You can use a nested condition to print 'year' for 1 year difference in age, 'years' for bigger differences, and a custom text if my_age = your_age. Output:\n",
    "    ```sh\n",
    "    Enter your age: 30\n",
    "    You are 5 years older than me.\n",
    "    ```\n",
    "\n",
    "\n",
    "3. Get two numbers from the user using input prompt. If a is greater than b return a is greater than b, if a is less b return a is smaller than b, else a is equal to b. Output:\n",
    "    ```sh\n",
    "    Enter number one: 4\n",
    "    Enter number two: 3\n",
    "    4 is greater than 3\n",
    "    ```\n",
    "\n",
    "### Exercises: Level 2\n",
    "\n",
    "1. Write a code which gives grade to students according to theirs scores:\n",
    "    ```sh\n",
    "    90-100, A\n",
    "    70-89, B\n",
    "    60-69, C\n",
    "    50-59, D\n",
    "    0-49, F\n",
    "    ```\n",
    "        \n",
    "2. Check if the season is Autumn, Winter, Spring or Summer. If the user input is:\n",
    "    September, October or November, the season is Autumn.\n",
    "    December, January or February, the season is Winter.\n",
    "    March, April or May, the season is Spring\n",
    "    June, July or August, the season is Summer\n",
    "\n",
    "3. The following list contains some fruits:\n",
    "    ```sh\n",
    "    fruits = ['banana', 'orange', 'mango', 'lemon']\n",
    "    ```\n",
    "   If a fruit doesn't exist in the list add the fruit to the list and print the modified list. If the fruit exists print('That fruit already exist in the list') \n",
    "\n",
    "### Exercises: Level 3\n",
    "\n",
    "1. Here we have a person dictionary. Feel free to modify it!\n",
    "   \n",
    "    ```py\n",
    "    person={\n",
    "        'first_name': 'Aurora',\n",
    "        'last_name': 'Luna',\n",
    "        'age': 6,\n",
    "        'country': 'Indonesia',\n",
    "        'skills': ['JavaScript', 'React', 'Node', 'MongoDB', 'Python'],\n",
    "        'address': {\n",
    "            'street': 'Jl. Jalan',\n",
    "            'zipcode': '123456'\n",
    "        }\n",
    "    }\n",
    "    ```\n",
    "\n",
    "    * Check if the person dictionary has skills key, if so print out the middle skill in the skills list.\n",
    "    * Check if the person dictionary has skills key, if so check if the person has 'Python' skill and print out the result.\n",
    "    * If a person skills has only JavaScript and React, print('He is a front end developer'), if the person skills has Node, Python, MongoDB, print('He is a backend developer'), if the person skills has React, Node and MongoDB, Print('He is a fullstack developer'), else print('unknown title') - for more accurate results more conditions can be nested!\n",
    "    * If the person lives in Indonesia, print the information in the following format:\n",
    "\n",
    "        ```py\n",
    "        Aurora Luna lives in Indonesia.\n",
    "        ```"
   ]
  },
  {
   "cell_type": "markdown",
   "id": "f9681517",
   "metadata": {},
   "source": []
  }
 ],
 "metadata": {
  "kernelspec": {
   "display_name": "Python 3 (ipykernel)",
   "language": "python",
   "name": "python3"
  },
  "language_info": {
   "codemirror_mode": {
    "name": "ipython",
    "version": 3
   },
   "file_extension": ".py",
   "mimetype": "text/x-python",
   "name": "python",
   "nbconvert_exporter": "python",
   "pygments_lexer": "ipython3",
   "version": "3.12.4"
  }
 },
 "nbformat": 4,
 "nbformat_minor": 5
}
