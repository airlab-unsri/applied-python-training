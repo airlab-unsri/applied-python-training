{
 "cells": [
  {
   "cell_type": "markdown",
   "id": "7ed149b8-ecf8-4057-9b34-7cc3fcdd5aa4",
   "metadata": {},
   "source": [
    "# Tuples\n",
    "\n",
    "A tuple is a collection of different data types which is ordered and unchangeable (immutable). Tuples are written with round brackets, `()`. Once a tuple is created, we cannot change its values. We cannot use add, insert, remove methods in a tuple because it is not modifiable (mutable). Methods related to tuples:\n",
    "\n",
    "* `tuple()`: to create an empty tuple\n",
    "* `count()`: to count the number of a specified item in a tuple\n",
    "* `index()`: to find the index of a specified item in a tuple\n",
    "* `operator`: to join two or more tuples and to create a new tuple\n",
    "\n",
    "```{contents}\n",
    ":local:\n",
    "```"
   ]
  },
  {
   "cell_type": "markdown",
   "id": "bd07ee80-a37b-4af3-a91b-f97fab66e7fe",
   "metadata": {},
   "source": [
    "## Creating a Tuple"
   ]
  },
  {
   "cell_type": "code",
   "execution_count": 1,
   "id": "c144e567-9c4b-458f-8368-2d11e8fe73d5",
   "metadata": {},
   "outputs": [
    {
     "data": {
      "text/plain": [
       "()"
      ]
     },
     "execution_count": 1,
     "metadata": {},
     "output_type": "execute_result"
    }
   ],
   "source": [
    "empty_tuple = ()\n",
    "empty_tuple"
   ]
  },
  {
   "cell_type": "code",
   "execution_count": 2,
   "id": "98819343-dad4-4098-a3ad-c4da1b39652b",
   "metadata": {},
   "outputs": [
    {
     "data": {
      "text/plain": [
       "()"
      ]
     },
     "execution_count": 2,
     "metadata": {},
     "output_type": "execute_result"
    }
   ],
   "source": [
    "empty_tuple = tuple()\n",
    "empty_tuple"
   ]
  },
  {
   "cell_type": "code",
   "execution_count": 3,
   "id": "002b4c93-ab3a-47ef-9734-1f085e15b645",
   "metadata": {},
   "outputs": [
    {
     "data": {
      "text/plain": [
       "('item1', 'item2', 'item3')"
      ]
     },
     "execution_count": 3,
     "metadata": {},
     "output_type": "execute_result"
    }
   ],
   "source": [
    "tpl = (\"item1\", \"item2\", \"item3\")\n",
    "tpl"
   ]
  },
  {
   "cell_type": "code",
   "execution_count": 4,
   "id": "b3bce85b-c949-4478-ab4a-56e0a6ed3a8e",
   "metadata": {},
   "outputs": [
    {
     "data": {
      "text/plain": [
       "('banana', 'orange', 'mango', 'lemon')"
      ]
     },
     "execution_count": 4,
     "metadata": {},
     "output_type": "execute_result"
    }
   ],
   "source": [
    "fruits = (\"banana\", \"orange\", \"mango\", \"lemon\")\n",
    "fruits"
   ]
  },
  {
   "cell_type": "markdown",
   "id": "380887e5-2932-4d46-9eb0-f310cf73c9ec",
   "metadata": {},
   "source": [
    "## Tuple length"
   ]
  },
  {
   "cell_type": "code",
   "execution_count": 5,
   "id": "9ab5a1f9-7769-4f55-bfc1-a8f49e695580",
   "metadata": {},
   "outputs": [
    {
     "data": {
      "text/plain": [
       "3"
      ]
     },
     "execution_count": 5,
     "metadata": {},
     "output_type": "execute_result"
    }
   ],
   "source": [
    "tpl = (\"item1\", \"item2\", \"item3\")\n",
    "len(tpl)"
   ]
  },
  {
   "cell_type": "markdown",
   "id": "cc77acf1-28c1-492a-8dd9-4eda79776ef4",
   "metadata": {},
   "source": [
    "## Accessing Tuple Items\n",
    "\n",
    "### Positive indexing\n",
    "\n",
    "Similar to the list data type we use positive or negative indexing to access tuple items."
   ]
  },
  {
   "cell_type": "code",
   "execution_count": 6,
   "id": "e4bc365b-2edc-42d0-9b80-4515ef4a0a1a",
   "metadata": {},
   "outputs": [
    {
     "name": "stdout",
     "output_type": "stream",
     "text": [
      "item1\n",
      "item2\n"
     ]
    }
   ],
   "source": [
    "tpl = (\"item1\", \"item2\", \"item3\")\n",
    "\n",
    "first_item = tpl[0]\n",
    "print(first_item)\n",
    "\n",
    "second_item = tpl[1]\n",
    "print(second_item)"
   ]
  },
  {
   "cell_type": "code",
   "execution_count": 7,
   "id": "a2b00079-86aa-4898-83eb-0b5a3e1db1f3",
   "metadata": {},
   "outputs": [
    {
     "name": "stdout",
     "output_type": "stream",
     "text": [
      "banana\n",
      "orange\n",
      "3\n",
      "lemon\n"
     ]
    }
   ],
   "source": [
    "fruits = (\"banana\", \"orange\", \"mango\", \"lemon\")\n",
    "\n",
    "first_fruit = fruits[0]\n",
    "print(first_fruit)\n",
    "\n",
    "second_fruit = fruits[1]\n",
    "print(second_fruit)\n",
    "\n",
    "last_index = len(fruits) - 1\n",
    "print(last_index)\n",
    "\n",
    "last_fruit = fruits[last_index]\n",
    "print(last_fruit)"
   ]
  },
  {
   "cell_type": "markdown",
   "id": "fabd8330-400b-4a7d-b26f-c97b3bed641e",
   "metadata": {},
   "source": [
    "### Negative indexing\n",
    "\n",
    "Negative indexing means beginning from the end, -1 refers to the last item, -2 refers to the second last and the negative of the list/tuple length refers to the first item."
   ]
  },
  {
   "cell_type": "code",
   "execution_count": 8,
   "id": "ca9bf2cc-323e-42da-b7f6-96fe63f33716",
   "metadata": {},
   "outputs": [
    {
     "name": "stdout",
     "output_type": "stream",
     "text": [
      "item1\n",
      "item2\n"
     ]
    }
   ],
   "source": [
    "tpl = (\"item1\", \"item2\", \"item3\", \"item4\")\n",
    "\n",
    "first_item = tpl[-4]\n",
    "print(first_item)\n",
    "\n",
    "second_item = tpl[-3]\n",
    "print(second_item)"
   ]
  },
  {
   "cell_type": "code",
   "execution_count": 9,
   "id": "ead3c531-f0ce-4ac2-9068-201d5aed45d4",
   "metadata": {},
   "outputs": [
    {
     "name": "stdout",
     "output_type": "stream",
     "text": [
      "banana\n",
      "orange\n",
      "lemon\n"
     ]
    }
   ],
   "source": [
    "fruits = (\"banana\", \"orange\", \"mango\", \"lemon\")\n",
    "\n",
    "first_fruit = fruits[-4]\n",
    "print(first_fruit)\n",
    "\n",
    "second_fruit = fruits[-3]\n",
    "print(second_fruit)\n",
    "\n",
    "last_fruit = fruits[-1]\n",
    "print(last_fruit)"
   ]
  },
  {
   "cell_type": "markdown",
   "id": "a3ab001d-525f-4d4b-bb6f-71043ec9bb24",
   "metadata": {},
   "source": [
    "## Slicing tuples\n",
    "\n",
    "We can slice out a sub-tuple by specifying a range of indexes where to start and where to end in the tuple, the return value will be a new tuple with the specified items.\n",
    "\n",
    "### Range of Positive Indexes"
   ]
  },
  {
   "cell_type": "code",
   "execution_count": 10,
   "id": "4da803f3-b802-4426-896d-5a12dc247804",
   "metadata": {},
   "outputs": [
    {
     "name": "stdout",
     "output_type": "stream",
     "text": [
      "('item1', 'item2', 'item3', 'item4')\n",
      "('item1', 'item2', 'item3', 'item4')\n",
      "('item2', 'item3')\n"
     ]
    }
   ],
   "source": [
    "tpl = (\"item1\", \"item2\", \"item3\", \"item4\")\n",
    "\n",
    "all_items = tpl[0:4]\n",
    "print(all_items)\n",
    "\n",
    "all_items = tpl[0:]\n",
    "print(all_items)\n",
    "\n",
    "middle_two_items = tpl[1:3]\n",
    "print(middle_two_items)"
   ]
  },
  {
   "cell_type": "code",
   "execution_count": 11,
   "id": "20a7d0bb-9c60-4309-8824-0df78a1388aa",
   "metadata": {},
   "outputs": [
    {
     "name": "stdout",
     "output_type": "stream",
     "text": [
      "('banana', 'orange', 'mango', 'lemon')\n",
      "('banana', 'orange', 'mango', 'lemon')\n",
      "('orange', 'mango')\n",
      "('orange', 'mango', 'lemon')\n"
     ]
    }
   ],
   "source": [
    "fruits = (\"banana\", \"orange\", \"mango\", \"lemon\")\n",
    "\n",
    "all_fruits = fruits[0:4]\n",
    "print(all_fruits)\n",
    "\n",
    "all_fruits = fruits[0:]\n",
    "print(all_fruits)\n",
    "\n",
    "orange_mango = fruits[1:3]\n",
    "print(orange_mango)\n",
    "\n",
    "orange_to_the_rest = fruits[1:]\n",
    "print(orange_to_the_rest)"
   ]
  },
  {
   "cell_type": "markdown",
   "id": "3aae0fe8-2c12-48d5-9b44-a3165b964d55",
   "metadata": {},
   "source": [
    "### Range of Negative Indexes"
   ]
  },
  {
   "cell_type": "code",
   "execution_count": 12,
   "id": "799367d1-e938-4deb-8140-278475e35e9d",
   "metadata": {},
   "outputs": [
    {
     "name": "stdout",
     "output_type": "stream",
     "text": [
      "('item1', 'item2', 'item3', 'item4')\n",
      "('item2', 'item3')\n"
     ]
    }
   ],
   "source": [
    "tpl = (\"item1\", \"item2\", \"item3\", \"item4\")\n",
    "\n",
    "all_items = tpl[-4:]\n",
    "print(all_items)\n",
    "\n",
    "middle_two_items = tpl[-3:-1]\n",
    "print(middle_two_items)"
   ]
  },
  {
   "cell_type": "code",
   "execution_count": 13,
   "id": "777058eb-199c-4a49-b6d1-675e7db18ddc",
   "metadata": {},
   "outputs": [
    {
     "name": "stdout",
     "output_type": "stream",
     "text": [
      "('banana', 'orange', 'mango', 'lemon')\n",
      "('orange', 'mango')\n",
      "('orange', 'mango', 'lemon')\n"
     ]
    }
   ],
   "source": [
    "fruits = (\"banana\", \"orange\", \"mango\", \"lemon\")\n",
    "\n",
    "all_fruits = fruits[-4:]\n",
    "print(all_fruits)\n",
    "\n",
    "orange_mango = fruits[-3:-1]\n",
    "print(orange_mango)\n",
    "\n",
    "orange_to_the_rest = fruits[-3:]\n",
    "print(orange_to_the_rest)"
   ]
  },
  {
   "cell_type": "markdown",
   "id": "7dce7f28-895a-4cf8-a6cf-b9a93668e5f0",
   "metadata": {},
   "source": [
    "## Changing Tuples to Lists\n",
    "\n",
    "We can change tuples to lists and vice verse. Tuple is immutable if we want to modify a tuple we should change it to a list."
   ]
  },
  {
   "cell_type": "code",
   "execution_count": 14,
   "id": "e8d66c39-4acd-42c8-8137-3589e9963845",
   "metadata": {},
   "outputs": [
    {
     "data": {
      "text/plain": [
       "['item1', 'item2', 'item3', 'item4']"
      ]
     },
     "execution_count": 14,
     "metadata": {},
     "output_type": "execute_result"
    }
   ],
   "source": [
    "tpl = (\"item1\", \"item2\", \"item3\", \"item4\")\n",
    "lst = list(tpl)\n",
    "lst"
   ]
  },
  {
   "cell_type": "code",
   "execution_count": 15,
   "id": "0343f65c-8188-4cec-a697-d8ad8345bf4c",
   "metadata": {},
   "outputs": [
    {
     "name": "stdout",
     "output_type": "stream",
     "text": [
      "['apple', 'orange', 'mango', 'lemon']\n",
      "('apple', 'orange', 'mango', 'lemon')\n"
     ]
    }
   ],
   "source": [
    "fruits = (\"banana\", \"orange\", \"mango\", \"lemon\")\n",
    "fruits = list(fruits)\n",
    "fruits[0] = \"apple\"\n",
    "print(fruits)\n",
    "\n",
    "fruits = tuple(fruits)\n",
    "print(fruits)"
   ]
  },
  {
   "cell_type": "markdown",
   "id": "fd757d25-0f0c-4a7c-9602-e9103a75db48",
   "metadata": {},
   "source": [
    "## Checking an Item in a Tuple\n",
    "\n",
    "We can check if an item exists or not in a tuple using `in`, it returns a boolean."
   ]
  },
  {
   "cell_type": "code",
   "execution_count": 16,
   "id": "af9f642d-d6a1-4ba9-a782-75d2b4975c44",
   "metadata": {},
   "outputs": [
    {
     "data": {
      "text/plain": [
       "True"
      ]
     },
     "execution_count": 16,
     "metadata": {},
     "output_type": "execute_result"
    }
   ],
   "source": [
    "tpl = (\"item1\", \"item2\", \"item3\", \"item4\")\n",
    "\"item2\" in tpl"
   ]
  },
  {
   "cell_type": "code",
   "execution_count": 17,
   "id": "16aea648-7313-4931-9be6-f7f774d77541",
   "metadata": {},
   "outputs": [
    {
     "name": "stdout",
     "output_type": "stream",
     "text": [
      "True\n",
      "False\n"
     ]
    }
   ],
   "source": [
    "fruits = (\"banana\", \"orange\", \"mango\", \"lemon\")\n",
    "print(\"orange\" in fruits)  # True\n",
    "print(\"apple\" in fruits)  # False"
   ]
  },
  {
   "cell_type": "code",
   "execution_count": 18,
   "id": "cc1d8e4b-e790-4a3f-a7a2-6546c4d617b3",
   "metadata": {},
   "outputs": [],
   "source": [
    "# fruits[0] = 'apple' # Will raise exception: TypeError: 'tuple' object does not support item assignment"
   ]
  },
  {
   "cell_type": "markdown",
   "id": "2b9f378d-4959-4346-ad04-b7f37b8a4ef5",
   "metadata": {},
   "source": [
    "## Joining Tuples\n",
    "\n",
    "We can join two or more tuples using `+` operator."
   ]
  },
  {
   "cell_type": "code",
   "execution_count": 19,
   "id": "3d3c86e3-d191-42c5-9b1f-f956d8cb0e42",
   "metadata": {},
   "outputs": [
    {
     "data": {
      "text/plain": [
       "('item1', 'item2', 'item3', 'item4', 'item5', 'item6')"
      ]
     },
     "execution_count": 19,
     "metadata": {},
     "output_type": "execute_result"
    }
   ],
   "source": [
    "tpl1 = (\"item1\", \"item2\", \"item3\")\n",
    "tpl2 = (\"item4\", \"item5\", \"item6\")\n",
    "tpl3 = tpl1 + tpl2\n",
    "tpl3"
   ]
  },
  {
   "cell_type": "code",
   "execution_count": 20,
   "id": "c04ef8ac-c679-4316-90dc-7697604fdf43",
   "metadata": {},
   "outputs": [
    {
     "data": {
      "text/plain": [
       "('banana',\n",
       " 'orange',\n",
       " 'mango',\n",
       " 'lemon',\n",
       " 'Tomato',\n",
       " 'Potato',\n",
       " 'Cabbage',\n",
       " 'Onion',\n",
       " 'Carrot')"
      ]
     },
     "execution_count": 20,
     "metadata": {},
     "output_type": "execute_result"
    }
   ],
   "source": [
    "fruits = (\"banana\", \"orange\", \"mango\", \"lemon\")\n",
    "vegetables = (\"Tomato\", \"Potato\", \"Cabbage\", \"Onion\", \"Carrot\")\n",
    "fruits_and_vegetables = fruits + vegetables\n",
    "fruits_and_vegetables"
   ]
  },
  {
   "cell_type": "markdown",
   "id": "7fbec865-0786-42a5-a1ac-f95f21aeedaa",
   "metadata": {},
   "source": [
    "## Deleting Tuples\n",
    "\n",
    "It is not possible to remove a single item in a tuple but it is possible to delete the tuple itself using `del`."
   ]
  },
  {
   "cell_type": "code",
   "execution_count": 21,
   "id": "6e087f93-652c-46ec-9bd2-e4f444b69219",
   "metadata": {},
   "outputs": [],
   "source": [
    "tpl1 = (\"item1\", \"item2\", \"item3\")\n",
    "del tpl1"
   ]
  },
  {
   "cell_type": "code",
   "execution_count": 22,
   "id": "44e83daa-be52-48ad-be83-55df371e0165",
   "metadata": {},
   "outputs": [],
   "source": [
    "fruits = (\"banana\", \"orange\", \"mango\", \"lemon\")\n",
    "del fruits"
   ]
  }
 ],
 "metadata": {
  "kernelspec": {
   "display_name": "Python 3 (ipykernel)",
   "language": "python",
   "name": "python3"
  },
  "language_info": {
   "codemirror_mode": {
    "name": "ipython",
    "version": 3
   },
   "file_extension": ".py",
   "mimetype": "text/x-python",
   "name": "python",
   "nbconvert_exporter": "python",
   "pygments_lexer": "ipython3",
   "version": "3.12.4"
  }
 },
 "nbformat": 4,
 "nbformat_minor": 5
}
