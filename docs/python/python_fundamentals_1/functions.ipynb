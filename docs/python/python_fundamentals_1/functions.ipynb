{
 "cells": [
  {
   "cell_type": "markdown",
   "id": "c625330b-7f50-4db7-ade1-482108cac039",
   "metadata": {},
   "source": [
    "# Functions\n",
    "\n",
    "So far we have seen many built-in Python functions. In this section, we will focus on custom functions. What is a function? Before we start making functions, let us learn what a function is and why we need them?\n",
    "\n",
    "```{contents}\n",
    ":local:\n",
    "```"
   ]
  },
  {
   "cell_type": "markdown",
   "id": "d782183f-a244-4ede-a390-5c252207a6cf",
   "metadata": {},
   "source": [
    "## Defining a Function\n",
    "\n",
    "A function is a reusable block of code or programming statements designed to perform a certain task. To define or declare a function, Python provides the def keyword. The following is the syntax for defining a function. The function block of code is executed only if the function is called or invoked.\n",
    "\n",
    "## Declaring and Calling a Function\n",
    "\n",
    "When we make a function, we call it declaring a function. When we start using the it, we call it calling or invoking a function. Function can be declared with or without parameters.\n",
    "\n",
    "```\n",
    "# Declaring a function\n",
    "def function_name():\n",
    "    codes\n",
    "    codes\n",
    "\n",
    "# Calling a function\n",
    "function_name()\n",
    "```"
   ]
  },
  {
   "cell_type": "markdown",
   "id": "fbe978c2-6747-44c8-a047-df86176867cb",
   "metadata": {},
   "source": [
    "## Function without Parameters\n",
    "\n",
    "Function can be declared without parameters."
   ]
  },
  {
   "cell_type": "code",
   "execution_count": 1,
   "id": "2022fe1e-4834-4754-87e0-758a422dc705",
   "metadata": {},
   "outputs": [
    {
     "name": "stdout",
     "output_type": "stream",
     "text": [
      "Aurora Luna\n"
     ]
    }
   ],
   "source": [
    "def generate_full_name():\n",
    "    first_name = \"Aurora\"\n",
    "    last_name = \"Luna\"\n",
    "    space = \" \"\n",
    "    full_name = first_name + space + last_name\n",
    "    print(full_name)\n",
    "\n",
    "\n",
    "generate_full_name()"
   ]
  },
  {
   "cell_type": "code",
   "execution_count": 2,
   "id": "44f501ed-d4bb-4bbe-907b-114579124519",
   "metadata": {},
   "outputs": [
    {
     "name": "stdout",
     "output_type": "stream",
     "text": [
      "5\n"
     ]
    }
   ],
   "source": [
    "def add_two_numbers():\n",
    "    num_one = 2\n",
    "    num_two = 3\n",
    "    total = num_one + num_two\n",
    "    print(total)\n",
    "\n",
    "\n",
    "add_two_numbers()"
   ]
  },
  {
   "cell_type": "markdown",
   "id": "c1092559-8d60-40ff-9400-0a5e8239960f",
   "metadata": {},
   "source": [
    "## Function Returning a Value - Part 1\n",
    "\n",
    "Function can also return values, if a function does not have a return statement, the value of the function is None. Let us rewrite the above functions using return. From now on, we get a value from a function when we call the function and print it."
   ]
  },
  {
   "cell_type": "code",
   "execution_count": 3,
   "id": "fe89d8cb-16c2-460e-8705-e00069d58d65",
   "metadata": {},
   "outputs": [
    {
     "name": "stdout",
     "output_type": "stream",
     "text": [
      "Aurora Luna\n"
     ]
    }
   ],
   "source": [
    "def generate_full_name():\n",
    "    first_name = \"Aurora\"\n",
    "    last_name = \"Luna\"\n",
    "    space = \" \"\n",
    "    full_name = first_name + space + last_name\n",
    "    return full_name\n",
    "\n",
    "\n",
    "print(generate_full_name())"
   ]
  },
  {
   "cell_type": "code",
   "execution_count": 4,
   "id": "7af0019b-a151-4f84-a615-1c7576786585",
   "metadata": {},
   "outputs": [
    {
     "name": "stdout",
     "output_type": "stream",
     "text": [
      "5\n"
     ]
    }
   ],
   "source": [
    "def add_two_numbers():\n",
    "    num_one = 2\n",
    "    num_two = 3\n",
    "    total = num_one + num_two\n",
    "    return total\n",
    "\n",
    "\n",
    "print(add_two_numbers())"
   ]
  },
  {
   "cell_type": "markdown",
   "id": "1da2a659-e2b3-4cdd-b927-591fbfbf2c94",
   "metadata": {},
   "source": [
    "## Function with Parameters\n",
    "\n",
    "In a function we can pass different data types(number, string, boolean, list, tuple, dictionary or set) as a parameter\n",
    "\n",
    "**Single Parameter**: If our function takes a parameter we should call our function with an argument\n",
    "\n",
    "```\n",
    "# Declaring a function\n",
    "def function_name(parameter):\n",
    "    codes\n",
    "    codes\n",
    "\n",
    "# Calling function\n",
    "print(function_name(argument))\n",
    "```"
   ]
  },
  {
   "cell_type": "code",
   "execution_count": 5,
   "id": "fcaeaf5d-c11a-489a-96d1-fa361c21baa3",
   "metadata": {},
   "outputs": [
    {
     "name": "stdout",
     "output_type": "stream",
     "text": [
      "Aurora, welcome to Applied Python Training!\n"
     ]
    }
   ],
   "source": [
    "def greetings(name):\n",
    "    message = name + \", welcome to Applied Python Training!\"\n",
    "    return message\n",
    "\n",
    "\n",
    "print(greetings(\"Aurora\"))"
   ]
  },
  {
   "cell_type": "code",
   "execution_count": 6,
   "id": "8e4de26c-6f9c-4346-b361-906e59d66025",
   "metadata": {},
   "outputs": [
    {
     "name": "stdout",
     "output_type": "stream",
     "text": [
      "100\n"
     ]
    }
   ],
   "source": [
    "def add_ten(num):\n",
    "    ten = 10\n",
    "    return num + ten\n",
    "\n",
    "\n",
    "print(add_ten(90))"
   ]
  },
  {
   "cell_type": "code",
   "execution_count": 7,
   "id": "8ce5c38b-b49c-42e2-bc58-a0178b9ea3f0",
   "metadata": {},
   "outputs": [
    {
     "name": "stdout",
     "output_type": "stream",
     "text": [
      "4\n"
     ]
    }
   ],
   "source": [
    "def square_number(x):\n",
    "    return x * x\n",
    "\n",
    "\n",
    "print(square_number(2))"
   ]
  },
  {
   "cell_type": "code",
   "execution_count": 8,
   "id": "20287fe2-3018-4d7e-adfa-bd488bb5d331",
   "metadata": {},
   "outputs": [
    {
     "name": "stdout",
     "output_type": "stream",
     "text": [
      "314.0\n"
     ]
    }
   ],
   "source": [
    "def area_of_circle(r):\n",
    "    PI = 3.14\n",
    "    area = PI * r**2\n",
    "    return area\n",
    "\n",
    "\n",
    "print(area_of_circle(10))"
   ]
  },
  {
   "cell_type": "code",
   "execution_count": 9,
   "id": "418b57af-e55b-40f9-bd89-4350cfbfe142",
   "metadata": {},
   "outputs": [
    {
     "name": "stdout",
     "output_type": "stream",
     "text": [
      "55\n",
      "None\n",
      "5050\n",
      "None\n"
     ]
    }
   ],
   "source": [
    "def sum_of_numbers(n):\n",
    "    total = 0\n",
    "    for i in range(n + 1):\n",
    "        total += i\n",
    "    print(total)\n",
    "\n",
    "\n",
    "print(sum_of_numbers(10))\n",
    "print(sum_of_numbers(100))"
   ]
  },
  {
   "cell_type": "markdown",
   "id": "73262ca7-fb5f-4c05-8dc3-19e57992102e",
   "metadata": {},
   "source": [
    "**Two Parameter**: A function may or may not have a parameter or parameters. A function may also have two or more parameters. If our function takes parameters we should call it with arguments. Let us check a function with two parameters:\n",
    "\n",
    "```\n",
    " # Declaring a function\n",
    "def function_name(para1, para2):\n",
    "    codes\n",
    "    codes\n",
    "\n",
    "# Calling function\n",
    "print(function_name(arg1, arg2))\n",
    "```"
   ]
  },
  {
   "cell_type": "code",
   "execution_count": 10,
   "id": "4f7ff307-e254-433d-ac3d-0533c2515bd3",
   "metadata": {},
   "outputs": [
    {
     "name": "stdout",
     "output_type": "stream",
     "text": [
      "Full Name: Aurora Luna\n"
     ]
    }
   ],
   "source": [
    "def generate_full_name(first_name, last_name):\n",
    "    space = \" \"\n",
    "    full_name = first_name + space + last_name\n",
    "    return full_name\n",
    "\n",
    "\n",
    "print(\"Full Name:\", generate_full_name(\"Aurora\", \"Luna\"))"
   ]
  },
  {
   "cell_type": "code",
   "execution_count": 11,
   "id": "9fb7913b-edbd-47b4-be82-025026f248f6",
   "metadata": {},
   "outputs": [
    {
     "name": "stdout",
     "output_type": "stream",
     "text": [
      "Sum of two numbers: 10\n"
     ]
    }
   ],
   "source": [
    "def sum_two_numbers(num_one, num_two):\n",
    "    sum = num_one + num_two\n",
    "    return sum\n",
    "\n",
    "\n",
    "print(\"Sum of two numbers:\", sum_two_numbers(1, 9))"
   ]
  },
  {
   "cell_type": "code",
   "execution_count": 12,
   "id": "ff631115-e80a-4858-b34c-3cde3b6fd639",
   "metadata": {},
   "outputs": [
    {
     "name": "stdout",
     "output_type": "stream",
     "text": [
      "Age: 20\n"
     ]
    }
   ],
   "source": [
    "def calculate_age(current_year, birth_year):\n",
    "    age = current_year - birth_year\n",
    "    return age\n",
    "\n",
    "\n",
    "print(\"Age:\", calculate_age(2024, 2004))"
   ]
  },
  {
   "cell_type": "code",
   "execution_count": 13,
   "id": "9b0d6091-1de9-426d-89ab-06b65d7648d3",
   "metadata": {},
   "outputs": [
    {
     "name": "stdout",
     "output_type": "stream",
     "text": [
      "Weight of an object in Newtons: 981.0 N\n"
     ]
    }
   ],
   "source": [
    "def weight_of_object(mass, gravity):\n",
    "    weight = str(mass * gravity) + \" N\"  # the value has to be changed to a string first\n",
    "    return weight\n",
    "\n",
    "\n",
    "print(\"Weight of an object in Newtons:\", weight_of_object(100, 9.81))"
   ]
  },
  {
   "cell_type": "markdown",
   "id": "6562b909-b49e-4bbc-add2-441b54862d44",
   "metadata": {},
   "source": [
    "## Passing Arguments with Key and Value\n",
    "\n",
    "If we pass the arguments with key and value, the order of the arguments does not matter.\n",
    "\n",
    "```\n",
    "# Declaring a function\n",
    "def function_name(para1, para2):\n",
    "    codes\n",
    "    codes\n",
    "\n",
    "# Calling function\n",
    "print(function_name(para1 = 'John', para2 = 'Doe')) # the order of arguments does not matter here\n",
    "```"
   ]
  },
  {
   "cell_type": "code",
   "execution_count": 14,
   "id": "140dc909-43f7-4fec-bf28-ee29ed61550e",
   "metadata": {},
   "outputs": [
    {
     "name": "stdout",
     "output_type": "stream",
     "text": [
      "Aurora Luna\n"
     ]
    }
   ],
   "source": [
    "def print_fullname(firstname, lastname):\n",
    "    space = \" \"\n",
    "    return firstname + space + lastname\n",
    "\n",
    "\n",
    "print(print_fullname(firstname=\"Aurora\", lastname=\"Luna\"))"
   ]
  },
  {
   "cell_type": "code",
   "execution_count": 15,
   "id": "5f38fb72-2a22-4395-b296-d7af538c5bba",
   "metadata": {},
   "outputs": [
    {
     "name": "stdout",
     "output_type": "stream",
     "text": [
      "5\n"
     ]
    }
   ],
   "source": [
    "def add_two_numbers(num1, num2):\n",
    "    total = num1 + num2\n",
    "    return total\n",
    "\n",
    "\n",
    "print(add_two_numbers(num2=3, num1=2))"
   ]
  },
  {
   "cell_type": "markdown",
   "id": "5184d059-56ba-4a82-b1a4-8c0e478d4687",
   "metadata": {},
   "source": [
    "## Function Returning a Value - Part 2\n",
    "\n",
    "If we do not return a value with a function, then our function is returning `None` by default. To return a value with a function we use the keyword `return` followed by the variable we are returning. We can return any kind of data types from a function.\n",
    "\n",
    "### Example: Returning a string"
   ]
  },
  {
   "cell_type": "code",
   "execution_count": 16,
   "id": "ef091fc0-66ef-4992-ba9c-d35564d5ba43",
   "metadata": {},
   "outputs": [
    {
     "data": {
      "text/plain": [
       "'Aurora Luna'"
      ]
     },
     "execution_count": 16,
     "metadata": {},
     "output_type": "execute_result"
    }
   ],
   "source": [
    "def full_name(firstname, lastname):\n",
    "    space = \" \"\n",
    "    full_name = firstname + space + lastname\n",
    "    return full_name\n",
    "\n",
    "\n",
    "full_name(firstname=\"Aurora\", lastname=\"Luna\")"
   ]
  },
  {
   "cell_type": "markdown",
   "id": "294fd1c6-8821-45c1-8a92-b1490ba456e5",
   "metadata": {},
   "source": [
    "### Example: Returning a number"
   ]
  },
  {
   "cell_type": "code",
   "execution_count": 17,
   "id": "2cf06818-b4b9-4e9c-aeb8-ed84d47224cb",
   "metadata": {},
   "outputs": [
    {
     "name": "stdout",
     "output_type": "stream",
     "text": [
      "Age: 20\n"
     ]
    }
   ],
   "source": [
    "def calculate_age(current_year, birth_year):\n",
    "    age = current_year - birth_year\n",
    "    return age\n",
    "\n",
    "\n",
    "print(\"Age:\", calculate_age(2024, 2004))"
   ]
  },
  {
   "cell_type": "markdown",
   "id": "7064a9d4-0920-4d3c-af14-0bbf933082b3",
   "metadata": {},
   "source": [
    "### Example: Returning a boolean"
   ]
  },
  {
   "cell_type": "code",
   "execution_count": 18,
   "id": "e804c860-c7f6-471a-b5ef-e8efa42e6297",
   "metadata": {},
   "outputs": [
    {
     "name": "stdout",
     "output_type": "stream",
     "text": [
      "True\n"
     ]
    }
   ],
   "source": [
    "def is_even(n):\n",
    "    if n % 2 == 0:\n",
    "        return True  # return stops further execution of the function, similar to break\n",
    "    return False\n",
    "\n",
    "\n",
    "print(is_even(10))"
   ]
  },
  {
   "cell_type": "markdown",
   "id": "d3c153c1-32db-49f2-810e-b3460832647f",
   "metadata": {},
   "source": [
    "### Example: Returning a list"
   ]
  },
  {
   "cell_type": "code",
   "execution_count": 19,
   "id": "7483d320-0db0-4d86-bb1b-dd87c8e8f263",
   "metadata": {},
   "outputs": [
    {
     "name": "stdout",
     "output_type": "stream",
     "text": [
      "[0, 2, 4, 6, 8, 10]\n"
     ]
    }
   ],
   "source": [
    "def get_even_numbers(n):\n",
    "    evens = []\n",
    "    for i in range(n + 1):\n",
    "        if i % 2 == 0:\n",
    "            evens.append(i)\n",
    "    return evens\n",
    "\n",
    "\n",
    "print(get_even_numbers(10))"
   ]
  },
  {
   "cell_type": "markdown",
   "id": "a8689b58-84a4-4b4c-9101-7d2832be3ee8",
   "metadata": {},
   "source": [
    "## Function with Default Parameters\n",
    "\n",
    "Sometimes we pass default values to parameters, when we invoke the function. If we do not pass arguments when calling the function, their default values will be used.\n",
    "\n",
    "```\n",
    "# Declaring a function\n",
    "def function_name(param = value):\n",
    "    codes\n",
    "    codes\n",
    "\n",
    "# Calling function\n",
    "function_name()\n",
    "function_name(arg)\n",
    "```"
   ]
  },
  {
   "cell_type": "code",
   "execution_count": 20,
   "id": "02d30759-c089-4b83-a6c0-d2c14660644c",
   "metadata": {},
   "outputs": [
    {
     "name": "stdout",
     "output_type": "stream",
     "text": [
      "Arief, welcome to Python for Everyone!\n",
      "Aurora, welcome to Python for Everyone!\n"
     ]
    }
   ],
   "source": [
    "def greetings(name=\"Arief\"):\n",
    "    message = name + \", welcome to Python for Everyone!\"\n",
    "    return message\n",
    "\n",
    "\n",
    "print(greetings())\n",
    "print(greetings(\"Aurora\"))"
   ]
  },
  {
   "cell_type": "code",
   "execution_count": 21,
   "id": "61f7e7e1-472f-4090-9366-3fb8ee194e42",
   "metadata": {},
   "outputs": [
    {
     "name": "stdout",
     "output_type": "stream",
     "text": [
      "First Last\n",
      "Arief Rahmansyah\n"
     ]
    }
   ],
   "source": [
    "def generate_full_name(first_name=\"First\", last_name=\"Last\"):\n",
    "    space = \" \"\n",
    "    full_name = first_name + space + last_name\n",
    "    return full_name\n",
    "\n",
    "\n",
    "print(generate_full_name())\n",
    "print(generate_full_name(\"Arief\", \"Rahmansyah\"))"
   ]
  },
  {
   "cell_type": "code",
   "execution_count": 22,
   "id": "7e13ffbc-fa4b-498f-b27b-84b6256864f8",
   "metadata": {},
   "outputs": [
    {
     "name": "stdout",
     "output_type": "stream",
     "text": [
      "Age: 20\n"
     ]
    }
   ],
   "source": [
    "def calculate_age(birth_year, current_year=2024):\n",
    "    age = current_year - birth_year\n",
    "    return age\n",
    "\n",
    "\n",
    "print(\"Age:\", calculate_age(2004))"
   ]
  },
  {
   "cell_type": "code",
   "execution_count": 23,
   "id": "aeb734ac-4a50-4939-8281-169ce669a31b",
   "metadata": {},
   "outputs": [
    {
     "name": "stdout",
     "output_type": "stream",
     "text": [
      "Weight of an object in Newtons:  981.0 N\n",
      "Weight of an object in Newtons:  162.0 N\n"
     ]
    }
   ],
   "source": [
    "def weight_of_object(mass, gravity=9.81):\n",
    "    weight = str(mass * gravity) + \" N\"  # the value has to be changed to string first\n",
    "    return weight\n",
    "\n",
    "\n",
    "# 9.81 - average gravity on Earth's surface\n",
    "print(\"Weight of an object in Newtons: \", weight_of_object(100))\n",
    "\n",
    "# gravity on the surface of the Moon\n",
    "print(\"Weight of an object in Newtons: \", weight_of_object(100, 1.62))"
   ]
  },
  {
   "cell_type": "markdown",
   "id": "5d0864a1-82d3-40ba-ac94-d028414a64c6",
   "metadata": {},
   "source": [
    "## Arbitrary Number of Arguments\n",
    "\n",
    "If we do not know the number of arguments we pass to our function, we can create a function which can take arbitrary number of arguments by using `**args` or `**kwargs`.\n",
    "\n",
    "### Using the Python `args` Variable in Function Definitions"
   ]
  },
  {
   "cell_type": "code",
   "execution_count": 24,
   "id": "a792361e-256e-4983-b79b-aea2cdc573fa",
   "metadata": {},
   "outputs": [
    {
     "name": "stdout",
     "output_type": "stream",
     "text": [
      "<class 'tuple'>\n",
      "10\n"
     ]
    }
   ],
   "source": [
    "def sum_all_nums(*args):\n",
    "    print(type(args))  # *args is a tuple\n",
    "    total = 0\n",
    "    for n in args:\n",
    "        total += n\n",
    "    return total\n",
    "\n",
    "\n",
    "print(sum_all_nums(2, 3, 5))"
   ]
  },
  {
   "cell_type": "markdown",
   "id": "04403e7b-61f1-48a2-ae78-7e8bf48b32ca",
   "metadata": {},
   "source": [
    "In this example, you’re no longer passing a list to `sum_all_nums()`. Instead, you’re passing three different positional arguments. `sum_all_nums()` takes all the parameters that are provided in the input and packs them all into a single iterable object named `args`.\n",
    "\n",
    "Note that args is just a name. You’re not required to use the name args. You can choose any name that you prefer. All that matters here is that you use the unpacking operator (*).\n",
    "\n",
    "Bear in mind that the iterable object you’ll get using the unpacking operator * is not a list but a tuple."
   ]
  },
  {
   "cell_type": "markdown",
   "id": "a9da1e99-a99d-4d20-9e7e-3237a82b606d",
   "metadata": {},
   "source": [
    "### Using the Python `kwargs` Variable in Function Definitions\n",
    "\n",
    "`**kwargs` works just like `*args`, but instead of accepting positional arguments it accepts keyword (or named) arguments."
   ]
  },
  {
   "cell_type": "code",
   "execution_count": 25,
   "id": "3ca2a1c0-1352-4906-80d7-0879ca705b29",
   "metadata": {},
   "outputs": [
    {
     "name": "stdout",
     "output_type": "stream",
     "text": [
      "AppliedPythonTrainingisGreat!\n"
     ]
    }
   ],
   "source": [
    "def concatenate(**kwargs):\n",
    "    result = \"\"\n",
    "    # Iterating over the Python kwargs dictionary\n",
    "    for arg in kwargs.values():\n",
    "        result += arg\n",
    "    return result\n",
    "\n",
    "\n",
    "print(concatenate(a=\"Applied\", b=\"Python\", c=\"Training\", d=\"is\", e=\"Great!\"))"
   ]
  },
  {
   "cell_type": "markdown",
   "id": "10fd33e4-6bdd-4558-81d1-adfac4bed74d",
   "metadata": {},
   "source": [
    "When you execute the script above, `concatenate()` will iterate through the Python kwargs dictionary and concatenate all the values it finds.\n",
    "\n",
    "Like `args`, `kwargs` is just a name that can be changed to whatever you want. Again, what is important here is the use of the unpacking operator (**)."
   ]
  },
  {
   "cell_type": "markdown",
   "id": "caf79bc7-ad1b-4341-8054-ad78dca54d22",
   "metadata": {},
   "source": [
    "## Default and Arbitrary Number of Parameters in Functions"
   ]
  },
  {
   "cell_type": "code",
   "execution_count": 26,
   "id": "00706906-f108-47fb-b497-7de24731b769",
   "metadata": {},
   "outputs": [
    {
     "name": "stdout",
     "output_type": "stream",
     "text": [
      "Team-1\n",
      "Aurora\n",
      "Raline\n",
      "Laras\n",
      "Racca\n",
      "None\n"
     ]
    }
   ],
   "source": [
    "def generate_groups(team, *args):\n",
    "    print(team)\n",
    "    for i in args:\n",
    "        print(i)\n",
    "\n",
    "\n",
    "print(generate_groups(\"Team-1\", \"Aurora\", \"Raline\", \"Laras\", \"Racca\"))"
   ]
  },
  {
   "cell_type": "markdown",
   "id": "6484f98a-073e-4efd-b700-b3f0874e196f",
   "metadata": {},
   "source": [
    "## Ordering Arguments in a Function\n",
    "\n",
    "The correct order for your parameters is:\n",
    "\n",
    "1. Standard arguments\n",
    "2. `*args` arguments\n",
    "3. `**kwargs` arguments\n",
    "\n",
    "For example, this function definition is correct:\n",
    "\n",
    "```\n",
    "def my_function(a, b, *args, **kwargs):\n",
    "    pass\n",
    "```\n",
    "\n",
    "The `*args` variable is appropriately listed before `**kwargs`. But what if you try to modify the order of the arguments? For example, consider the following function:\n",
    "\n",
    "```\n",
    "def my_function(a, b, **kwargs, *args):\n",
    "    pass\n",
    "```\n",
    "\n",
    "Now, `**kwargs` comes before `*args` in the function definition. If you try to run this example, you’ll receive an error from the interpreter:\n",
    "\n",
    "```\n",
    "$ python wrong_function_definition.py\n",
    "  File \"wrong_function_definition.py\", line 2\n",
    "    def my_function(a, b, **kwargs, *args):\n",
    "                                    ^\n",
    "SyntaxError: invalid syntax\n",
    "```\n",
    "\n",
    "In this case, since `*args` comes after `**kwargs`, the Python interpreter throws a [`SyntaxError`](https://realpython.com/invalid-syntax-python/)."
   ]
  },
  {
   "cell_type": "markdown",
   "id": "bb142592-d60b-4a2a-9a2f-7745f31d581a",
   "metadata": {},
   "source": [
    "## Function as a Parameter of Another Function"
   ]
  },
  {
   "cell_type": "code",
   "execution_count": 27,
   "id": "900748c0-c413-465d-9a3b-ff9a7e62a90b",
   "metadata": {},
   "outputs": [
    {
     "name": "stdout",
     "output_type": "stream",
     "text": [
      "9\n"
     ]
    }
   ],
   "source": [
    "# You can pass functions around as parameters\n",
    "\n",
    "\n",
    "def square_number(n):\n",
    "    return n * n\n",
    "\n",
    "\n",
    "def do_something(f, x):\n",
    "    return f(x)\n",
    "\n",
    "\n",
    "print(do_something(square_number, 3))  # 27"
   ]
  },
  {
   "cell_type": "markdown",
   "id": "cab7e9e2-3380-47ca-aa7b-416590b2a857",
   "metadata": {},
   "source": [
    "## Lambda Function\n",
    "\n",
    "Lambda function is a small anonymous function without a name. It can take any number of arguments, but can only have one expression. Lambda function is similar to anonymous functions in JavaScript. We need it when we want to write an anonymous function inside another function.\n",
    "\n",
    "To create a lambda function we use lambda keyword followed by a parameter(s), followed by an expression. See the syntax and the example below. Lambda function does not use return but it explicitly returns the expression.\n",
    "\n",
    "```\n",
    "x = lambda param1, param2, param3: param1 + param2 + param2\n",
    "```"
   ]
  },
  {
   "cell_type": "code",
   "execution_count": 28,
   "id": "3f5425b4-4619-4ba3-8758-1a208d4d7435",
   "metadata": {},
   "outputs": [
    {
     "name": "stdout",
     "output_type": "stream",
     "text": [
      "5\n",
      "5\n"
     ]
    }
   ],
   "source": [
    "# Named function\n",
    "def add_two_nums(a, b):\n",
    "    return a + b\n",
    "\n",
    "\n",
    "print(add_two_nums(2, 3))\n",
    "\n",
    "# Lets change the above function to a lambda function\n",
    "add_two_nums = lambda a, b: a + b\n",
    "print(add_two_nums(2, 3))  # 5"
   ]
  },
  {
   "cell_type": "code",
   "execution_count": 29,
   "id": "0c42d51d-e83d-4968-8654-801ee40d1e6c",
   "metadata": {},
   "outputs": [
    {
     "data": {
      "text/plain": [
       "5"
      ]
     },
     "execution_count": 29,
     "metadata": {},
     "output_type": "execute_result"
    }
   ],
   "source": [
    "# Self invoking lambda function\n",
    "(lambda a, b: a + b)(2, 3)"
   ]
  },
  {
   "cell_type": "code",
   "execution_count": 30,
   "id": "85950214-44ba-43c8-8cfa-c5599e86ebd9",
   "metadata": {},
   "outputs": [
    {
     "name": "stdout",
     "output_type": "stream",
     "text": [
      "9\n"
     ]
    }
   ],
   "source": [
    "square = lambda x: x**2\n",
    "print(square(3))"
   ]
  },
  {
   "cell_type": "code",
   "execution_count": 31,
   "id": "10732191-0fbe-44fb-b8c6-51993e40d064",
   "metadata": {},
   "outputs": [
    {
     "name": "stdout",
     "output_type": "stream",
     "text": [
      "27\n"
     ]
    }
   ],
   "source": [
    "cube = lambda x: x**3\n",
    "print(cube(3))"
   ]
  },
  {
   "cell_type": "code",
   "execution_count": 32,
   "id": "2f1761e2-daa6-4c91-904d-3322b736a24f",
   "metadata": {},
   "outputs": [
    {
     "name": "stdout",
     "output_type": "stream",
     "text": [
      "22\n"
     ]
    }
   ],
   "source": [
    "multiple_variable = lambda a, b, c: a**2 - 3 * b + 4 * c\n",
    "print(multiple_variable(5, 5, 3))"
   ]
  },
  {
   "cell_type": "markdown",
   "id": "446c7b17-577b-4e5f-ab96-d012bb9587d2",
   "metadata": {},
   "source": [
    "### Lambda Function Inside Another Function"
   ]
  },
  {
   "cell_type": "code",
   "execution_count": 33,
   "id": "2b23841f-1d3e-41b4-9884-56d091ec7d7f",
   "metadata": {},
   "outputs": [
    {
     "name": "stdout",
     "output_type": "stream",
     "text": [
      "8\n",
      "32\n"
     ]
    }
   ],
   "source": [
    "def power(x):\n",
    "    return lambda n: x**n\n",
    "\n",
    "\n",
    "# function power now need 2 arguments to run, in separate rounded brackets\n",
    "cube = power(2)(3)\n",
    "print(cube)\n",
    "\n",
    "two_power_of_five = power(2)(5)\n",
    "print(two_power_of_five)"
   ]
  },
  {
   "cell_type": "markdown",
   "id": "831ddf53-5cf3-48b4-922a-70dddc894651",
   "metadata": {},
   "source": [
    "## Exercises\n",
    "\n",
    "### Exercises: Level 1\n",
    "\n",
    "1. Declare a function _add_two_numbers_. It takes two parameters and it returns a sum.\n",
    "2. Area of a circle is calculated as follows: area = π x r x r. Write a function that calculates _area_of_circle_.\n",
    "3. Write a function called add_all_nums which takes arbitrary number of arguments and sums all the arguments. Check if all the list items are number types. If not do give a reasonable feedback.\n",
    "4. Temperature in °C can be converted to °F using this formula: °F = (°C x 9/5) + 32. Write a function which converts °C to °F, _convert_celsius_to-fahrenheit_.\n",
    "5. Write a function called check-season, it takes a month parameter and returns the season: Autumn, Winter, Spring or Summer.\n",
    "6. Write a function called calculate_slope which return the slope of a linear equation\n",
    "7. Quadratic equation is calculated as follows: ax² + bx + c = 0. Write a function which calculates solution set of a quadratic equation, _solve_quadratic_eqn_.\n",
    "8. Declare a function named print_list. It takes a list as a parameter and it prints out each element of the list.\n",
    "9. Declare a function named reverse_list. It takes an array as a parameter and it returns the reverse of the array (use loops).\n",
    "\n",
    "```py\n",
    "print(reverse_list([1, 2, 3, 4, 5]))\n",
    "# [5, 4, 3, 2, 1]\n",
    "print(reverse_list1([\"A\", \"B\", \"C\"]))\n",
    "# [\"C\", \"B\", \"A\"]\n",
    "```\n",
    "\n",
    "10. Declare a function named capitalize_list_items. It takes a list as a parameter and it returns a capitalized list of items\n",
    "11. Declare a function named add_item. It takes a list and an item parameters. It returns a list with the item added at the end.\n",
    "\n",
    "```py\n",
    "food_staff = ['Potato', 'Tomato', 'Mango', 'Milk'];\n",
    "print(add_item(food_staff, 'Meat'))     # ['Potato', 'Tomato', 'Mango', 'Milk','Meat'];\n",
    "numbers = [2, 3, 7, 9];\n",
    "print(add_item(numbers, 5))      [2, 3, 7, 9, 5]\n",
    "```\n",
    "\n",
    "12. Declare a function named remove_item. It takes a list and an item parameters. It returns a list with the item removed from it.\n",
    "\n",
    "```py\n",
    "food_staff = ['Potato', 'Tomato', 'Mango', 'Milk'];\n",
    "print(remove_item(food_staff, 'Mango'))  # ['Potato', 'Tomato', 'Milk'];\n",
    "numbers = [2, 3, 7, 9];\n",
    "print(remove_item(numbers, 3))  # [2, 7, 9]\n",
    "```\n",
    "\n",
    "13. Declare a function named sum_of_numbers. It takes a number parameter and it adds all the numbers in that range.\n",
    "\n",
    "```py\n",
    "print(sum_of_numbers(5))  # 15\n",
    "print(sum_all_numbers(10)) # 55\n",
    "print(sum_all_numbers(100)) # 5050\n",
    "```\n",
    "\n",
    "14. Declare a function named sum_of_odds. It takes a number parameter and it adds all the odd numbers in that range.\n",
    "15. Declare a function named sum_of_even. It takes a number parameter and it adds all the even numbers in that - range.\n",
    "\n",
    "### Exercises: Level 2\n",
    "\n",
    "1.  Declare a function named evens_and_odds . It takes a positive integer as parameter and it counts number of evens and odds in the number.\n",
    "\n",
    "    ```py\n",
    "        print(evens_and_odds(100))\n",
    "        # The number of odds are 50.\n",
    "        # The number of evens are 51.\n",
    "    ```\n",
    "\n",
    "1. Call your function factorial, it takes a whole number as a parameter and it return a factorial of the number\n",
    "1. Call your function _is_empty_, it takes a parameter and it checks if it is empty or not\n",
    "1. Write different functions which take lists. They should calculate_mean, calculate_median, calculate_mode, calculate_range, calculate_variance, calculate_std (standard deviation).\n",
    "m\n",
    "### Exercises: Level 3\n",
    "\n",
    "1. Write a function called is_prime, which checks if a number is prime.\n",
    "1. Write a functions which checks if all items are unique in the list.\n",
    "1. Write a function which checks if all the items of the list are of the same data type.\n",
    "1. Write a function which check if provided variable is a valid python variable"
   ]
  }
 ],
 "metadata": {
  "kernelspec": {
   "display_name": "Python 3 (ipykernel)",
   "language": "python",
   "name": "python3"
  },
  "language_info": {
   "codemirror_mode": {
    "name": "ipython",
    "version": 3
   },
   "file_extension": ".py",
   "mimetype": "text/x-python",
   "name": "python",
   "nbconvert_exporter": "python",
   "pygments_lexer": "ipython3",
   "version": "3.12.4"
  }
 },
 "nbformat": 4,
 "nbformat_minor": 5
}
