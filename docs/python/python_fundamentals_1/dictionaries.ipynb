{
 "cells": [
  {
   "cell_type": "markdown",
   "id": "0176ace4-68d5-4e3a-a0dc-378a0cd1d1bd",
   "metadata": {},
   "source": [
    "# Dictionaries\n",
    "\n",
    "A dictionary is a collection of unordered, modifiable (mutable) paired (key: value) data type.\n",
    "\n",
    "```{contents}\n",
    ":local:\n",
    "```"
   ]
  },
  {
   "cell_type": "markdown",
   "id": "7b0dd7a2-77cf-4181-83fa-51cd78fcf293",
   "metadata": {},
   "source": [
    "## Creating a Dictionary\n",
    "\n",
    "To create a dictionary we use curly brackets, `{}` or the `dict()` built-in function."
   ]
  },
  {
   "cell_type": "code",
   "execution_count": 1,
   "id": "c320af3f-2970-4381-b996-6af8a670e7c2",
   "metadata": {},
   "outputs": [
    {
     "data": {
      "text/plain": [
       "{}"
      ]
     },
     "execution_count": 1,
     "metadata": {},
     "output_type": "execute_result"
    }
   ],
   "source": [
    "empty_dict = {}\n",
    "empty_dict"
   ]
  },
  {
   "cell_type": "code",
   "execution_count": 2,
   "id": "67aaeadf-3f0f-45f5-95e8-56a229526ad6",
   "metadata": {},
   "outputs": [
    {
     "data": {
      "text/plain": [
       "{'key1': 'value1', 'key2': 'value2', 'key3': 'value3', 'key4': 'value4'}"
      ]
     },
     "execution_count": 2,
     "metadata": {},
     "output_type": "execute_result"
    }
   ],
   "source": [
    "d = {\"key1\": \"value1\", \"key2\": \"value2\", \"key3\": \"value3\", \"key4\": \"value4\"}\n",
    "d"
   ]
  },
  {
   "cell_type": "code",
   "execution_count": 3,
   "id": "64adfcdd-9942-41b2-8c1c-6fff6156e814",
   "metadata": {},
   "outputs": [
    {
     "data": {
      "text/plain": [
       "{'first_name': 'Aurora',\n",
       " 'last_name': 'Luna',\n",
       " 'age': 6,\n",
       " 'country': 'Indonesia',\n",
       " 'skills': ['JavaScript', 'React', 'Node', 'MongoDB', 'Python'],\n",
       " 'address': {'street': 'Jl. Jalan', 'zipcode': '123456'}}"
      ]
     },
     "execution_count": 3,
     "metadata": {},
     "output_type": "execute_result"
    }
   ],
   "source": [
    "person = {\n",
    "    \"first_name\": \"Aurora\",\n",
    "    \"last_name\": \"Luna\",\n",
    "    \"age\": 6,\n",
    "    \"country\": \"Indonesia\",\n",
    "    \"skills\": [\"JavaScript\", \"React\", \"Node\", \"MongoDB\", \"Python\"],\n",
    "    \"address\": {\"street\": \"Jl. Jalan\", \"zipcode\": \"123456\"},\n",
    "}\n",
    "person"
   ]
  },
  {
   "cell_type": "markdown",
   "id": "e8d59afc-16a6-44a4-95ff-80d34a142dd5",
   "metadata": {},
   "source": [
    "The dictionary above shows that a value could be any data types: string, boolean, list, tuple, set or a dictionary."
   ]
  },
  {
   "cell_type": "markdown",
   "id": "bccd429e-0a1e-4376-af98-05d9f30b2faa",
   "metadata": {},
   "source": [
    "## Dictionary Length\n",
    "\n",
    "It checks the number of 'key: value' pairs in the dictionary."
   ]
  },
  {
   "cell_type": "code",
   "execution_count": 4,
   "id": "0daf7fa4-0bf8-4ba1-8c52-1fc28ad00ea6",
   "metadata": {},
   "outputs": [
    {
     "data": {
      "text/plain": [
       "4"
      ]
     },
     "execution_count": 4,
     "metadata": {},
     "output_type": "execute_result"
    }
   ],
   "source": [
    "d = {\"key1\": \"value1\", \"key2\": \"value2\", \"key3\": \"value3\", \"key4\": \"value4\"}\n",
    "len(d)"
   ]
  },
  {
   "cell_type": "code",
   "execution_count": 5,
   "id": "1ce443fc-fcf4-42e8-8453-9b1fd4418a29",
   "metadata": {},
   "outputs": [
    {
     "data": {
      "text/plain": [
       "6"
      ]
     },
     "execution_count": 5,
     "metadata": {},
     "output_type": "execute_result"
    }
   ],
   "source": [
    "person = {\n",
    "    \"first_name\": \"Aurora\",\n",
    "    \"last_name\": \"Luna\",\n",
    "    \"age\": 6,\n",
    "    \"country\": \"Indonesia\",\n",
    "    \"skills\": [\"JavaScript\", \"React\", \"Node\", \"MongoDB\", \"Python\"],\n",
    "    \"address\": {\"street\": \"Jl. Jalan\", \"zipcode\": \"123456\"},\n",
    "}\n",
    "len(person)"
   ]
  },
  {
   "cell_type": "markdown",
   "id": "ffe9ac15-b404-4a20-ac32-98ee9b37832c",
   "metadata": {},
   "source": [
    "## Accessing Dictionary Items\n",
    "\n",
    "We can access Dictionary items by referring to its key name."
   ]
  },
  {
   "cell_type": "code",
   "execution_count": 6,
   "id": "6bbbba92-0437-423d-854e-4083688b2fea",
   "metadata": {},
   "outputs": [
    {
     "name": "stdout",
     "output_type": "stream",
     "text": [
      "value1\n",
      "value4\n"
     ]
    }
   ],
   "source": [
    "d = {\"key1\": \"value1\", \"key2\": \"value2\", \"key3\": \"value3\", \"key4\": \"value4\"}\n",
    "print(d[\"key1\"])\n",
    "print(d[\"key4\"])"
   ]
  },
  {
   "cell_type": "code",
   "execution_count": 7,
   "id": "208b2868-cdff-4119-9762-bb975feff9d7",
   "metadata": {},
   "outputs": [
    {
     "name": "stdout",
     "output_type": "stream",
     "text": [
      "Aurora\n",
      "Indonesia\n",
      "['JavaScript', 'React', 'Node', 'MongoDB', 'Python']\n",
      "JavaScript\n",
      "Jl. Jalan\n"
     ]
    }
   ],
   "source": [
    "person = {\n",
    "    \"first_name\": \"Aurora\",\n",
    "    \"last_name\": \"Luna\",\n",
    "    \"age\": 6,\n",
    "    \"country\": \"Indonesia\",\n",
    "    \"skills\": [\"JavaScript\", \"React\", \"Node\", \"MongoDB\", \"Python\"],\n",
    "    \"address\": {\"street\": \"Jl. Jalan\", \"zipcode\": \"123456\"},\n",
    "}\n",
    "print(person[\"first_name\"])\n",
    "print(person[\"country\"])\n",
    "print(person[\"skills\"])\n",
    "print(person[\"skills\"][0])\n",
    "print(person[\"address\"][\"street\"])  # Space street\n",
    "# print(person['city']) # Running this will raise KeyError: 'city'"
   ]
  },
  {
   "cell_type": "markdown",
   "id": "57110a7f-fc47-43dc-b15b-2c33fd614ccd",
   "metadata": {},
   "source": [
    "Accessing an item by key name raises an error if the key does not exist. To avoid this error first we have to check if a key exist or we can use the `get()` method. The `get()` method returns `None`, which is a `NoneType` object data type, if the key does not exist."
   ]
  },
  {
   "cell_type": "code",
   "execution_count": 8,
   "id": "ecb1f98e-d165-4bba-8c51-252ee63c4711",
   "metadata": {},
   "outputs": [
    {
     "name": "stdout",
     "output_type": "stream",
     "text": [
      "Aurora\n",
      "Indonesia\n",
      "['JavaScript', 'React', 'Node', 'MongoDB', 'Python']\n",
      "None\n"
     ]
    }
   ],
   "source": [
    "print(person.get(\"first_name\"))\n",
    "print(person.get(\"country\"))\n",
    "print(person.get(\"skills\"))\n",
    "print(person.get(\"city\"))"
   ]
  },
  {
   "cell_type": "markdown",
   "id": "e9edd8e6-5cf2-4e08-83b0-980b7e31a932",
   "metadata": {},
   "source": [
    "## Adding Items to a Dictionary"
   ]
  },
  {
   "cell_type": "code",
   "execution_count": 9,
   "id": "6a6e1dc6-9819-4ca6-998e-0c34bbc22b9b",
   "metadata": {},
   "outputs": [
    {
     "data": {
      "text/plain": [
       "{'key1': 'value1',\n",
       " 'key2': 'value2',\n",
       " 'key3': 'value3',\n",
       " 'key4': 'value4',\n",
       " 'key5': 'value5'}"
      ]
     },
     "execution_count": 9,
     "metadata": {},
     "output_type": "execute_result"
    }
   ],
   "source": [
    "d = {\"key1\": \"value1\", \"key2\": \"value2\", \"key3\": \"value3\", \"key4\": \"value4\"}\n",
    "d[\"key5\"] = \"value5\"\n",
    "d"
   ]
  },
  {
   "cell_type": "code",
   "execution_count": 10,
   "id": "406c9d24-3a60-4bff-8907-054bf7a4bce0",
   "metadata": {},
   "outputs": [
    {
     "data": {
      "text/plain": [
       "{'first_name': 'Aurora',\n",
       " 'last_name': 'Luna',\n",
       " 'age': 6,\n",
       " 'country': 'Indonesia',\n",
       " 'skills': ['JavaScript', 'React', 'Node', 'MongoDB', 'Python', 'TensorFlow'],\n",
       " 'address': {'street': 'Jl. Jalan', 'zipcode': '123456'},\n",
       " 'job_title': 'Student'}"
      ]
     },
     "execution_count": 10,
     "metadata": {},
     "output_type": "execute_result"
    }
   ],
   "source": [
    "person = {\n",
    "    \"first_name\": \"Aurora\",\n",
    "    \"last_name\": \"Luna\",\n",
    "    \"age\": 6,\n",
    "    \"country\": \"Indonesia\",\n",
    "    \"skills\": [\"JavaScript\", \"React\", \"Node\", \"MongoDB\", \"Python\"],\n",
    "    \"address\": {\"street\": \"Jl. Jalan\", \"zipcode\": \"123456\"},\n",
    "}\n",
    "person[\"job_title\"] = \"Student\"\n",
    "person[\"skills\"].append(\"TensorFlow\")\n",
    "person"
   ]
  },
  {
   "cell_type": "markdown",
   "id": "9e5a7211-f8e9-4378-88bd-5d87bce9f2c9",
   "metadata": {},
   "source": [
    "## Modifying Items in a Dictionary"
   ]
  },
  {
   "cell_type": "code",
   "execution_count": 11,
   "id": "81974a61-d27f-4b06-8408-490d36af433e",
   "metadata": {},
   "outputs": [
    {
     "data": {
      "text/plain": [
       "{'key1': 'value-one', 'key2': 'value2', 'key3': 'value3', 'key4': 'value4'}"
      ]
     },
     "execution_count": 11,
     "metadata": {},
     "output_type": "execute_result"
    }
   ],
   "source": [
    "d = {\"key1\": \"value1\", \"key2\": \"value2\", \"key3\": \"value3\", \"key4\": \"value4\"}\n",
    "d[\"key1\"] = \"value-one\"\n",
    "d"
   ]
  },
  {
   "cell_type": "code",
   "execution_count": 12,
   "id": "cb578471-b4a6-496e-a55e-a5f9a258b41c",
   "metadata": {},
   "outputs": [
    {
     "data": {
      "text/plain": [
       "{'first_name': 'Aurora',\n",
       " 'last_name': 'Wulan',\n",
       " 'age': 6,\n",
       " 'country': 'New Zealand',\n",
       " 'skills': ['JavaScript', 'React', 'Node', 'MongoDB', 'Python'],\n",
       " 'address': {'street': 'Jl. Jalan', 'zipcode': '123456'}}"
      ]
     },
     "execution_count": 12,
     "metadata": {},
     "output_type": "execute_result"
    }
   ],
   "source": [
    "person = {\n",
    "    \"first_name\": \"Aurora\",\n",
    "    \"last_name\": \"Luna\",\n",
    "    \"age\": 6,\n",
    "    \"country\": \"Indonesia\",\n",
    "    \"skills\": [\"JavaScript\", \"React\", \"Node\", \"MongoDB\", \"Python\"],\n",
    "    \"address\": {\"street\": \"Jl. Jalan\", \"zipcode\": \"123456\"},\n",
    "}\n",
    "person[\"last_name\"] = \"Wulan\"\n",
    "person[\"country\"] = \"New Zealand\"\n",
    "person"
   ]
  },
  {
   "cell_type": "markdown",
   "id": "fefac167-1b84-4b1d-a841-5abf8b19215e",
   "metadata": {},
   "source": [
    "## Checking Keys in a Dictionary\n",
    "\n",
    "We use the `in` operator to check if a key exist in a dictionary."
   ]
  },
  {
   "cell_type": "code",
   "execution_count": 13,
   "id": "9c81c636-2c84-4a54-b273-f0bb181d0e95",
   "metadata": {},
   "outputs": [
    {
     "name": "stdout",
     "output_type": "stream",
     "text": [
      "True\n",
      "False\n"
     ]
    }
   ],
   "source": [
    "d = {\"key1\": \"value1\", \"key2\": \"value2\", \"key3\": \"value3\", \"key4\": \"value4\"}\n",
    "print(\"key2\" in d)\n",
    "print(\"key5\" in d)"
   ]
  },
  {
   "cell_type": "markdown",
   "id": "e9e4ee50-9899-4ef7-be9d-cff3082bfc68",
   "metadata": {},
   "source": [
    "## Removing Key and Value Pairs from a Dictionary\n",
    "\n",
    "* `pop(key)`: removes the item with the specified key name\n",
    "* `popitem()`: removes the last item\n",
    "* `del`: removes an item with specified key name"
   ]
  },
  {
   "cell_type": "code",
   "execution_count": 14,
   "id": "4bca76ee-09f3-4462-a59b-9e1b4b59cb97",
   "metadata": {},
   "outputs": [
    {
     "data": {
      "text/plain": [
       "{'key2': 'value2', 'key3': 'value3', 'key4': 'value4'}"
      ]
     },
     "execution_count": 14,
     "metadata": {},
     "output_type": "execute_result"
    }
   ],
   "source": [
    "d = {\"key1\": \"value1\", \"key2\": \"value2\", \"key3\": \"value3\", \"key4\": \"value4\"}\n",
    "d.pop(\"key1\")\n",
    "d"
   ]
  },
  {
   "cell_type": "code",
   "execution_count": 15,
   "id": "05847551-05d9-41f4-85f7-0d1f9f0d2685",
   "metadata": {},
   "outputs": [
    {
     "data": {
      "text/plain": [
       "('key4', 'value4')"
      ]
     },
     "execution_count": 15,
     "metadata": {},
     "output_type": "execute_result"
    }
   ],
   "source": [
    "d = {\"key1\": \"value1\", \"key2\": \"value2\", \"key3\": \"value3\", \"key4\": \"value4\"}\n",
    "d.popitem()"
   ]
  },
  {
   "cell_type": "code",
   "execution_count": 16,
   "id": "3e3818a2-4dc3-4983-b51c-75b634db669a",
   "metadata": {},
   "outputs": [
    {
     "data": {
      "text/plain": [
       "{'key1': 'value1', 'key3': 'value3', 'key4': 'value4'}"
      ]
     },
     "execution_count": 16,
     "metadata": {},
     "output_type": "execute_result"
    }
   ],
   "source": [
    "d = {\"key1\": \"value1\", \"key2\": \"value2\", \"key3\": \"value3\", \"key4\": \"value4\"}\n",
    "del d[\"key2\"]\n",
    "d"
   ]
  },
  {
   "cell_type": "code",
   "execution_count": 17,
   "id": "db4e9c23-d7c9-45d3-9c7f-5b46d5d98667",
   "metadata": {},
   "outputs": [
    {
     "data": {
      "text/plain": [
       "{'first_name': 'Aurora', 'last_name': 'Luna', 'age': 6}"
      ]
     },
     "execution_count": 17,
     "metadata": {},
     "output_type": "execute_result"
    }
   ],
   "source": [
    "person = {\n",
    "    \"first_name\": \"Aurora\",\n",
    "    \"last_name\": \"Luna\",\n",
    "    \"age\": 6,\n",
    "    \"country\": \"Indonesia\",\n",
    "    \"skills\": [\"JavaScript\", \"React\", \"Node\", \"MongoDB\", \"Python\"],\n",
    "    \"address\": {\"street\": \"Jl. Jalan\", \"zipcode\": \"123456\"},\n",
    "}\n",
    "person.pop(\"address\")\n",
    "person.popitem()\n",
    "del person[\"country\"]\n",
    "person"
   ]
  },
  {
   "cell_type": "markdown",
   "id": "d2138db7-edba-4227-8f3f-9c2b5d6929ab",
   "metadata": {},
   "source": [
    "## Changing Dictionary to a List of Items\n",
    "\n",
    "The `items()` method changes dictionary to a list of tuples."
   ]
  },
  {
   "cell_type": "code",
   "execution_count": 18,
   "id": "11befcdc-fe20-4487-9966-5e1e39fa492b",
   "metadata": {},
   "outputs": [
    {
     "data": {
      "text/plain": [
       "dict_items([('key1', 'value1'), ('key2', 'value2'), ('key3', 'value3'), ('key4', 'value4')])"
      ]
     },
     "execution_count": 18,
     "metadata": {},
     "output_type": "execute_result"
    }
   ],
   "source": [
    "d = {\"key1\": \"value1\", \"key2\": \"value2\", \"key3\": \"value3\", \"key4\": \"value4\"}\n",
    "d.items()"
   ]
  },
  {
   "cell_type": "code",
   "execution_count": 19,
   "id": "58737a94-c03e-4db5-9833-8ef81de71b19",
   "metadata": {},
   "outputs": [
    {
     "data": {
      "text/plain": [
       "dict_items([('first_name', 'Aurora'), ('last_name', 'Luna'), ('age', 6), ('country', 'Indonesia'), ('skills', ['JavaScript', 'React', 'Node', 'MongoDB', 'Python']), ('address', {'street': 'Jl. Jalan', 'zipcode': '123456'})])"
      ]
     },
     "execution_count": 19,
     "metadata": {},
     "output_type": "execute_result"
    }
   ],
   "source": [
    "person = {\n",
    "    \"first_name\": \"Aurora\",\n",
    "    \"last_name\": \"Luna\",\n",
    "    \"age\": 6,\n",
    "    \"country\": \"Indonesia\",\n",
    "    \"skills\": [\"JavaScript\", \"React\", \"Node\", \"MongoDB\", \"Python\"],\n",
    "    \"address\": {\"street\": \"Jl. Jalan\", \"zipcode\": \"123456\"},\n",
    "}\n",
    "person.items()"
   ]
  },
  {
   "cell_type": "markdown",
   "id": "33f768fc-d67a-4fea-8a05-7ebfe88cf253",
   "metadata": {},
   "source": [
    "## Clearing a Dictionary"
   ]
  },
  {
   "cell_type": "code",
   "execution_count": 20,
   "id": "a0df6283-9ae7-4980-a10b-f6077ab5cab7",
   "metadata": {},
   "outputs": [
    {
     "name": "stdout",
     "output_type": "stream",
     "text": [
      "None\n"
     ]
    }
   ],
   "source": [
    "d = {\"key1\": \"value1\", \"key2\": \"value2\", \"key3\": \"value3\", \"key4\": \"value4\"}\n",
    "print(d.clear())"
   ]
  },
  {
   "cell_type": "markdown",
   "id": "afaf5417-a9cb-464d-a9f2-f9d1296a6ba7",
   "metadata": {},
   "source": [
    "## Deleting a Dictionary"
   ]
  },
  {
   "cell_type": "code",
   "execution_count": 21,
   "id": "240dfe06-5431-4139-a0a9-d2d1e838b2fd",
   "metadata": {},
   "outputs": [],
   "source": [
    "d = {\"key1\": \"value1\", \"key2\": \"value2\", \"key3\": \"value3\", \"key4\": \"value4\"}\n",
    "del d"
   ]
  },
  {
   "cell_type": "markdown",
   "id": "e2ad6e87-2c63-4aba-bd2d-44041bc462ee",
   "metadata": {},
   "source": [
    "## Copy a Dictionary\n",
    "\n",
    "We can copy a dictionary using a `copy()` method. Using copy we can avoid mutation of the original dictionary."
   ]
  },
  {
   "cell_type": "code",
   "execution_count": 22,
   "id": "ea3493c3-371a-48c9-85de-2ae7cae3f3fe",
   "metadata": {},
   "outputs": [
    {
     "data": {
      "text/plain": [
       "{'key1': 'value1', 'key2': 'value2', 'key3': 'value3', 'key4': 'value4'}"
      ]
     },
     "execution_count": 22,
     "metadata": {},
     "output_type": "execute_result"
    }
   ],
   "source": [
    "d1 = {\"key1\": \"value1\", \"key2\": \"value2\", \"key3\": \"value3\", \"key4\": \"value4\"}\n",
    "d2 = d1.copy()\n",
    "d2"
   ]
  },
  {
   "cell_type": "markdown",
   "id": "467ddc5b-6068-4278-adc0-422096181795",
   "metadata": {},
   "source": [
    "## Getting Dictionary Keys as a List\n",
    "\n",
    "The `keys()` method gives us all the keys of a a dictionary as a list."
   ]
  },
  {
   "cell_type": "code",
   "execution_count": 23,
   "id": "4d0ce359-28b5-478c-9fce-060688935d62",
   "metadata": {},
   "outputs": [
    {
     "data": {
      "text/plain": [
       "dict_keys(['key1', 'key2', 'key3', 'key4'])"
      ]
     },
     "execution_count": 23,
     "metadata": {},
     "output_type": "execute_result"
    }
   ],
   "source": [
    "d = {\"key1\": \"value1\", \"key2\": \"value2\", \"key3\": \"value3\", \"key4\": \"value4\"}\n",
    "keys = d.keys()\n",
    "keys"
   ]
  },
  {
   "cell_type": "markdown",
   "id": "6eb5eb33-66db-4d86-b125-537bc75286b2",
   "metadata": {},
   "source": [
    "## Getting Dictionary Values as a List\n",
    "\n",
    "The `values()` method gives us all the values of a a dictionary as a list."
   ]
  },
  {
   "cell_type": "code",
   "execution_count": 24,
   "id": "0a536ae6-f3a1-4893-85bc-befed01c49b0",
   "metadata": {},
   "outputs": [
    {
     "data": {
      "text/plain": [
       "dict_values(['value1', 'value2', 'value3', 'value4'])"
      ]
     },
     "execution_count": 24,
     "metadata": {},
     "output_type": "execute_result"
    }
   ],
   "source": [
    "dct = {\"key1\": \"value1\", \"key2\": \"value2\", \"key3\": \"value3\", \"key4\": \"value4\"}\n",
    "values = dct.values()\n",
    "values"
   ]
  }
 ],
 "metadata": {
  "kernelspec": {
   "display_name": "Python 3 (ipykernel)",
   "language": "python",
   "name": "python3"
  },
  "language_info": {
   "codemirror_mode": {
    "name": "ipython",
    "version": 3
   },
   "file_extension": ".py",
   "mimetype": "text/x-python",
   "name": "python",
   "nbconvert_exporter": "python",
   "pygments_lexer": "ipython3",
   "version": "3.12.4"
  }
 },
 "nbformat": 4,
 "nbformat_minor": 5
}
