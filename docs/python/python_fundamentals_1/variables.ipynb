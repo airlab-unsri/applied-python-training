{
 "cells": [
  {
   "cell_type": "markdown",
   "id": "248c15e2-fe45-4b2c-a1ad-7da9ea951f0c",
   "metadata": {},
   "source": [
    "# Variables\n",
    "\n",
    "Variables store data in a computer's memory. A variable refers to a memory address in which data is stored. A variable can have a short name (like x, y, z), but a more descriptive name (firstname, lastname, age, country) is highly recommended. Number at the beginning, special character, hyphen are not allowed when naming a variable.\n",
    "\n",
    "## Python Variable Naming Rules\n",
    "\n",
    "* A variable name must start with a letter or the underscore character\n",
    "* A variable name cannot start with a number\n",
    "* A variable name can only contain alpha-numeric characters and underscores (A-z, 0-9, and _ )\n",
    "* Variable names are case-sensitive (firstname, Firstname, FirstName and FIRSTNAME) are different variables)\n",
    "\n",
    "Here are some example of valid variable names:\n",
    "\n",
    "* first_name\n",
    "* last_name\n",
    "* firstname\n",
    "* lastname\n",
    "* age\n",
    "* country\n",
    "* city\n",
    "* capital_city\n",
    "* _if # when we want to use reserved word as a variable\n",
    "* year_2021\n",
    "* year2021\n",
    "* current_year_2021\n",
    "* birth_year\n",
    "* num1\n",
    "* num2\n",
    "\n",
    "Invalid variables names:\n",
    "\n",
    "* first-name\n",
    "* first@name\n",
    "* first$name\n",
    "* num-1\n",
    "* 1num\n",
    "\n",
    "We will use standard Python variable naming style which has been adopted by many Python developers, which is the snake case (`snake_case`) variable naming convention. We use an underscore character after each word for a variable containing more than one word (eg. first_name, engine_rotation_speed, day_of_week). The example below is an example of standard naming of variables, underscore is required when the variable name is more than one word.\n",
    "\n",
    "When we assign a certain data type to a variable, it is called a variable declaration. For instance in the example below my first name is assigned to a variable first_name. The equal sign is an assignment operator. Assigning means storing data in the variable. The equal sign in Python is not equality as in Mathematics.\n",
    "\n",
    "**Example:**"
   ]
  },
  {
   "cell_type": "code",
   "execution_count": 1,
   "id": "45543643-bc71-45b4-91ef-46fe9b4337e1",
   "metadata": {},
   "outputs": [],
   "source": [
    "# Variables in Python\n",
    "first_name = \"Aurora\"\n",
    "last_name = \"Luna\"\n",
    "country = \"Indonesia\"\n",
    "city = \"Palembang\"\n",
    "age = 6\n",
    "is_student = True\n",
    "skills = [\"HTML\", \"CSS\", \"JS\", \"React\", \"Python\"]\n",
    "person_info = {\n",
    "    \"first_name\": \"Aurora\",\n",
    "    \"last_name\": \"Luna\",\n",
    "    \"country\": \"Indonesia\",\n",
    "    \"city\": \"Palembang\",\n",
    "}"
   ]
  },
  {
   "cell_type": "markdown",
   "id": "4279d241-9c9c-4496-a2f0-fe7233435317",
   "metadata": {},
   "source": [
    "Let us use the `print()` and `len()` built-in functions. The `print()` function takes an unlimited number of arguments. An argument is a value which we can be passed or put inside the function parenthesis, see the example below.\n",
    "\n",
    "**Example:**"
   ]
  },
  {
   "cell_type": "code",
   "execution_count": 2,
   "id": "ce20585c-1ad4-4b5b-a1f8-88a2e5a36007",
   "metadata": {},
   "outputs": [
    {
     "name": "stdout",
     "output_type": "stream",
     "text": [
      "Hello, World!\n",
      "Hello , World !\n",
      "13\n"
     ]
    }
   ],
   "source": [
    "print(\"Hello, World!\")  # The text Hello, World! is an argument\n",
    "print(\n",
    "    \"Hello\", \",\", \"World\", \"!\"\n",
    ")  # it can take multiple arguments, four arguments have been passed\n",
    "print(len(\"Hello, World!\"))  # it takes only one argument"
   ]
  },
  {
   "cell_type": "markdown",
   "id": "5af2d285-79e9-4694-8b55-fb174bb6cbe2",
   "metadata": {},
   "source": [
    "Let us print and also find the length of the variables declared at the top:\n",
    "\n",
    "**Example:**"
   ]
  },
  {
   "cell_type": "code",
   "execution_count": 3,
   "id": "e364c40d-36ee-4dcb-a754-2fb056830f34",
   "metadata": {},
   "outputs": [
    {
     "name": "stdout",
     "output_type": "stream",
     "text": [
      "First name: Aurora\n",
      "First name length: 6\n",
      "Last name:  Luna\n",
      "Last name length:  4\n",
      "Country:  Indonesia\n",
      "City:  Palembang\n",
      "Age:  6\n",
      "Student:  True\n",
      "Skills:  ['HTML', 'CSS', 'JS', 'React', 'Python']\n",
      "Person information:  {'first_name': 'Aurora', 'last_name': 'Luna', 'country': 'Indonesia', 'city': 'Palembang'}\n"
     ]
    }
   ],
   "source": [
    "# Printing the values stored in the variables\n",
    "\n",
    "print(\"First name:\", first_name)\n",
    "print(\"First name length:\", len(first_name))\n",
    "print(\"Last name: \", last_name)\n",
    "print(\"Last name length: \", len(last_name))\n",
    "print(\"Country: \", country)\n",
    "print(\"City: \", city)\n",
    "print(\"Age: \", age)\n",
    "print(\"Student: \", is_student)\n",
    "print(\"Skills: \", skills)\n",
    "print(\"Person information: \", person_info)"
   ]
  },
  {
   "cell_type": "markdown",
   "id": "48878892-6894-4ba6-a025-147f6c9aa49d",
   "metadata": {},
   "source": [
    "## Declaring Multiple Variable in a Line\n",
    "\n",
    "Multiple variables can also be declared in one line:\n",
    "\n",
    "**Example:**"
   ]
  },
  {
   "cell_type": "code",
   "execution_count": 4,
   "id": "01dc1f29-8bd6-4ded-87e2-64ffdd9f49e6",
   "metadata": {},
   "outputs": [
    {
     "name": "stdout",
     "output_type": "stream",
     "text": [
      "Aurora Luna Indonesia 6 True\n",
      "First name: Aurora\n",
      "Last name:  Luna\n",
      "Country:  Indonesia\n",
      "Age:  6\n",
      "Student:  True\n"
     ]
    }
   ],
   "source": [
    "first_name, last_name, country, age, is_student = (\n",
    "    \"Aurora\",\n",
    "    \"Luna\",\n",
    "    \"Indonesia\",\n",
    "    6,\n",
    "    True,\n",
    ")\n",
    "\n",
    "print(first_name, last_name, country, age, is_student)\n",
    "print(\"First name:\", first_name)\n",
    "print(\"Last name: \", last_name)\n",
    "print(\"Country: \", country)\n",
    "print(\"Age: \", age)\n",
    "print(\"Student: \", is_student)"
   ]
  },
  {
   "cell_type": "markdown",
   "id": "a1a4181e-def3-48eb-b892-193a6b0aeacc",
   "metadata": {},
   "source": [
    "Getting user input using the `input()` built-in function. Let us assign the data we get from a user into `first_name` and `age` variables.\n",
    "\n",
    "**Example:**"
   ]
  },
  {
   "cell_type": "code",
   "execution_count": 5,
   "id": "25afb2e8-2c67-4a72-9d2b-daf24ec0a08e",
   "metadata": {},
   "outputs": [
    {
     "name": "stdin",
     "output_type": "stream",
     "text": [
      "What is your name:  Aurora\n",
      "How old are you?  6\n"
     ]
    },
    {
     "name": "stdout",
     "output_type": "stream",
     "text": [
      "Aurora\n",
      "6\n"
     ]
    }
   ],
   "source": [
    "first_name = input(\"What is your name: \")\n",
    "age = input(\"How old are you? \")\n",
    "\n",
    "print(first_name)\n",
    "print(age)"
   ]
  }
 ],
 "metadata": {
  "kernelspec": {
   "display_name": "Python 3 (ipykernel)",
   "language": "python",
   "name": "python3"
  },
  "language_info": {
   "codemirror_mode": {
    "name": "ipython",
    "version": 3
   },
   "file_extension": ".py",
   "mimetype": "text/x-python",
   "name": "python",
   "nbconvert_exporter": "python",
   "pygments_lexer": "ipython3",
   "version": "3.12.4"
  }
 },
 "nbformat": 4,
 "nbformat_minor": 5
}
