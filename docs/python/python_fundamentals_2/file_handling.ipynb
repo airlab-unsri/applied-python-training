{
 "cells": [
  {
   "cell_type": "markdown",
   "id": "13fbe6aa-7fea-4384-b45a-213b627817fe",
   "metadata": {},
   "source": [
    "# File Handling\n",
    "\n",
    "We usually store our data in different file formats. In addition to handling files, we will also see different file formats(.txt, .json, .xml, .csv, .tsv, .excel) in this section. First, let us get familiar with handling files with common file format(.txt).\n",
    "\n",
    "File handling is an import part of programming which allows us to create, read, update and delete files. In Python to handle data we use open() built-in function.\n",
    "\n",
    "```\n",
    "open('filename', mode) # mode(r, a, w, x, t,b)  could be to read, write, update\n",
    "```\n",
    "\n",
    "* `\"r\"` - Read - Default value. Opens a file for reading, it returns an error if the file does not exist\n",
    "* `\"a\"` - Append - Opens a file for appending, creates the file if it does not exist\n",
    "* `\"w\"` - Write - Opens a file for writing, creates the file if it does not exist\n",
    "* `\"x\"` - Create - Creates the specified file, returns an error if the file exists\n",
    "* `\"t\"` - Text - Default value. Text mode\n",
    "* `\"b\"` - Binary - Binary mode (e.g. images\n",
    "\n",
    "```{contents}\n",
    ":local:\n",
    "```\n",
    "\n",
    "## Opening Files for Reading\n",
    "\n",
    "The default mode of open is reading, so we do not have to specify \"r\" or \"rt\". I have created and saved a file named reading_file_example.txt in the files directory. Let us see how it is done:"
   ]
  },
  {
   "cell_type": "code",
   "execution_count": 13,
   "id": "5cbfcd4b-9ffc-4d62-afe7-2f4dbae3a3ed",
   "metadata": {},
   "outputs": [
    {
     "name": "stdout",
     "output_type": "stream",
     "text": [
      "<_io.TextIOWrapper name='reading_file_example.txt' mode='r' encoding='UTF-8'>\n"
     ]
    }
   ],
   "source": [
    "f = open(\"reading_file_example.txt\")\n",
    "print(f)"
   ]
  },
  {
   "cell_type": "markdown",
   "id": "17d8eb0d-4101-44b8-aa06-014c3cceb105",
   "metadata": {},
   "source": [
    "As you can see in the example above, we printed the opened file and it gave some information about it. Opened file has different reading methods: `read()`, `readline()`, and `readlines()`. An opened file has to be closed with `close()` method.\n",
    "\n",
    "### read()\n",
    "\n",
    "`read()` reads the whole text as string. If we want to limit the number of characters we want to read, we can limit it by passing int value to the read(number) method."
   ]
  },
  {
   "cell_type": "code",
   "execution_count": 14,
   "id": "61337471-a25c-4933-92be-f1481d8f46aa",
   "metadata": {},
   "outputs": [
    {
     "name": "stdout",
     "output_type": "stream",
     "text": [
      "Halo, ini adalah contoh membaca file dengan Python.\n",
      "Sebagai bagian dari training Python oleh Lab Fasilkom Unsri.\n",
      "I <3 Python.\n"
     ]
    }
   ],
   "source": [
    "f = open(\"reading_file_example.txt\")\n",
    "text = f.read()\n",
    "print(text)\n",
    "f.close()"
   ]
  },
  {
   "cell_type": "markdown",
   "id": "1a8ecf5c-0ce3-4fe1-841d-05825e109879",
   "metadata": {},
   "source": [
    "Instead of printing all the text, let us print the first 10 characters of the text file."
   ]
  },
  {
   "cell_type": "code",
   "execution_count": 15,
   "id": "495c581d-f591-4678-97d8-a5330779cbbb",
   "metadata": {},
   "outputs": [
    {
     "name": "stdout",
     "output_type": "stream",
     "text": [
      "Halo, ini \n"
     ]
    }
   ],
   "source": [
    "f = open(\"reading_file_example.txt\")\n",
    "text = f.read(10)\n",
    "print(text)\n",
    "f.close()"
   ]
  },
  {
   "cell_type": "markdown",
   "id": "5be4d3a6-9461-4ffd-8b66-7587ecd88cc9",
   "metadata": {},
   "source": [
    "### readline()\n",
    "\n",
    "`readline()` reads only the first line."
   ]
  },
  {
   "cell_type": "code",
   "execution_count": 16,
   "id": "a9345163-7194-4529-a13d-d410736ded73",
   "metadata": {},
   "outputs": [
    {
     "name": "stdout",
     "output_type": "stream",
     "text": [
      "Halo, ini adalah contoh membaca file dengan Python.\n",
      "\n"
     ]
    }
   ],
   "source": [
    "f = open(\"reading_file_example.txt\")\n",
    "text = f.readline()\n",
    "print(text)\n",
    "f.close()"
   ]
  },
  {
   "cell_type": "markdown",
   "id": "d7ca7ddd-98bf-42e4-8b0e-6f320b22f8fb",
   "metadata": {},
   "source": [
    "### readlines()\n",
    "\n",
    "`readlines()` reads all the text line by line and returns a list of lines"
   ]
  },
  {
   "cell_type": "code",
   "execution_count": 17,
   "id": "314e27ef-dbd0-4ea7-9e50-fb3551474c44",
   "metadata": {},
   "outputs": [
    {
     "name": "stdout",
     "output_type": "stream",
     "text": [
      "['Halo, ini adalah contoh membaca file dengan Python.\\n', 'Sebagai bagian dari training Python oleh Lab Fasilkom Unsri.\\n', 'I <3 Python.']\n"
     ]
    }
   ],
   "source": [
    "f = open(\"reading_file_example.txt\")\n",
    "lines = f.readlines()\n",
    "print(lines)\n",
    "f.close()"
   ]
  },
  {
   "cell_type": "markdown",
   "id": "be37705e-b9f0-4f7d-8a02-99a0060394e2",
   "metadata": {},
   "source": [
    "Another way to get all the lines as a list is using `read().splitlines()`:"
   ]
  },
  {
   "cell_type": "code",
   "execution_count": 18,
   "id": "e035163b-7210-4742-9dbc-7bb3989633fe",
   "metadata": {},
   "outputs": [
    {
     "name": "stdout",
     "output_type": "stream",
     "text": [
      "['Halo, ini adalah contoh membaca file dengan Python.', 'Sebagai bagian dari training Python oleh Lab Fasilkom Unsri.', 'I <3 Python.']\n"
     ]
    }
   ],
   "source": [
    "f = open(\"reading_file_example.txt\")\n",
    "lines = f.read().splitlines()\n",
    "print(lines)\n",
    "f.close()"
   ]
  },
  {
   "cell_type": "markdown",
   "id": "d5891c51-a7a7-43c4-b5b7-9d57821d454e",
   "metadata": {},
   "source": [
    "After we open a file, we should close it. There is a high tendency of forgetting to close them. There is a new way of opening files using with - closes the files by itself. Let us rewrite the the previous example with the with method:"
   ]
  },
  {
   "cell_type": "code",
   "execution_count": 19,
   "id": "6cae899c-d779-490e-aae6-fe2b88b6c783",
   "metadata": {},
   "outputs": [
    {
     "name": "stdout",
     "output_type": "stream",
     "text": [
      "['Halo, ini adalah contoh membaca file dengan Python.', 'Sebagai bagian dari training Python oleh Lab Fasilkom Unsri.', 'I <3 Python.']\n"
     ]
    }
   ],
   "source": [
    "with open(\"reading_file_example.txt\") as f:\n",
    "    lines = f.read().splitlines()\n",
    "    print(lines)"
   ]
  },
  {
   "cell_type": "markdown",
   "id": "3e7c48f3-75f9-4c18-93e6-e69f719ca437",
   "metadata": {},
   "source": [
    "## Opening Files for Writing and Updating\n",
    "\n",
    "To write to an existing file, we must add a mode as parameter to the open() function:\n",
    "\n",
    "* `\"a\"` - append - will append to the end of the file, if the file does not it creates a new file.\n",
    "* `\"w\"` - write - will overwrite any existing content, if the file does not exist it creates.\n",
    "\n",
    "Let us append some text to the file:"
   ]
  },
  {
   "cell_type": "code",
   "execution_count": 23,
   "id": "83430941-ea5c-45a2-9e4f-34fb15e0609d",
   "metadata": {},
   "outputs": [],
   "source": [
    "with open(\"appending_file_example.txt\", \"a\") as f:\n",
    "    f.write(\"This text has to be appended at the end.\\n\")"
   ]
  },
  {
   "cell_type": "markdown",
   "id": "83737eeb-b45a-4871-88d9-176133d5c194",
   "metadata": {},
   "source": [
    "Verify if the text appended to the file:"
   ]
  },
  {
   "cell_type": "code",
   "execution_count": 9,
   "id": "e84fcdc8-8097-4ad3-87f2-3a1c6a67c407",
   "metadata": {},
   "outputs": [
    {
     "name": "stdout",
     "output_type": "stream",
     "text": [
      "This text has to be appended at the end.\n"
     ]
    }
   ],
   "source": [
    "with open(\"../../../data/writing_file_example.txt\") as f:\n",
    "    text = f.read()\n",
    "    print(text)"
   ]
  },
  {
   "cell_type": "markdown",
   "id": "66415c3c-4482-4338-aa46-e5e72d6e59b3",
   "metadata": {},
   "source": [
    "The method below creates a new file, if the file does not exist:"
   ]
  },
  {
   "cell_type": "code",
   "execution_count": 25,
   "id": "6f08d98c-a8d4-4fdf-baf6-0ead0a1ceb01",
   "metadata": {},
   "outputs": [],
   "source": [
    "with open(\"creating_file_example.txt\", \"w\") as f:\n",
    "    f.write(\"This text will be written in a newly created file.\")"
   ]
  },
  {
   "cell_type": "markdown",
   "id": "bdf1a153-5a40-4e12-b2c4-f283905a2c43",
   "metadata": {},
   "source": [
    "## Deleting Files\n",
    "\n",
    "We have seen in previous section, how to make and remove a directory using os module. Again now, if we want to remove a file we use os module.\n",
    "\n",
    "```\n",
    "import os\n",
    "os.remove('./files/example.txt')\n",
    "```\n",
    "\n",
    "If the file does not exist, the remove method will raise an error, so it is good to use a condition like this:\n",
    "\n",
    "```\n",
    "import os\n",
    "if os.path.exists('./files/example.txt'):\n",
    "    os.remove('./files/example.txt')\n",
    "else:\n",
    "    print('The file does not exist')\n",
    "```"
   ]
  },
  {
   "cell_type": "markdown",
   "id": "78c54141-39c1-4175-b43f-50a7f599e756",
   "metadata": {},
   "source": [
    "## File Types\n",
    "\n",
    "### File with `.csv` Extension\n",
    "\n",
    "CSV stands for comma separated values. CSV is a simple file format used to store tabular data, such as a spreadsheet or database. CSV is a very common data format in data science.\n",
    "\n",
    "```\n",
    "\"name\",\"country\",\"city\",\"skills\"\n",
    "\"Aurora\",\"Indonesia\",\"Palembang\",\"Python\"\n",
    "```"
   ]
  },
  {
   "cell_type": "code",
   "execution_count": 26,
   "id": "0258b5c3-2f6b-461b-a738-10425d11bcc5",
   "metadata": {},
   "outputs": [
    {
     "name": "stdout",
     "output_type": "stream",
     "text": [
      "Column names are: name, country, city, skills\n",
      "\tAurora is a student. He lives in Palembang, Indonesia.\n",
      "\tJokowi is a student. He lives in Solo, Indonesia.\n",
      "Number of lines:  3\n"
     ]
    }
   ],
   "source": [
    "import csv\n",
    "\n",
    "with open(\"../../../data/csv_example.csv\") as f:\n",
    "    csv_reader = csv.reader(f, delimiter=\",\")  # w use, reader method to read csv\n",
    "    line_count = 0\n",
    "    for row in csv_reader:\n",
    "        if line_count == 0:\n",
    "            print(f'Column names are: {\", \".join(row)}')\n",
    "            line_count += 1\n",
    "        else:\n",
    "            print(f\"\\t{row[0]} is a student. He lives in {row[2]}, {row[1]}.\")\n",
    "            line_count += 1\n",
    "    print(f\"Number of lines:  {line_count}\")"
   ]
  },
  {
   "cell_type": "code",
   "execution_count": 29,
   "id": "5d0c0177-137d-4d6b-95b8-30359aa44e32",
   "metadata": {},
   "outputs": [
    {
     "name": "stdout",
     "output_type": "stream",
     "text": [
      "Column names are: \"name\",\"country\",\"city\",\"skills\"\n",
      "\n",
      "\t\"Aurora\" is a student. He lives in \"Palembang\", \"Indonesia\".\n",
      "\t\"Jokowi\" is a student. He lives in \"Solo\", \"Indonesia\".\n"
     ]
    }
   ],
   "source": [
    "with open(\"../../../data/csv_example.csv\") as f:\n",
    "    lines = f.readlines()\n",
    "    line_count = 0\n",
    "    for line in lines:\n",
    "        if line_count == 0:\n",
    "            print(f\"Column names are: {line}\")\n",
    "        else:\n",
    "            row = line.split(\",\")\n",
    "            print(f\"\\t{row[0]} is a student. He lives in {row[2]}, {row[1]}.\")\n",
    "        line_count += 1"
   ]
  },
  {
   "cell_type": "code",
   "execution_count": null,
   "id": "dbd32558-1316-4cfc-b66a-d0751c4c1360",
   "metadata": {},
   "outputs": [],
   "source": []
  }
 ],
 "metadata": {
  "kernelspec": {
   "display_name": "Python 3 (ipykernel)",
   "language": "python",
   "name": "python3"
  },
  "language_info": {
   "codemirror_mode": {
    "name": "ipython",
    "version": 3
   },
   "file_extension": ".py",
   "mimetype": "text/x-python",
   "name": "python",
   "nbconvert_exporter": "python",
   "pygments_lexer": "ipython3",
   "version": "3.12.4"
  }
 },
 "nbformat": 4,
 "nbformat_minor": 5
}
