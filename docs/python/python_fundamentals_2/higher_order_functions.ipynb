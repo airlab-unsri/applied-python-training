{
 "cells": [
  {
   "cell_type": "markdown",
   "id": "650b77d5-31fa-4ec4-bec1-f281f0efb9c8",
   "metadata": {},
   "source": [
    "# Higher Order Functions\n",
    "\n",
    "In Python functions are treated as first class citizens, allowing you to perform the following operations on functions:\n",
    "\n",
    "* A function can take one or more functions as parameters\n",
    "* A function can be returned as a result of another function\n",
    "* A function can be modified\n",
    "* A function can be assigned to a variable\n",
    "\n",
    "In this section, we will cover:\n",
    "\n",
    "1. Handling functions as parameters\n",
    "2. Returning functions as return value from another functions\n",
    "3. Using Python closures and decorators"
   ]
  },
  {
   "cell_type": "markdown",
   "id": "53a3a454-4aeb-401e-8b79-5f7448f0ee6d",
   "metadata": {},
   "source": [
    "## Function as a Parameter"
   ]
  },
  {
   "cell_type": "code",
   "execution_count": 1,
   "id": "7294260b-051f-450b-8d07-71e8840bb1d0",
   "metadata": {},
   "outputs": [
    {
     "data": {
      "text/plain": [
       "15"
      ]
     },
     "execution_count": 1,
     "metadata": {},
     "output_type": "execute_result"
    }
   ],
   "source": [
    "def sum_numbers(nums):\n",
    "    return sum(nums)\n",
    "\n",
    "\n",
    "def higher_order_function(f, lst):\n",
    "    summation = f(lst)\n",
    "    return summation\n",
    "\n",
    "\n",
    "result = higher_order_function(sum_numbers, [1, 2, 3, 4, 5])\n",
    "result"
   ]
  },
  {
   "cell_type": "markdown",
   "id": "4e59afd5-b5b2-47d1-a084-a393939ea8de",
   "metadata": {},
   "source": [
    "## Function as a Return Value"
   ]
  },
  {
   "cell_type": "code",
   "execution_count": 2,
   "id": "35aa15c1-dec5-4166-8a41-159567a3a9bd",
   "metadata": {},
   "outputs": [
    {
     "name": "stdout",
     "output_type": "stream",
     "text": [
      "9\n",
      "27\n",
      "3\n"
     ]
    }
   ],
   "source": [
    "def square(x):\n",
    "    return x**2\n",
    "\n",
    "\n",
    "def cube(x):\n",
    "    return x**3\n",
    "\n",
    "\n",
    "def absolute(x):\n",
    "    if x >= 0:\n",
    "        return x\n",
    "    else:\n",
    "        return -(x)\n",
    "\n",
    "\n",
    "def higher_order_function(type):\n",
    "    if type == \"square\":\n",
    "        return square\n",
    "    elif type == \"cube\":\n",
    "        return cube\n",
    "    elif type == \"absolute\":\n",
    "        return absolute\n",
    "\n",
    "\n",
    "result = higher_order_function(\"square\")\n",
    "print(result(3))\n",
    "\n",
    "result = higher_order_function(\"cube\")\n",
    "print(result(3))\n",
    "\n",
    "result = higher_order_function(\"absolute\")\n",
    "print(result(-3))"
   ]
  },
  {
   "cell_type": "markdown",
   "id": "d526d5ab-5cb9-40af-867b-3218c54e404e",
   "metadata": {},
   "source": [
    "You can see from the above example that the higher order function is returning different functions depending on the passed parameter."
   ]
  },
  {
   "cell_type": "markdown",
   "id": "4c974568-5f60-48f2-a24b-ae6a4a6cf7ba",
   "metadata": {},
   "source": [
    "## Python Closures\n",
    "\n",
    "Python allows a nested function to access the outer scope of the enclosing function. This is is known as a Closure. Let us have a look at how closures work in Python. In Python, closure is created by nesting a function inside another encapsulating function and then returning the inner function."
   ]
  },
  {
   "cell_type": "code",
   "execution_count": 3,
   "id": "6a2464fc-7cdc-4fcc-9cab-dc4a21972537",
   "metadata": {},
   "outputs": [
    {
     "name": "stdout",
     "output_type": "stream",
     "text": [
      "15\n",
      "20\n"
     ]
    }
   ],
   "source": [
    "def add_ten():\n",
    "    ten = 10\n",
    "\n",
    "    def add(num):\n",
    "        return num + ten\n",
    "\n",
    "    return add\n",
    "\n",
    "\n",
    "closure_result = add_ten()\n",
    "print(closure_result(5))\n",
    "print(closure_result(10))"
   ]
  },
  {
   "cell_type": "markdown",
   "id": "ba27dc3e-2519-4e61-9c2f-4ea08fd23c0b",
   "metadata": {},
   "source": [
    "## Python Decorators\n",
    "\n",
    "A decorator is a design pattern in Python that allows a user to add new functionality to an existing object without modifying its structure. Decorators are usually called before the definition of a function you want to decorate.\n",
    "\n",
    "### Creating Decorators\n",
    "\n",
    "To create a decorator function, we need an outer function with an inner wrapper function."
   ]
  },
  {
   "cell_type": "code",
   "execution_count": 4,
   "id": "d3b05da0-9c89-4e5a-b782-72590820c502",
   "metadata": {},
   "outputs": [
    {
     "name": "stdout",
     "output_type": "stream",
     "text": [
      "WELCOME TO PYTHON\n"
     ]
    }
   ],
   "source": [
    "\"\"\"This decorator function is a higher order function\n",
    "that takes a function as a parameter\"\"\"\n",
    "\n",
    "\n",
    "def uppercase_decorator(function):\n",
    "    def wrapper():\n",
    "        func = function()\n",
    "        make_uppercase = func.upper()\n",
    "        return make_uppercase\n",
    "\n",
    "    return wrapper\n",
    "\n",
    "\n",
    "@uppercase_decorator\n",
    "def greeting():\n",
    "    return \"Welcome to Python\"\n",
    "\n",
    "\n",
    "print(greeting())"
   ]
  },
  {
   "cell_type": "markdown",
   "id": "0bb22724-6616-4891-a19d-237552e3acb8",
   "metadata": {},
   "source": [
    "### Applying Multiple Decorators to a Single Function"
   ]
  },
  {
   "cell_type": "code",
   "execution_count": 5,
   "id": "35c8bce9-1107-4bcf-b065-f8ae9d03a665",
   "metadata": {},
   "outputs": [
    {
     "name": "stdout",
     "output_type": "stream",
     "text": [
      "['WELCOME', 'TO', 'PYTHON']\n"
     ]
    }
   ],
   "source": [
    "\"\"\"These decorator functions are higher order functions\n",
    "that take functions as parameters\"\"\"\n",
    "\n",
    "\n",
    "# First Decorator\n",
    "def uppercase_decorator(function):\n",
    "    def wrapper():\n",
    "        func = function()\n",
    "        make_uppercase = func.upper()\n",
    "        return make_uppercase\n",
    "\n",
    "    return wrapper\n",
    "\n",
    "\n",
    "# Second decorator\n",
    "def split_string_decorator(function):\n",
    "    def wrapper():\n",
    "        func = function()\n",
    "        splitted_string = func.split()\n",
    "        return splitted_string\n",
    "\n",
    "    return wrapper\n",
    "\n",
    "\n",
    "# order with decorators is important in this case - .upper() function does not work with lists\n",
    "@split_string_decorator\n",
    "@uppercase_decorator\n",
    "def greeting():\n",
    "    return \"Welcome to Python\"\n",
    "\n",
    "\n",
    "print(greeting())"
   ]
  },
  {
   "cell_type": "markdown",
   "id": "f5d41027-b10e-47fd-89fa-b43c6c3b74c9",
   "metadata": {},
   "source": [
    "### Accepting Parameters in Decorator Functions\n",
    "\n",
    "Most of the time we need our functions to take parameters, so we might need to define a decorator that accepts parameters."
   ]
  },
  {
   "cell_type": "code",
   "execution_count": 6,
   "id": "49061ef8-24df-4747-9f94-ed571a302360",
   "metadata": {},
   "outputs": [
    {
     "name": "stdout",
     "output_type": "stream",
     "text": [
      "I am Aurora Luna. I love to Python.\n",
      "I live in Indonesia\n"
     ]
    }
   ],
   "source": [
    "def decorator_with_parameters(function):\n",
    "    def wrapper_accepting_parameters(para1, para2, para3):\n",
    "        function(para1, para2, para3)\n",
    "        print(\"I live in {}\".format(para3))\n",
    "\n",
    "    return wrapper_accepting_parameters\n",
    "\n",
    "\n",
    "@decorator_with_parameters\n",
    "def print_full_name(first_name, last_name, country):\n",
    "    print(\"I am {} {}. I love to Python.\".format(first_name, last_name, country))\n",
    "\n",
    "\n",
    "print_full_name(\"Aurora\", \"Luna\", \"Indonesia\")"
   ]
  }
 ],
 "metadata": {
  "kernelspec": {
   "display_name": "Python 3 (ipykernel)",
   "language": "python",
   "name": "python3"
  },
  "language_info": {
   "codemirror_mode": {
    "name": "ipython",
    "version": 3
   },
   "file_extension": ".py",
   "mimetype": "text/x-python",
   "name": "python",
   "nbconvert_exporter": "python",
   "pygments_lexer": "ipython3",
   "version": "3.12.4"
  }
 },
 "nbformat": 4,
 "nbformat_minor": 5
}
