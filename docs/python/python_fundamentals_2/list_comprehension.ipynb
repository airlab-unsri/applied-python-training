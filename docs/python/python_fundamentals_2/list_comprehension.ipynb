{
 "cells": [
  {
   "cell_type": "markdown",
   "id": "b39abc94-0f93-46f4-a64b-bc0e866fc334",
   "metadata": {},
   "source": [
    "# List Comprehension\n",
    "\n",
    "List comprehension in Python is a compact way of creating a list from a sequence. It is a short way to create a new list. List comprehension is considerably faster than processing a list using the for loop.\n",
    "\n",
    "```\n",
    "[i for i in iterable if expression]\n",
    "```\n",
    "\n",
    "For instance if you want to change a string to a list of characters. You can use a couple of methods. Let's see some of them:"
   ]
  },
  {
   "cell_type": "code",
   "execution_count": 1,
   "id": "86ebc2f6-2bf8-49ce-a9ce-1f8941d120e3",
   "metadata": {},
   "outputs": [
    {
     "data": {
      "text/plain": [
       "['P', 'y', 't', 'h', 'o', 'n']"
      ]
     },
     "execution_count": 1,
     "metadata": {},
     "output_type": "execute_result"
    }
   ],
   "source": [
    "word = \"Python\"\n",
    "l = [letter for letter in word]\n",
    "l"
   ]
  },
  {
   "cell_type": "markdown",
   "id": "9478d374-3bfd-4185-acf3-dfcd95cb0d55",
   "metadata": {},
   "source": [
    "If you want to generate a list of numbers:"
   ]
  },
  {
   "cell_type": "code",
   "execution_count": 2,
   "id": "46846cc6-f1c3-4941-8134-0ff07665350a",
   "metadata": {},
   "outputs": [
    {
     "data": {
      "text/plain": [
       "[0, 1, 2, 3, 4, 5, 6, 7, 8, 9, 10]"
      ]
     },
     "execution_count": 2,
     "metadata": {},
     "output_type": "execute_result"
    }
   ],
   "source": [
    "numbers = [i for i in range(11)]\n",
    "numbers"
   ]
  },
  {
   "cell_type": "code",
   "execution_count": 3,
   "id": "5cc40c5f-4eb7-4b47-ba29-4fa0dcfe73b0",
   "metadata": {},
   "outputs": [
    {
     "data": {
      "text/plain": [
       "[0, 1, 4, 9, 16, 25, 36, 49, 64, 81, 100]"
      ]
     },
     "execution_count": 3,
     "metadata": {},
     "output_type": "execute_result"
    }
   ],
   "source": [
    "squares = [i * i for i in range(11)]\n",
    "squares"
   ]
  },
  {
   "cell_type": "code",
   "execution_count": 4,
   "id": "cf3055ed-a61e-4f56-8034-1ffa96ab8933",
   "metadata": {},
   "outputs": [
    {
     "data": {
      "text/plain": [
       "[(0, 0),\n",
       " (1, 1),\n",
       " (2, 4),\n",
       " (3, 9),\n",
       " (4, 16),\n",
       " (5, 25),\n",
       " (6, 36),\n",
       " (7, 49),\n",
       " (8, 64),\n",
       " (9, 81),\n",
       " (10, 100)]"
      ]
     },
     "execution_count": 4,
     "metadata": {},
     "output_type": "execute_result"
    }
   ],
   "source": [
    "tpl = [(i, i * i) for i in range(11)]\n",
    "tpl"
   ]
  },
  {
   "cell_type": "markdown",
   "id": "bf95b572-90a2-4230-996e-8507a6a8207c",
   "metadata": {},
   "source": [
    "List comprehension can be combined with if expression."
   ]
  },
  {
   "cell_type": "code",
   "execution_count": 5,
   "id": "a1c06686-8fd7-4844-830b-782b2ed19632",
   "metadata": {},
   "outputs": [
    {
     "data": {
      "text/plain": [
       "[0, 2, 4, 6, 8, 10, 12, 14, 16, 18, 20]"
      ]
     },
     "execution_count": 5,
     "metadata": {},
     "output_type": "execute_result"
    }
   ],
   "source": [
    "even_numbers = [i for i in range(21) if i % 2 == 0]\n",
    "even_numbers"
   ]
  },
  {
   "cell_type": "code",
   "execution_count": 6,
   "id": "6bff9184-02f5-4443-96c8-6f7277d761e4",
   "metadata": {},
   "outputs": [
    {
     "data": {
      "text/plain": [
       "[1, 3, 5, 7, 9, 11, 13, 15, 17, 19]"
      ]
     },
     "execution_count": 6,
     "metadata": {},
     "output_type": "execute_result"
    }
   ],
   "source": [
    "odd_numbers = [i for i in range(21) if i % 2 != 0]\n",
    "odd_numbers"
   ]
  },
  {
   "cell_type": "code",
   "execution_count": 7,
   "id": "bc86527a-57fd-449e-b574-0cd7db51076c",
   "metadata": {},
   "outputs": [
    {
     "data": {
      "text/plain": [
       "[2, 4, 6, 8, 10, 12, 14, 16, 18, 20]"
      ]
     },
     "execution_count": 7,
     "metadata": {},
     "output_type": "execute_result"
    }
   ],
   "source": [
    "positive_even_numbers = [i for i in range(21) if i % 2 == 0 and i > 0]\n",
    "positive_even_numbers"
   ]
  },
  {
   "cell_type": "code",
   "execution_count": 8,
   "id": "3bf40480-0dd3-44d2-8d3e-a81b90153d56",
   "metadata": {},
   "outputs": [
    {
     "data": {
      "text/plain": [
       "[1, 2, 3, 4, 5, 6, 7, 8, 9]"
      ]
     },
     "execution_count": 8,
     "metadata": {},
     "output_type": "execute_result"
    }
   ],
   "source": [
    "list_of_lists = [[1, 2, 3], [4, 5, 6], [7, 8, 9]]\n",
    "flattened_list = [number for row in list_of_lists for number in row]\n",
    "flattened_list"
   ]
  }
 ],
 "metadata": {
  "kernelspec": {
   "display_name": "Python 3 (ipykernel)",
   "language": "python",
   "name": "python3"
  },
  "language_info": {
   "codemirror_mode": {
    "name": "ipython",
    "version": 3
   },
   "file_extension": ".py",
   "mimetype": "text/x-python",
   "name": "python",
   "nbconvert_exporter": "python",
   "pygments_lexer": "ipython3",
   "version": "3.12.4"
  }
 },
 "nbformat": 4,
 "nbformat_minor": 5
}
