{
 "cells": [
  {
   "cell_type": "markdown",
   "id": "ec5a9441-ced5-42e1-8763-71f3518649ec",
   "metadata": {},
   "source": [
    "# Loops\n",
    "\n",
    "Life is full of routines. In programming we also do lots of repetitive tasks. In order to handle repetitive task programming languages use loops. Python programming language also provides the following types of two loops:\n",
    "\n",
    "1. while loop\n",
    "2. for loop\n",
    "\n",
    "```{contents}\n",
    ":local:\n",
    "```"
   ]
  },
  {
   "cell_type": "markdown",
   "id": "6370fa60-8f04-481f-b98a-0247bc56019c",
   "metadata": {},
   "source": [
    "## While Loop\n",
    "We use the reserved word while to make a while loop. It is used to execute a block of statements repeatedly until a given condition is satisfied. When the condition becomes false, the lines of code after the loop will be continued to be executed.\n",
    "\n",
    "```\n",
    "while condition:\n",
    "    code goes here\n",
    "```"
   ]
  },
  {
   "cell_type": "code",
   "execution_count": 1,
   "id": "11d2d0d8-356d-453d-9487-3f590e172e99",
   "metadata": {},
   "outputs": [
    {
     "name": "stdout",
     "output_type": "stream",
     "text": [
      "0\n",
      "1\n",
      "2\n",
      "3\n",
      "4\n"
     ]
    }
   ],
   "source": [
    "count = 0\n",
    "while count < 5:\n",
    "    print(count)\n",
    "    count = count + 1"
   ]
  },
  {
   "cell_type": "markdown",
   "id": "65998409-6350-4014-835a-6bf461e74364",
   "metadata": {},
   "source": [
    "In the above while loop, the condition becomes false when count is 5. That is when the loop stops. If we are interested to run block of code once the condition is no longer true, we can use `else`.\n",
    "\n",
    "```\n",
    "while condition:\n",
    "    code goes here\n",
    "else:\n",
    "    code goes here\n",
    "```"
   ]
  },
  {
   "cell_type": "code",
   "execution_count": 2,
   "id": "338d2a04-a209-48fd-9c1b-83585819f9a3",
   "metadata": {},
   "outputs": [
    {
     "name": "stdout",
     "output_type": "stream",
     "text": [
      "0\n",
      "1\n",
      "2\n",
      "3\n",
      "4\n",
      "5\n"
     ]
    }
   ],
   "source": [
    "count = 0\n",
    "while count < 5:\n",
    "    print(count)\n",
    "    count = count + 1\n",
    "else:\n",
    "    print(count)"
   ]
  },
  {
   "cell_type": "markdown",
   "id": "acaabc8f-ff70-400e-9881-48d393886801",
   "metadata": {},
   "source": [
    "The above loop condition will be false when count is 5 and the loop stops, and execution starts the else statement. As a result 5 will be printed."
   ]
  },
  {
   "cell_type": "markdown",
   "id": "278da8b0-1b34-42ea-970d-d83fe805de16",
   "metadata": {},
   "source": [
    "## Break and Continue - Part 1\n",
    "\n",
    "**Break**: We use break when we like to get out of or stop the loop.\n",
    "\n",
    "```\n",
    "while condition:\n",
    "    code goes here\n",
    "    if another_condition:\n",
    "        break\n",
    "```"
   ]
  },
  {
   "cell_type": "code",
   "execution_count": 3,
   "id": "ca5fa488-08e6-4908-8d89-e53393a137c3",
   "metadata": {},
   "outputs": [
    {
     "name": "stdout",
     "output_type": "stream",
     "text": [
      "0\n",
      "1\n",
      "2\n"
     ]
    }
   ],
   "source": [
    "count = 0\n",
    "while count < 5:\n",
    "    print(count)\n",
    "    count = count + 1\n",
    "    if count == 3:\n",
    "        break"
   ]
  },
  {
   "cell_type": "markdown",
   "id": "9b383afb-ef02-44c4-854f-45a419740217",
   "metadata": {},
   "source": [
    "The above while loop only prints 0, 1, 2, but when it reaches 3 it stops.\n",
    "\n",
    "**Continue**: With the continue statement we can skip the current iteration, and continue with the next:\n",
    "\n",
    "```\n",
    "while condition:\n",
    "    code goes here\n",
    "    if another_condition:\n",
    "        continue\n",
    "```"
   ]
  },
  {
   "cell_type": "code",
   "execution_count": 4,
   "id": "9865e504-e990-42ae-8e05-65e74ec2d2f3",
   "metadata": {},
   "outputs": [
    {
     "name": "stdout",
     "output_type": "stream",
     "text": [
      "0\n",
      "1\n",
      "2\n",
      "4\n"
     ]
    }
   ],
   "source": [
    "count = 0\n",
    "while count < 5:\n",
    "    if count == 3:\n",
    "        count = count + 1\n",
    "        continue\n",
    "    print(count)\n",
    "    count = count + 1"
   ]
  },
  {
   "cell_type": "markdown",
   "id": "f79b97c3-4601-4567-a982-6c5ffe50ccf7",
   "metadata": {},
   "source": [
    "The above while loop only prints 0, 1, 2 and 4 (skips 3)."
   ]
  },
  {
   "cell_type": "markdown",
   "id": "2b2d1b6d-5b68-494c-88e3-64bf401f2d70",
   "metadata": {},
   "source": [
    "## For Loop\n",
    "\n",
    "A for keyword is used to make a for loop, similar with other programming languages, but with some syntax differences. Loop is used for iterating over a sequence (that is either a list, a tuple, a dictionary, a set, or a string).\n",
    "\n",
    "### For loop with list\n",
    "\n",
    "```\n",
    "for iterator in list:\n",
    "    code goes here\n",
    "```"
   ]
  },
  {
   "cell_type": "code",
   "execution_count": 5,
   "id": "e25723a0-714b-4c78-91e2-9cb96ba2025c",
   "metadata": {},
   "outputs": [
    {
     "name": "stdout",
     "output_type": "stream",
     "text": [
      "0\n",
      "1\n",
      "2\n",
      "3\n",
      "4\n",
      "5\n"
     ]
    }
   ],
   "source": [
    "numbers = [0, 1, 2, 3, 4, 5]\n",
    "for (\n",
    "    number\n",
    ") in (\n",
    "    numbers\n",
    "):  # number is temporary name to refer to the list's items, valid only inside this loop\n",
    "    print(number)  # the numbers will be printed line by line, from 0 to 5"
   ]
  },
  {
   "cell_type": "markdown",
   "id": "8ad8791d-4ac3-44b1-be77-fb36065de0e9",
   "metadata": {},
   "source": [
    "### For loop with string\n",
    "\n",
    "```\n",
    "for iterator in string:\n",
    "    code goes here\n",
    "```"
   ]
  },
  {
   "cell_type": "code",
   "execution_count": 6,
   "id": "c97da16c-0c9f-4979-9ac3-a41d09eddaff",
   "metadata": {},
   "outputs": [
    {
     "name": "stdout",
     "output_type": "stream",
     "text": [
      "P\n",
      "y\n",
      "t\n",
      "h\n",
      "o\n",
      "n\n",
      "P\n",
      "y\n",
      "t\n",
      "h\n",
      "o\n",
      "n\n"
     ]
    }
   ],
   "source": [
    "language = \"Python\"\n",
    "for letter in language:\n",
    "    print(letter)\n",
    "\n",
    "for i in range(len(language)):\n",
    "    print(language[i])"
   ]
  },
  {
   "cell_type": "markdown",
   "id": "aab1aa13-fed6-452f-8ce7-d3051f7509a2",
   "metadata": {},
   "source": [
    "### For loop with tuple\n",
    "\n",
    "```\n",
    "for iterator in tuple:\n",
    "    code goes here\n",
    "```"
   ]
  },
  {
   "cell_type": "code",
   "execution_count": 7,
   "id": "5baa6d8b-a375-4cb5-b6fb-6472b42b2308",
   "metadata": {},
   "outputs": [
    {
     "name": "stdout",
     "output_type": "stream",
     "text": [
      "0\n",
      "1\n",
      "2\n",
      "3\n",
      "4\n",
      "5\n"
     ]
    }
   ],
   "source": [
    "numbers = (0, 1, 2, 3, 4, 5)\n",
    "for number in numbers:\n",
    "    print(number)"
   ]
  },
  {
   "cell_type": "markdown",
   "id": "e5369726-64ee-4f1f-ba9a-a8c383325116",
   "metadata": {},
   "source": [
    "### For loop with dictionary\n",
    "\n",
    "Looping through a dictionary gives you the key of the dictionary.\n",
    "\n",
    "```\n",
    "for iterator in dict:\n",
    "    code goes here\n",
    "```"
   ]
  },
  {
   "cell_type": "code",
   "execution_count": 8,
   "id": "924f0b97-774b-46a6-82c8-2cabb8edab46",
   "metadata": {},
   "outputs": [
    {
     "name": "stdout",
     "output_type": "stream",
     "text": [
      "first_name\n",
      "last_name\n",
      "age\n",
      "country\n",
      "skills\n",
      "address\n",
      "first_name Aurora\n",
      "last_name Luna\n",
      "age 6\n",
      "country Indonesia\n",
      "skills ['JavaScript', 'React', 'Node', 'MongoDB', 'Python']\n",
      "address {'street': 'Jl. Jalan', 'zipcode': '123456'}\n"
     ]
    }
   ],
   "source": [
    "person = {\n",
    "    \"first_name\": \"Aurora\",\n",
    "    \"last_name\": \"Luna\",\n",
    "    \"age\": 6,\n",
    "    \"country\": \"Indonesia\",\n",
    "    \"skills\": [\"JavaScript\", \"React\", \"Node\", \"MongoDB\", \"Python\"],\n",
    "    \"address\": {\"street\": \"Jl. Jalan\", \"zipcode\": \"123456\"},\n",
    "}\n",
    "\n",
    "for key in person:\n",
    "    print(key)\n",
    "\n",
    "for key, value in person.items():\n",
    "    print(key, value)  # this way we get both keys and values printed out"
   ]
  },
  {
   "cell_type": "markdown",
   "id": "eccdf511-4a6b-46bf-88dd-04545a2f65df",
   "metadata": {},
   "source": [
    "### For loop with set\n",
    "\n",
    "```\n",
    "for iterator in st:\n",
    "    code goes here\n",
    "```"
   ]
  },
  {
   "cell_type": "code",
   "execution_count": 9,
   "id": "c37f5684-a334-4cf6-916d-988d271a6884",
   "metadata": {},
   "outputs": [
    {
     "name": "stdout",
     "output_type": "stream",
     "text": [
      "Amazon\n",
      "Facebook\n",
      "Apple\n",
      "Oracle\n",
      "IBM\n",
      "Microsoft\n",
      "Google\n"
     ]
    }
   ],
   "source": [
    "it_companies = {\"Facebook\", \"Google\", \"Microsoft\", \"Apple\", \"IBM\", \"Oracle\", \"Amazon\"}\n",
    "for company in it_companies:\n",
    "    print(company)"
   ]
  },
  {
   "cell_type": "markdown",
   "id": "3b2a433a-ba98-409a-ae18-f7e27f85a1f4",
   "metadata": {},
   "source": [
    "## Break and Continue - Part 2\n",
    "\n",
    "Short reminder: **Break**: We use break when we like to stop our loop before it is completed.\n",
    "\n",
    "```\n",
    "for iterator in sequence:\n",
    "    code goes here\n",
    "    if condition:\n",
    "        break\n",
    "```"
   ]
  },
  {
   "cell_type": "code",
   "execution_count": 10,
   "id": "0453c586-fc46-47c4-a71c-b35d141569a1",
   "metadata": {},
   "outputs": [
    {
     "name": "stdout",
     "output_type": "stream",
     "text": [
      "0\n",
      "1\n",
      "2\n",
      "3\n"
     ]
    }
   ],
   "source": [
    "numbers = (0, 1, 2, 3, 4, 5)\n",
    "for number in numbers:\n",
    "    print(number)\n",
    "    if number == 3:\n",
    "        break"
   ]
  },
  {
   "cell_type": "markdown",
   "id": "a9e136e3-1ed1-492a-b54a-5d32dabb4fb2",
   "metadata": {},
   "source": [
    "In the above example, the loop stops when it reaches 3.\n",
    "\n",
    "**Continue**: We use continue when we like to skip some of the steps in the iteration of the loop.\n",
    "\n",
    "```\n",
    "for iterator in sequence:\n",
    "    code goes here\n",
    "    if condition:\n",
    "        continue\n",
    "```"
   ]
  },
  {
   "cell_type": "code",
   "execution_count": 11,
   "id": "dc2aecfe-f823-4b9b-b16a-387e9beeefc7",
   "metadata": {},
   "outputs": [
    {
     "name": "stdout",
     "output_type": "stream",
     "text": [
      "0\n",
      "Next number should be  1\n",
      "1\n",
      "Next number should be  2\n",
      "2\n",
      "Next number should be  3\n",
      "3\n",
      "4\n",
      "Next number should be  5\n",
      "5\n",
      "loop's end\n",
      "outside the loop\n"
     ]
    }
   ],
   "source": [
    "numbers = (0, 1, 2, 3, 4, 5)\n",
    "for number in numbers:\n",
    "    print(number)\n",
    "    if number == 3:\n",
    "        continue\n",
    "    (\n",
    "        print(\"Next number should be \", number + 1)\n",
    "        if number != 5\n",
    "        else print(\"loop's end\")\n",
    "    )  # for short hand conditions need both if and else statements\n",
    "print(\"outside the loop\")"
   ]
  },
  {
   "cell_type": "markdown",
   "id": "c4d3db26-6cec-49e0-bb00-07322da192b5",
   "metadata": {},
   "source": [
    "In the example above, if the number equals 3, the step after the condition (but inside the loop) is skipped and the execution of the loop continues if there are any iterations left."
   ]
  },
  {
   "cell_type": "markdown",
   "id": "f4ce6a8a-577e-4d7a-9f1c-03ee07da4487",
   "metadata": {},
   "source": [
    "## The Range Function\n",
    "\n",
    "The `range()` function is used to create a list of numbers. The `range(start, end, step)` takes three parameters: `starting`, `ending` and `increment`. By default it starts from 0 and the increment is 1. The range sequence needs at least 1 argument (end).\n",
    "\n",
    "```\n",
    "# Creating sequences using range\n",
    "lst = list(range(11)) \n",
    "print(lst) # [0, 1, 2, 3, 4, 5, 6, 7, 8, 9, 10]\n",
    "st = set(range(1, 11))    # 2 arguments indicate start and end of the sequence, step set to default 1\n",
    "print(st) # {1, 2, 3, 4, 5, 6, 7, 8, 9, 10}\n",
    "\n",
    "lst = list(range(0,11,2))\n",
    "print(lst) # [0, 2, 4, 6, 8, 10]\n",
    "st = set(range(0,11,2))\n",
    "print(st) #  {0, 2, 4, 6, 8, 10}\n",
    "\n",
    "# Looping through range\n",
    "for iterator in range(start, end, step):\n",
    "```"
   ]
  },
  {
   "cell_type": "code",
   "execution_count": 12,
   "id": "e61a7576-99b1-42cf-9f79-4e28fca62654",
   "metadata": {},
   "outputs": [
    {
     "name": "stdout",
     "output_type": "stream",
     "text": [
      "0\n",
      "1\n",
      "2\n",
      "3\n",
      "4\n",
      "5\n",
      "6\n",
      "7\n",
      "8\n",
      "9\n",
      "10\n"
     ]
    }
   ],
   "source": [
    "for number in range(11):\n",
    "    print(number)  # prints 0 to 10, not including 11"
   ]
  },
  {
   "cell_type": "markdown",
   "id": "3707a530-137e-403a-81f4-09174eaddd09",
   "metadata": {},
   "source": [
    "## Nested For Loop\n",
    "\n",
    "We can write loops inside a loop.\n",
    "\n",
    "```\n",
    "for x in y:\n",
    "    for t in x:\n",
    "        print(t)\n",
    "```"
   ]
  },
  {
   "cell_type": "code",
   "execution_count": 13,
   "id": "bb0c10b3-8eb6-489b-82a0-6905179a0fc8",
   "metadata": {},
   "outputs": [
    {
     "name": "stdout",
     "output_type": "stream",
     "text": [
      "JavaScript\n",
      "React\n",
      "Node\n",
      "MongoDB\n",
      "Python\n"
     ]
    }
   ],
   "source": [
    "person = {\n",
    "    \"first_name\": \"Aurora\",\n",
    "    \"last_name\": \"Luna\",\n",
    "    \"age\": 6,\n",
    "    \"country\": \"Indonesia\",\n",
    "    \"skills\": [\"JavaScript\", \"React\", \"Node\", \"MongoDB\", \"Python\"],\n",
    "    \"address\": {\"street\": \"Jl. Jalan\", \"zipcode\": \"123456\"},\n",
    "}\n",
    "\n",
    "for key in person:\n",
    "    if key == \"skills\":\n",
    "        for skill in person[\"skills\"]:\n",
    "            print(skill)"
   ]
  },
  {
   "cell_type": "markdown",
   "id": "9f4b6ece-9d8c-455d-bf61-8b2342670cac",
   "metadata": {},
   "source": [
    "## For Else\n",
    "\n",
    "If we want to execute some message when the loop ends, we use else.\n",
    "\n",
    "```\n",
    "for iterator in range(start, end, step):\n",
    "    do something\n",
    "else:\n",
    "    print('The loop ended')\n",
    "```"
   ]
  },
  {
   "cell_type": "code",
   "execution_count": 14,
   "id": "eea82f90-91d7-4209-b018-c4c3edcc58d4",
   "metadata": {},
   "outputs": [
    {
     "name": "stdout",
     "output_type": "stream",
     "text": [
      "0\n",
      "1\n",
      "2\n",
      "3\n",
      "4\n",
      "5\n",
      "6\n",
      "7\n",
      "8\n",
      "9\n",
      "10\n",
      "The loop stops at 10\n"
     ]
    }
   ],
   "source": [
    "for number in range(11):\n",
    "    print(number)  # prints 0 to 10, not including 11\n",
    "else:\n",
    "    print(\"The loop stops at\", number)"
   ]
  },
  {
   "cell_type": "markdown",
   "id": "831f193d-0de7-4553-b641-22cf0715774f",
   "metadata": {},
   "source": [
    "## Pass\n",
    "\n",
    "In python when statement is required (after semicolon), but we don't like to execute any code there, we can write the word pass to avoid errors. Also we can use it as a placeholder, for future statements."
   ]
  },
  {
   "cell_type": "code",
   "execution_count": 15,
   "id": "a068d956-0dc3-4448-bd2e-b478560123d8",
   "metadata": {},
   "outputs": [],
   "source": [
    "for number in range(6):\n",
    "    pass"
   ]
  },
  {
   "cell_type": "markdown",
   "id": "ce20b298-dd5e-4b8c-9862-92d0ba0d93ca",
   "metadata": {},
   "source": [
    "You established a big milestone, you are unstoppable. Keep going! Now do some exercises for your brain."
   ]
  },
  {
   "cell_type": "markdown",
   "id": "6eac56f9-f930-4d06-91f4-5b147caa7e0a",
   "metadata": {},
   "source": [
    "## Exercises\n",
    "\n",
    "### Exercises: Level 1\n",
    "\n",
    "1. Iterate 0 to 10 using for loop, do the same using while loop.\n",
    "2. Iterate 10 to 0 using for loop, do the same using while loop.\n",
    "3. Write a loop that makes seven calls to print(), so we get on the output the following triangle:\n",
    "\n",
    "   ```py\n",
    "     #\n",
    "     ##\n",
    "     ###\n",
    "     ####\n",
    "     #####\n",
    "     ######\n",
    "     #######\n",
    "   ```\n",
    "\n",
    "4. Use nested loops to create the following:\n",
    "\n",
    "   ```sh\n",
    "   # # # # # # # #\n",
    "   # # # # # # # #\n",
    "   # # # # # # # #\n",
    "   # # # # # # # #\n",
    "   # # # # # # # #\n",
    "   # # # # # # # #\n",
    "   # # # # # # # #\n",
    "   # # # # # # # #\n",
    "   ```\n",
    "\n",
    "5. Print the following pattern:\n",
    "\n",
    "   ```sh\n",
    "   0 x 0 = 0\n",
    "   1 x 1 = 1\n",
    "   2 x 2 = 4\n",
    "   3 x 3 = 9\n",
    "   4 x 4 = 16\n",
    "   5 x 5 = 25\n",
    "   6 x 6 = 36\n",
    "   7 x 7 = 49\n",
    "   8 x 8 = 64\n",
    "   9 x 9 = 81\n",
    "   10 x 10 = 100\n",
    "   ```\n",
    "\n",
    "6. Iterate through the list, ['Python', 'Numpy','Pandas','Django', 'Flask'] using a for loop and print out the items.\n",
    "7. Use for loop to iterate from 0 to 100 and print only even numbers\n",
    "8. Use for loop to iterate from 0 to 100 and print only odd numbers\n",
    "   \n",
    "### Exercises: Level 2\n",
    "    \n",
    "1.  Use for loop to iterate from 0 to 100 and print the sum of all numbers.\n",
    "    ```sh\n",
    "    The sum of all numbers is 5050.\n",
    "    ```\n",
    "\n",
    "2. Use for loop to iterate from 0 to 100 and print the sum of all evens and the sum of all odds.\n",
    "    ```sh\n",
    "    The sum of all evens is 2550. And the sum of all odds is 2500.\n",
    "    ```"
   ]
  }
 ],
 "metadata": {
  "kernelspec": {
   "display_name": "Python 3 (ipykernel)",
   "language": "python",
   "name": "python3"
  },
  "language_info": {
   "codemirror_mode": {
    "name": "ipython",
    "version": 3
   },
   "file_extension": ".py",
   "mimetype": "text/x-python",
   "name": "python",
   "nbconvert_exporter": "python",
   "pygments_lexer": "ipython3",
   "version": "3.12.4"
  }
 },
 "nbformat": 4,
 "nbformat_minor": 5
}
