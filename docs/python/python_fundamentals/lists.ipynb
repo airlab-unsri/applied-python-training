{
 "cells": [
  {
   "cell_type": "markdown",
   "id": "8e71f8b1-b69d-4298-b5bf-a4999687e260",
   "metadata": {},
   "source": [
    "# Lists\n",
    "\n",
    "There are four collection data types in Python :\n",
    "\n",
    "* List: is a collection which is ordered and changeable(modifiable). Allows duplicate members.\n",
    "* Tuple: is a collection which is ordered and unchangeable or unmodifiable(immutable). Allows duplicate members.\n",
    "* Set: is a collection which is unordered, un-indexed and unmodifiable, but we can add new items to the set. Duplicate members are not allowed.\n",
    "* Dictionary: is a collection which is unordered, changeable(modifiable) and indexed. No duplicate members.\n",
    "\n",
    "A list is collection of different data types which is ordered and modifiable(mutable). A list can be empty or it may have different data type items.\n",
    "\n",
    "```{contents}\n",
    ":local:\n",
    "```"
   ]
  },
  {
   "cell_type": "markdown",
   "id": "a7fca854-a9d1-4fbc-8689-ddb3f0817db6",
   "metadata": {},
   "source": [
    "## Create a List"
   ]
  },
  {
   "cell_type": "code",
   "execution_count": 1,
   "id": "0eac0d19-e56b-4074-a349-3e7f91c842be",
   "metadata": {},
   "outputs": [
    {
     "data": {
      "text/plain": [
       "[]"
      ]
     },
     "execution_count": 1,
     "metadata": {},
     "output_type": "execute_result"
    }
   ],
   "source": [
    "empty_list = list()  # using built-in function\n",
    "empty_list"
   ]
  },
  {
   "cell_type": "code",
   "execution_count": 2,
   "id": "912a9acb-a452-4f3f-817f-ae7c53e137cc",
   "metadata": {},
   "outputs": [
    {
     "data": {
      "text/plain": [
       "[]"
      ]
     },
     "execution_count": 2,
     "metadata": {},
     "output_type": "execute_result"
    }
   ],
   "source": [
    "empty_list = []  # using square brackets\n",
    "empty_list"
   ]
  },
  {
   "cell_type": "markdown",
   "id": "91c319f0-5f83-4e4f-9131-3a0a056b98e1",
   "metadata": {},
   "source": [
    "Lists with initial values. We use `len()` to find the length of a list."
   ]
  },
  {
   "cell_type": "code",
   "execution_count": 3,
   "id": "90f8451c-1c1d-48f9-a248-273f59e94743",
   "metadata": {},
   "outputs": [
    {
     "name": "stdout",
     "output_type": "stream",
     "text": [
      "Fruits: ['banana', 'orange', 'mango', 'lemon']\n",
      "Number of fruits: 4\n",
      "Vegetables: ['Tomato', 'Potato', 'Cabbage', 'Onion', 'Carrot']\n",
      "Number of vegetables: 5\n",
      "Animal products: ['milk', 'meat', 'butter', 'yoghurt']\n",
      "Number of animal products: 4\n",
      "Web technologies: ['HTML', 'CSS', 'JS', 'React', 'Redux', 'Node', 'MongDB']\n",
      "Number of web technologies: 7\n",
      "Countries: ['Indonesia', 'Singapore', 'Malaysia', 'Thailand', 'Vietnam']\n",
      "Number of countries: 5\n"
     ]
    }
   ],
   "source": [
    "fruits = [\"banana\", \"orange\", \"mango\", \"lemon\"]\n",
    "vegetables = [\"Tomato\", \"Potato\", \"Cabbage\", \"Onion\", \"Carrot\"]\n",
    "animal_products = [\"milk\", \"meat\", \"butter\", \"yoghurt\"]\n",
    "web_techs = [\n",
    "    \"HTML\",\n",
    "    \"CSS\",\n",
    "    \"JS\",\n",
    "    \"React\",\n",
    "    \"Redux\",\n",
    "    \"Node\",\n",
    "    \"MongDB\",\n",
    "]\n",
    "countries = [\"Indonesia\", \"Singapore\", \"Malaysia\", \"Thailand\", \"Vietnam\"]\n",
    "\n",
    "# Print the lists and its length\n",
    "print(\"Fruits:\", fruits)\n",
    "print(\"Number of fruits:\", len(fruits))\n",
    "print(\"Vegetables:\", vegetables)\n",
    "print(\"Number of vegetables:\", len(vegetables))\n",
    "print(\"Animal products:\", animal_products)\n",
    "print(\"Number of animal products:\", len(animal_products))\n",
    "print(\"Web technologies:\", web_techs)\n",
    "print(\"Number of web technologies:\", len(web_techs))\n",
    "print(\"Countries:\", countries)\n",
    "print(\"Number of countries:\", len(countries))"
   ]
  },
  {
   "cell_type": "markdown",
   "id": "f883b42c-bb1f-44c6-9d97-f616fcd415fd",
   "metadata": {},
   "source": [
    "Lists can have items of different data types."
   ]
  },
  {
   "cell_type": "code",
   "execution_count": 4,
   "id": "04760800-89a5-428b-aa3b-b0c41b799c80",
   "metadata": {},
   "outputs": [
    {
     "data": {
      "text/plain": [
       "['Aurora', 6, True, {'country': 'Indonesia', 'city': 'Palembang'}]"
      ]
     },
     "execution_count": 4,
     "metadata": {},
     "output_type": "execute_result"
    }
   ],
   "source": [
    "list = [\"Aurora\", 6, True, {\"country\": \"Indonesia\", \"city\": \"Palembang\"}]\n",
    "list"
   ]
  },
  {
   "cell_type": "markdown",
   "id": "c39dfda0-a9d8-43e9-8c1a-a8be873f5efd",
   "metadata": {},
   "source": [
    "## Accessing List Items Using Positive Indexing\n",
    "\n",
    "We access each item in a list using their index. A list index starts from 0.\n",
    "\n",
    "| banana | orange | mango | lemon |\n",
    "|--------|--------|-------|-------|\n",
    "| 0 | 1 | 2 | 3 |"
   ]
  },
  {
   "cell_type": "code",
   "execution_count": 5,
   "id": "3720bfe5-8d0f-484d-9ab7-41fd1f1df59a",
   "metadata": {},
   "outputs": [
    {
     "name": "stdout",
     "output_type": "stream",
     "text": [
      "banana\n",
      "orange\n",
      "lemon\n"
     ]
    }
   ],
   "source": [
    "fruits = [\"banana\", \"orange\", \"mango\", \"lemon\"]\n",
    "first_fruit = fruits[0]\n",
    "print(first_fruit)\n",
    "\n",
    "second_fruit = fruits[1]\n",
    "print(second_fruit)\n",
    "last_fruit = fruits[3]\n",
    "print(last_fruit)\n",
    "\n",
    "# Last index\n",
    "last_index = len(fruits) - 1\n",
    "last_fruit = fruits[last_index]"
   ]
  },
  {
   "cell_type": "markdown",
   "id": "f573130d-d936-44b3-bb9a-38490f29190f",
   "metadata": {},
   "source": [
    "## Accessing List Items Using Negative Indexing\n",
    "\n",
    "Negative indexing means beginning from the end, -1 refers to the last item, -2 refers to the second last item.\n",
    "\n",
    "| banana | orange | mango | lemon |\n",
    "|--------|--------|-------|-------|\n",
    "| -4 | -3 | -2 | -1 |"
   ]
  },
  {
   "cell_type": "code",
   "execution_count": 6,
   "id": "8f3d525b-10a2-4093-ab40-6a10344bda7f",
   "metadata": {},
   "outputs": [
    {
     "name": "stdout",
     "output_type": "stream",
     "text": [
      "banana\n",
      "lemon\n",
      "mango\n"
     ]
    }
   ],
   "source": [
    "fruits = [\"banana\", \"orange\", \"mango\", \"lemon\"]\n",
    "\n",
    "first_fruit = fruits[-4]\n",
    "last_fruit = fruits[-1]\n",
    "second_last = fruits[-2]\n",
    "\n",
    "print(first_fruit)\n",
    "print(last_fruit)\n",
    "print(second_last)"
   ]
  },
  {
   "cell_type": "markdown",
   "id": "aa24951a-0c06-45bf-805a-3640c5688472",
   "metadata": {},
   "source": [
    "## Unpacking List Items"
   ]
  },
  {
   "cell_type": "code",
   "execution_count": 7,
   "id": "773c0cd2-d06a-4e0e-9442-019093c4a4b2",
   "metadata": {},
   "outputs": [
    {
     "name": "stdout",
     "output_type": "stream",
     "text": [
      "item1\n",
      "item2\n",
      "item3\n",
      "['item4', 'item5']\n"
     ]
    }
   ],
   "source": [
    "list = [\"item1\", \"item2\", \"item3\", \"item4\", \"item5\"]\n",
    "first_item, second_item, third_item, *rest = list\n",
    "\n",
    "print(first_item)\n",
    "print(second_item)\n",
    "print(third_item)\n",
    "print(rest)"
   ]
  },
  {
   "cell_type": "code",
   "execution_count": 8,
   "id": "07814b18-f17c-4f55-b0ac-a792c823e437",
   "metadata": {},
   "outputs": [
    {
     "name": "stdout",
     "output_type": "stream",
     "text": [
      "banana\n",
      "orange\n",
      "mango\n",
      "['lemon', 'lime', 'apple']\n",
      "1\n",
      "2\n",
      "3\n",
      "[4, 5, 6, 7, 8, 9]\n",
      "10\n",
      "Germany\n",
      "France\n",
      "Belgium\n",
      "Sweden\n",
      "['Denmark', 'Finland', 'Norway', 'Iceland']\n",
      "Estonia\n"
     ]
    }
   ],
   "source": [
    "fruits = [\"banana\", \"orange\", \"mango\", \"lemon\", \"lime\", \"apple\"]\n",
    "first_fruit, second_fruit, third_fruit, *rest = fruits\n",
    "print(first_fruit)\n",
    "print(second_fruit)\n",
    "print(third_fruit)\n",
    "print(rest)\n",
    "\n",
    "first, second, third, *rest, tenth = [1, 2, 3, 4, 5, 6, 7, 8, 9, 10]\n",
    "print(first)  # 1\n",
    "print(second)  # 2\n",
    "print(third)  # 3\n",
    "print(rest)  # [4,5,6,7,8,9]\n",
    "print(tenth)  # 10\n",
    "\n",
    "countries = [\n",
    "    \"Germany\",\n",
    "    \"France\",\n",
    "    \"Belgium\",\n",
    "    \"Sweden\",\n",
    "    \"Denmark\",\n",
    "    \"Finland\",\n",
    "    \"Norway\",\n",
    "    \"Iceland\",\n",
    "    \"Estonia\",\n",
    "]\n",
    "gr, fr, bg, sw, *scandic, es = countries\n",
    "print(gr)\n",
    "print(fr)\n",
    "print(bg)\n",
    "print(sw)\n",
    "print(scandic)\n",
    "print(es)"
   ]
  },
  {
   "cell_type": "markdown",
   "id": "e25df774-83e9-48b2-aaa3-5b225cfecde9",
   "metadata": {},
   "source": [
    "## Slicing Items from a List\n",
    "\n",
    "**Positive Indexing**: We can specify a range of positive indexes by specifying the start, end and step, the return value will be a new list. (default values for start = 0, end = len(lst) - 1 (last item), step = 1)"
   ]
  },
  {
   "cell_type": "code",
   "execution_count": 9,
   "id": "5ecc89af-c121-47ab-b26a-159c2b0981e3",
   "metadata": {},
   "outputs": [
    {
     "name": "stdout",
     "output_type": "stream",
     "text": [
      "['banana', 'orange', 'mango', 'lemon']\n",
      "['banana', 'orange', 'mango', 'lemon']\n",
      "['orange', 'mango']\n",
      "['orange', 'mango', 'lemon']\n"
     ]
    },
    {
     "ename": "NameError",
     "evalue": "name 'orange_and_lemon' is not defined",
     "output_type": "error",
     "traceback": [
      "\u001b[0;31m---------------------------------------------------------------------------\u001b[0m",
      "\u001b[0;31mNameError\u001b[0m                                 Traceback (most recent call last)",
      "Cell \u001b[0;32mIn[9], line 18\u001b[0m\n\u001b[1;32m     16\u001b[0m \u001b[38;5;66;03m# below we use a 3rd argument, step. It will take every 2nd item - ['banana', 'mango']\u001b[39;00m\n\u001b[1;32m     17\u001b[0m banana_mango \u001b[38;5;241m=\u001b[39m fruits[::\u001b[38;5;241m2\u001b[39m]\n\u001b[0;32m---> 18\u001b[0m \u001b[38;5;28mprint\u001b[39m(\u001b[43morange_and_lemon\u001b[49m)\n",
      "\u001b[0;31mNameError\u001b[0m: name 'orange_and_lemon' is not defined"
     ]
    }
   ],
   "source": [
    "fruits = [\"banana\", \"orange\", \"mango\", \"lemon\"]\n",
    "\n",
    "all_fruits = fruits[0:4]  # it returns all the fruits\n",
    "print(all_fruits)\n",
    "\n",
    "# this will also give the same result as the one above\n",
    "all_fruits = fruits[0:]  # if we don't set where to stop it takes all the rest\n",
    "print(all_fruits)\n",
    "\n",
    "orange_and_mango = fruits[1:3]  # it does not include the first index\n",
    "print(orange_and_mango)\n",
    "\n",
    "orange_mango_lemon = fruits[1:]\n",
    "print(orange_mango_lemon)\n",
    "\n",
    "# below we use a 3rd argument, step. It will take every 2nd item - ['banana', 'mango']\n",
    "banana_mango = fruits[::2]\n",
    "print(orange_and_lemon)"
   ]
  },
  {
   "cell_type": "markdown",
   "id": "ec09d764-4ce6-4d0a-b8b1-8614c5a4cc0d",
   "metadata": {},
   "source": [
    "**Negative Indexing**: We can specify a range of negative indexes by specifying the start, end and step, the return value will be a new list."
   ]
  },
  {
   "cell_type": "code",
   "execution_count": null,
   "id": "e7e7fb09-d5d6-4e51-9c71-3e0ceb42cf53",
   "metadata": {},
   "outputs": [],
   "source": [
    "fruits = [\"banana\", \"orange\", \"mango\", \"lemon\"]\n",
    "\n",
    "# it returns all the fruits\n",
    "all_fruits = fruits[-4:]\n",
    "print(all_fruits)\n",
    "\n",
    "# it does not include the last index,['orange', 'mango']\n",
    "orange_and_mango = fruits[-3:-1]\n",
    "print(orange_and_mango)\n",
    "\n",
    "# this will give starting from -3 to the end,['orange', 'mango', 'lemon']\n",
    "orange_mango_lemon = fruits[-3:]\n",
    "print(orange_mango_lemon)\n",
    "\n",
    "# a negative step will take the list in reverse order,['lemon', 'mango', 'orange', 'banana']\n",
    "reverse_fruits = fruits[::-1]\n",
    "print(reverse_fruits)"
   ]
  },
  {
   "cell_type": "markdown",
   "id": "e7cf37a5-1354-4dd7-99f1-a6b2006fba8a",
   "metadata": {},
   "source": [
    "## Modifying Lists\n",
    "\n",
    "List is a mutable or modifiable ordered collection of items. Lets modify the fruit list."
   ]
  },
  {
   "cell_type": "code",
   "execution_count": null,
   "id": "e2432918-9b3a-4ebf-ab1c-c7eddfc3ef40",
   "metadata": {},
   "outputs": [],
   "source": [
    "fruits = [\"banana\", \"orange\", \"mango\", \"lemon\"]\n",
    "\n",
    "fruits[0] = \"avocado\"\n",
    "print(fruits)\n",
    "\n",
    "fruits[1] = \"apple\"\n",
    "print(fruits)\n",
    "\n",
    "last_index = len(fruits) - 1\n",
    "fruits[last_index] = \"lime\"\n",
    "print(fruits)"
   ]
  },
  {
   "cell_type": "markdown",
   "id": "a8fd73f9-5259-46df-95bb-ce8c66c14ea8",
   "metadata": {},
   "source": [
    "## Checking Items in a List\n",
    "\n",
    "Checking an item if it is a member of a list using `in` operator."
   ]
  },
  {
   "cell_type": "code",
   "execution_count": null,
   "id": "0fff2b1e-02ff-447c-ab1f-95aa6de44974",
   "metadata": {},
   "outputs": [],
   "source": [
    "fruits = [\"banana\", \"orange\", \"mango\", \"lemon\"]\n",
    "\n",
    "does_exist = \"banana\" in fruits\n",
    "print(does_exist)\n",
    "\n",
    "does_exist = \"lime\" in fruits\n",
    "print(does_exist)"
   ]
  },
  {
   "cell_type": "markdown",
   "id": "49138969-2ac0-4680-964e-18aac009c9e7",
   "metadata": {},
   "source": [
    "## Adding Items to a List\n",
    "\n",
    "To add item to the end of an existing list we use the method `append()`."
   ]
  },
  {
   "cell_type": "code",
   "execution_count": null,
   "id": "1aa85987-0774-4473-bbf1-1fa05ddb8313",
   "metadata": {},
   "outputs": [],
   "source": [
    "fruits = [\"banana\", \"orange\", \"mango\", \"lemon\"]\n",
    "fruits.append(\"apple\")\n",
    "print(fruits)\n",
    "\n",
    "fruits.append(\"lime\")\n",
    "print(fruits)"
   ]
  },
  {
   "cell_type": "markdown",
   "id": "3917fce2-dc91-4e0d-bdea-5a5d9b0be1d3",
   "metadata": {},
   "source": [
    "## Inserting Items into a List\n",
    "\n",
    "We can use `insert()` method to insert a single item at a specified index in a list. Note that other items are shifted to the right. The `insert()` methods takes two arguments: `index` and the `item` to be inserted."
   ]
  },
  {
   "cell_type": "code",
   "execution_count": null,
   "id": "c46d1a5d-38c0-4064-a447-3c17d70e98d0",
   "metadata": {},
   "outputs": [],
   "source": [
    "fruits = [\"banana\", \"orange\", \"mango\", \"lemon\"]\n",
    "fruits.insert(2, \"apple\")\n",
    "print(fruits)\n",
    "\n",
    "fruits.insert(3, \"lime\")\n",
    "print(fruits)"
   ]
  },
  {
   "cell_type": "markdown",
   "id": "374d5211-d431-4781-9d1f-db4dc2c93a1b",
   "metadata": {},
   "source": [
    "## Removing Items from a List\n",
    "\n",
    "The `remove()` method removes a specified item from a list."
   ]
  },
  {
   "cell_type": "code",
   "execution_count": null,
   "id": "bb21fff1-2184-42ea-8b95-0de05c6528d6",
   "metadata": {},
   "outputs": [],
   "source": [
    "fruits = [\"banana\", \"orange\", \"mango\", \"lemon\", \"banana\"]\n",
    "fruits.remove(\"banana\")\n",
    "print(fruits)\n",
    "\n",
    "fruits.remove(\"lemon\")\n",
    "print(fruits)"
   ]
  },
  {
   "cell_type": "markdown",
   "id": "c52fc09f-ed06-40ec-a586-5d16da8445a7",
   "metadata": {},
   "source": [
    "## Removing Items Using Pop\n",
    "\n",
    "The `pop()` method removes the specified index, (or the last item if index is not specified)."
   ]
  },
  {
   "cell_type": "code",
   "execution_count": null,
   "id": "346f0d31-c6f1-44b7-8f5e-bb4706f3580d",
   "metadata": {},
   "outputs": [],
   "source": [
    "fruits = [\"banana\", \"orange\", \"mango\", \"lemon\"]\n",
    "fruits.pop()\n",
    "print(fruits)\n",
    "\n",
    "fruits.pop(0)\n",
    "print(fruits)"
   ]
  },
  {
   "cell_type": "markdown",
   "id": "c9efe5f0-36cf-494e-9d74-f94d3dd4a143",
   "metadata": {},
   "source": [
    "## Removing Items Using Del\n",
    "\n",
    "The `del` keyword removes the specified index and it can also be used to delete items within index range. It can also delete the list completely."
   ]
  },
  {
   "cell_type": "code",
   "execution_count": null,
   "id": "8ba4c787-c976-434e-88da-48ba7b82e0d6",
   "metadata": {},
   "outputs": [],
   "source": [
    "fruits = [\"banana\", \"orange\", \"mango\", \"lemon\", \"kiwi\", \"lime\"]\n",
    "del fruits[0]\n",
    "print(fruits)\n",
    "\n",
    "del fruits[1]\n",
    "print(fruits)\n",
    "\n",
    "del fruits[1:3]\n",
    "print(fruits)"
   ]
  },
  {
   "cell_type": "code",
   "execution_count": null,
   "id": "d6863929-0fe1-40da-aeaa-86a15639da7a",
   "metadata": {},
   "outputs": [],
   "source": [
    "del fruits\n",
    "# print(fruits) # Running this will raise: NameError: name 'fruits' is not defined"
   ]
  },
  {
   "cell_type": "markdown",
   "id": "e1d21f34-283c-475a-92aa-8b7c30e52d87",
   "metadata": {},
   "source": [
    "## Clearing List Items\n",
    "\n",
    "The `clear()` method empties the list."
   ]
  },
  {
   "cell_type": "code",
   "execution_count": null,
   "id": "4d614754-ab99-4be9-915f-ecb53bf45965",
   "metadata": {},
   "outputs": [],
   "source": [
    "fruits = [\"banana\", \"orange\", \"mango\", \"lemon\"]\n",
    "fruits.clear()\n",
    "print(fruits)"
   ]
  },
  {
   "cell_type": "markdown",
   "id": "02daa193-7112-461d-a531-94cd838d8fcf",
   "metadata": {},
   "source": [
    "## Copying a List\n",
    "\n",
    "It is possible to copy a list by reassigning it to a new variable in the following way: list2 = list1. Now, list2 is a reference of list1, any changes we make in list2 will also **modify the original**, list1. However, there are lots of case in which we do not like to modify the original instead we like to have a different copy. One of way of avoiding the problem above is using `copy()`."
   ]
  },
  {
   "cell_type": "code",
   "execution_count": null,
   "id": "20f7b229-3851-4f09-b640-e969f3bc8976",
   "metadata": {},
   "outputs": [],
   "source": [
    "fruits = [\"banana\", \"orange\", \"mango\", \"lemon\"]\n",
    "fruits_copy = fruits.copy()\n",
    "print(fruits_copy)"
   ]
  },
  {
   "cell_type": "markdown",
   "id": "1e2f1e94-4005-4b09-a1e1-67ca93e1d13b",
   "metadata": {},
   "source": [
    "## Joining Lists\n",
    "\n",
    "There are several ways to join, or concatenate, two or more lists in Python.\n",
    "\n",
    "### Plus Operator (+)"
   ]
  },
  {
   "cell_type": "code",
   "execution_count": null,
   "id": "917faede-9121-444f-a71d-6ebc5bc8be3d",
   "metadata": {},
   "outputs": [],
   "source": [
    "positive_numbers = [1, 2, 3, 4, 5]\n",
    "zero = [0]\n",
    "negative_numbers = [-5, -4, -3, -2, -1]\n",
    "integers = negative_numbers + zero + positive_numbers\n",
    "print(integers)\n",
    "\n",
    "fruits = [\"banana\", \"orange\", \"mango\", \"lemon\"]\n",
    "vegetables = [\"Tomato\", \"Potato\", \"Cabbage\", \"Onion\", \"Carrot\"]\n",
    "fruits_and_vegetables = fruits + vegetables\n",
    "print(fruits_and_vegetables)"
   ]
  },
  {
   "cell_type": "markdown",
   "id": "039d6493-b04e-4f9f-9c9f-2ece8d8eac80",
   "metadata": {},
   "source": [
    "### extend()"
   ]
  },
  {
   "cell_type": "code",
   "execution_count": null,
   "id": "19115b79-126f-4989-919e-be4694bc37a7",
   "metadata": {},
   "outputs": [],
   "source": [
    "num1 = [0, 1, 2, 3]\n",
    "num2 = [4, 5, 6]\n",
    "num1.extend(num2)\n",
    "print(\"Numbers:\", num1)\n",
    "\n",
    "negative_numbers = [-5, -4, -3, -2, -1]\n",
    "positive_numbers = [1, 2, 3, 4, 5]\n",
    "zero = [0]\n",
    "\n",
    "negative_numbers.extend(zero)\n",
    "negative_numbers.extend(positive_numbers)\n",
    "print(\"Integers:\", negative_numbers)\n",
    "\n",
    "fruits = [\"banana\", \"orange\", \"mango\", \"lemon\"]\n",
    "vegetables = [\"Tomato\", \"Potato\", \"Cabbage\", \"Onion\", \"Carrot\"]\n",
    "fruits.extend(vegetables)\n",
    "print(\"Fruits and vegetables:\", fruits)"
   ]
  },
  {
   "cell_type": "markdown",
   "id": "ca8a61bc-8e20-4dd9-8f50-2f7df998d34e",
   "metadata": {},
   "source": [
    "## Counting Items in a List\n",
    "\n",
    "The `count()` method returns the number of times an item appears in a list."
   ]
  },
  {
   "cell_type": "code",
   "execution_count": null,
   "id": "8244bd6a-2043-4d57-8fc2-eb6827574769",
   "metadata": {},
   "outputs": [],
   "source": [
    "fruits = [\"banana\", \"orange\", \"mango\", \"lemon\"]\n",
    "print(fruits.count(\"orange\"))\n",
    "\n",
    "ages = [22, 19, 24, 25, 26, 24, 25, 24]\n",
    "print(ages.count(24))"
   ]
  },
  {
   "cell_type": "markdown",
   "id": "aab0bc4b-2219-4a09-825e-e815ddc19e0e",
   "metadata": {},
   "source": [
    "## Finding Index of an Item\n",
    "\n",
    "The `index()` method returns the index of an item in the list."
   ]
  },
  {
   "cell_type": "code",
   "execution_count": null,
   "id": "27d3e57a-8985-423c-9693-bf9c16fc8b85",
   "metadata": {},
   "outputs": [],
   "source": [
    "fruits = [\"banana\", \"orange\", \"mango\", \"lemon\"]\n",
    "print(fruits.index(\"orange\"))\n",
    "\n",
    "ages = [22, 19, 24, 25, 26, 24, 25, 24]\n",
    "print(ages.index(24))"
   ]
  },
  {
   "cell_type": "markdown",
   "id": "b560f559-8d26-48df-8095-eb6f176cb626",
   "metadata": {},
   "source": [
    "## Reversing a List\n",
    "\n",
    "The `reverse()` method reverses the order of a list."
   ]
  },
  {
   "cell_type": "code",
   "execution_count": null,
   "id": "3889341f-3502-4dd7-8f49-aebd0b010ca5",
   "metadata": {},
   "outputs": [],
   "source": [
    "fruits = [\"banana\", \"orange\", \"mango\", \"lemon\"]\n",
    "fruits.reverse()\n",
    "print(fruits)\n",
    "\n",
    "ages = [22, 19, 24, 25, 26, 24, 25, 24]\n",
    "ages.reverse()\n",
    "print(ages)"
   ]
  },
  {
   "cell_type": "markdown",
   "id": "07aa7a7d-b3c0-4d87-a184-2e578972cebc",
   "metadata": {},
   "source": [
    "## Sorting List Items\n",
    "\n",
    "To sort lists we can use `sort()` method or `sorted()` built-in functions.\n",
    "\n",
    "### sort()\n",
    "\n",
    "The sort() method reorders the list items in ascending order and modifies the original list. If an argument of sort() method reverse is equal to true, it will arrange the list in descending order."
   ]
  },
  {
   "cell_type": "code",
   "execution_count": null,
   "id": "d9b57a8b-7a0e-43ee-bbb9-2666fcf2902e",
   "metadata": {},
   "outputs": [],
   "source": [
    "fruits = [\"banana\", \"orange\", \"mango\", \"lemon\"]\n",
    "fruits.sort()\n",
    "print(fruits)  # sorted in alphabetical order, ['banana', 'lemon', 'mango', 'orange']\n",
    "fruits.sort(reverse=True)\n",
    "print(fruits)  # ['orange', 'mango', 'lemon', 'banana']\n",
    "ages = [22, 19, 24, 25, 26, 24, 25, 24]\n",
    "ages.sort()\n",
    "print(ages)  #  [19, 22, 24, 24, 24, 25, 25, 26]\n",
    "\n",
    "ages.sort(reverse=True)\n",
    "print(ages)  #  [26, 25, 25, 24, 24, 24, 22, 19]"
   ]
  },
  {
   "cell_type": "markdown",
   "id": "ddc3f724-0b58-4a6f-9dd2-70293ecfd448",
   "metadata": {},
   "source": [
    "### sorted()\n",
    "\n",
    "The `sorted()` function returns the ordered list without modifying the original list,"
   ]
  },
  {
   "cell_type": "code",
   "execution_count": null,
   "id": "7de7d2c7-7fd5-48dd-88ef-019178edd769",
   "metadata": {},
   "outputs": [],
   "source": [
    "fruits = [\"banana\", \"orange\", \"mango\", \"lemon\"]\n",
    "print(sorted(fruits))  # ['banana', 'lemon', 'mango', 'orange']\n",
    "print(fruits)\n",
    "\n",
    "fruits = [\"banana\", \"orange\", \"mango\", \"lemon\"]\n",
    "fruits = sorted(fruits, reverse=True)\n",
    "print(fruits)"
   ]
  }
 ],
 "metadata": {
  "kernelspec": {
   "display_name": "Python 3 (ipykernel)",
   "language": "python",
   "name": "python3"
  },
  "language_info": {
   "codemirror_mode": {
    "name": "ipython",
    "version": 3
   },
   "file_extension": ".py",
   "mimetype": "text/x-python",
   "name": "python",
   "nbconvert_exporter": "python",
   "pygments_lexer": "ipython3",
   "version": "3.12.4"
  }
 },
 "nbformat": 4,
 "nbformat_minor": 5
}
