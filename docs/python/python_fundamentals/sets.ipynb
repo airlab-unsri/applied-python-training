{
 "cells": [
  {
   "cell_type": "markdown",
   "id": "69a0a7ab-6d53-4d06-8e1e-ce85829279f9",
   "metadata": {},
   "source": [
    "# Sets\n",
    "\n",
    "Set is a collection of items. Let me take you back to your elementary or high school Mathematics lesson. The Mathematics definition of a set can be applied also in Python. Set is a collection of unordered and un-indexed distinct elements. In Python set is used to store unique items, and it is possible to find the union, intersection, difference, symmetric difference, subset, super set and disjoint set among sets.\n",
    "\n",
    "```{contents}\n",
    ":local:\n",
    "```"
   ]
  },
  {
   "cell_type": "markdown",
   "id": "e923793f-f0dd-4bba-91f2-2a9d58045ccd",
   "metadata": {},
   "source": [
    "## Creating a Set"
   ]
  },
  {
   "cell_type": "code",
   "execution_count": 1,
   "id": "ca017f45-19bc-4e8e-93d3-72e8a03a25bf",
   "metadata": {},
   "outputs": [
    {
     "data": {
      "text/plain": [
       "set()"
      ]
     },
     "execution_count": 1,
     "metadata": {},
     "output_type": "execute_result"
    }
   ],
   "source": [
    "s = set()\n",
    "s"
   ]
  },
  {
   "cell_type": "code",
   "execution_count": 2,
   "id": "6def7daf-8ecb-4c72-b92f-243e77eae9e1",
   "metadata": {},
   "outputs": [
    {
     "data": {
      "text/plain": [
       "{'item1', 'item2', 'item3', 'item4'}"
      ]
     },
     "execution_count": 2,
     "metadata": {},
     "output_type": "execute_result"
    }
   ],
   "source": [
    "s = {\"item1\", \"item2\", \"item3\", \"item4\"}\n",
    "s"
   ]
  },
  {
   "cell_type": "code",
   "execution_count": 3,
   "id": "d181457a-0384-4f05-989c-e5035a0c9b57",
   "metadata": {},
   "outputs": [
    {
     "data": {
      "text/plain": [
       "{'banana', 'lemon', 'mango', 'orange'}"
      ]
     },
     "execution_count": 3,
     "metadata": {},
     "output_type": "execute_result"
    }
   ],
   "source": [
    "fruits = {\"banana\", \"orange\", \"mango\", \"lemon\"}\n",
    "fruits"
   ]
  },
  {
   "cell_type": "markdown",
   "id": "d86961fa-f895-4195-982e-5fe0d5caff53",
   "metadata": {},
   "source": [
    "## Getting Set's Length"
   ]
  },
  {
   "cell_type": "code",
   "execution_count": 4,
   "id": "38b5b13a-3049-46e9-b0e0-d5421e3ef87e",
   "metadata": {},
   "outputs": [
    {
     "data": {
      "text/plain": [
       "4"
      ]
     },
     "execution_count": 4,
     "metadata": {},
     "output_type": "execute_result"
    }
   ],
   "source": [
    "s = {\"item1\", \"item2\", \"item3\", \"item4\"}\n",
    "len(s)"
   ]
  },
  {
   "cell_type": "code",
   "execution_count": 5,
   "id": "dd585458-d97f-427a-b984-450d2c71f6d7",
   "metadata": {},
   "outputs": [
    {
     "data": {
      "text/plain": [
       "4"
      ]
     },
     "execution_count": 5,
     "metadata": {},
     "output_type": "execute_result"
    }
   ],
   "source": [
    "fruits = {\"banana\", \"orange\", \"mango\", \"lemon\"}\n",
    "len(fruits)"
   ]
  },
  {
   "cell_type": "markdown",
   "id": "217860a0-0609-4a43-a8a5-24f569ac12b5",
   "metadata": {},
   "source": [
    "## Accessing Items in a Set\n",
    "\n",
    "We use loops to access items. We will see this in [loop section](./loops)."
   ]
  },
  {
   "cell_type": "markdown",
   "id": "dd8959a5-47bb-4f93-b4ae-b454acf8e1d6",
   "metadata": {},
   "source": [
    "## Checking an Item"
   ]
  },
  {
   "cell_type": "code",
   "execution_count": 6,
   "id": "53c91e23-15c4-451d-a5e1-1ec8f11c53c7",
   "metadata": {},
   "outputs": [
    {
     "name": "stdout",
     "output_type": "stream",
     "text": [
      "Does set s contain item3? True\n"
     ]
    }
   ],
   "source": [
    "s = {\"item1\", \"item2\", \"item3\", \"item4\"}\n",
    "print(\"Does set s contain item3?\", \"item3\" in s)"
   ]
  },
  {
   "cell_type": "code",
   "execution_count": 7,
   "id": "76f191a7-26a4-4301-8f11-86111ac01679",
   "metadata": {},
   "outputs": [
    {
     "name": "stdout",
     "output_type": "stream",
     "text": [
      "True\n"
     ]
    }
   ],
   "source": [
    "fruits = {\"banana\", \"orange\", \"mango\", \"lemon\"}\n",
    "print(\"mango\" in fruits)"
   ]
  },
  {
   "cell_type": "markdown",
   "id": "5ef30e11-3073-4e90-b413-47a81875117b",
   "metadata": {},
   "source": [
    "## Adding Items to a Set\n",
    "\n",
    "### add()"
   ]
  },
  {
   "cell_type": "code",
   "execution_count": 8,
   "id": "42a6e818-ba58-4449-9a1b-7518012aab5e",
   "metadata": {},
   "outputs": [
    {
     "data": {
      "text/plain": [
       "{'item1', 'item2', 'item3', 'item4', 'item5'}"
      ]
     },
     "execution_count": 8,
     "metadata": {},
     "output_type": "execute_result"
    }
   ],
   "source": [
    "s = {\"item1\", \"item2\", \"item3\", \"item4\"}\n",
    "s.add(\"item5\")\n",
    "s"
   ]
  },
  {
   "cell_type": "code",
   "execution_count": 9,
   "id": "4b8e7b5f-747f-4c9a-9bb3-5f27d00ed6f3",
   "metadata": {},
   "outputs": [
    {
     "data": {
      "text/plain": [
       "{'banana', 'lemon', 'lime', 'mango', 'orange'}"
      ]
     },
     "execution_count": 9,
     "metadata": {},
     "output_type": "execute_result"
    }
   ],
   "source": [
    "fruits = {\"banana\", \"orange\", \"mango\", \"lemon\"}\n",
    "fruits.add(\"lime\")\n",
    "fruits"
   ]
  },
  {
   "cell_type": "markdown",
   "id": "6f9b6467-1b93-4f61-b72c-7eb98fa43854",
   "metadata": {},
   "source": [
    "### update()"
   ]
  },
  {
   "cell_type": "code",
   "execution_count": 10,
   "id": "34e1ec66-80bd-4bf7-9caf-1bb5cb409df2",
   "metadata": {},
   "outputs": [
    {
     "data": {
      "text/plain": [
       "{'item1', 'item2', 'item3', 'item4', 'item5', 'item6', 'item7'}"
      ]
     },
     "execution_count": 10,
     "metadata": {},
     "output_type": "execute_result"
    }
   ],
   "source": [
    "s = {\"item1\", \"item2\", \"item3\", \"item4\"}\n",
    "s.update([\"item5\", \"item6\", \"item7\"])\n",
    "s"
   ]
  },
  {
   "cell_type": "code",
   "execution_count": 11,
   "id": "04bc5e71-f3bc-41e9-a9cb-e2c89b7763ce",
   "metadata": {},
   "outputs": [
    {
     "data": {
      "text/plain": [
       "{'banana',\n",
       " 'cabbage',\n",
       " 'carrot',\n",
       " 'lemon',\n",
       " 'mango',\n",
       " 'onion',\n",
       " 'orange',\n",
       " 'potato',\n",
       " 'tomato'}"
      ]
     },
     "execution_count": 11,
     "metadata": {},
     "output_type": "execute_result"
    }
   ],
   "source": [
    "fruits = {\"banana\", \"orange\", \"mango\", \"lemon\"}\n",
    "vegetables = (\"tomato\", \"potato\", \"cabbage\", \"onion\", \"carrot\")\n",
    "fruits.update(vegetables)\n",
    "fruits"
   ]
  },
  {
   "cell_type": "markdown",
   "id": "aa3e57cd-4f53-4fd1-8bff-3ca13f45199a",
   "metadata": {},
   "source": [
    "## Removing Items from a Set\n",
    "\n",
    "We can remove an item from a set using `remove()` method. If the item is not found `remove()` method will raise errors, so it is good to check if the item exist in the given set. However, `discard()` method doesn't raise any errors."
   ]
  },
  {
   "cell_type": "code",
   "execution_count": 12,
   "id": "ae52cba6-e4ab-41d9-a906-9e656b91ef31",
   "metadata": {},
   "outputs": [
    {
     "data": {
      "text/plain": [
       "{'item1', 'item3', 'item4'}"
      ]
     },
     "execution_count": 12,
     "metadata": {},
     "output_type": "execute_result"
    }
   ],
   "source": [
    "s = {\"item1\", \"item2\", \"item3\", \"item4\"}\n",
    "s.remove(\"item2\")\n",
    "s"
   ]
  },
  {
   "cell_type": "markdown",
   "id": "4a266540-8565-4d2b-9d5c-8b27fa2a2a0d",
   "metadata": {},
   "source": [
    "The `pop()` methods remove a random item from a list and it returns the removed item."
   ]
  },
  {
   "cell_type": "code",
   "execution_count": 13,
   "id": "ed82e6b8-719a-4d9f-872b-0182ab4cc7c5",
   "metadata": {},
   "outputs": [
    {
     "data": {
      "text/plain": [
       "{'lemon', 'mango', 'orange'}"
      ]
     },
     "execution_count": 13,
     "metadata": {},
     "output_type": "execute_result"
    }
   ],
   "source": [
    "fruits = {\"banana\", \"orange\", \"mango\", \"lemon\"}\n",
    "fruits.pop()\n",
    "fruits"
   ]
  },
  {
   "cell_type": "markdown",
   "id": "ad5e1f8a-b5c2-4fb9-881d-eb26c9aaeaed",
   "metadata": {},
   "source": [
    "If we are interested in the removed item."
   ]
  },
  {
   "cell_type": "code",
   "execution_count": 14,
   "id": "36ee33f0-f062-47f4-a066-e4a893e59c03",
   "metadata": {},
   "outputs": [
    {
     "data": {
      "text/plain": [
       "'banana'"
      ]
     },
     "execution_count": 14,
     "metadata": {},
     "output_type": "execute_result"
    }
   ],
   "source": [
    "fruits = {\"banana\", \"orange\", \"mango\", \"lemon\"}\n",
    "removed_item = fruits.pop()\n",
    "removed_item"
   ]
  },
  {
   "cell_type": "markdown",
   "id": "0e0f5a02-a205-41c0-814c-c82935b68b6f",
   "metadata": {},
   "source": [
    "## Clearing Items in a Set"
   ]
  },
  {
   "cell_type": "code",
   "execution_count": 15,
   "id": "f26d5551-4b34-4106-8648-ebb3184f35b9",
   "metadata": {},
   "outputs": [
    {
     "data": {
      "text/plain": [
       "set()"
      ]
     },
     "execution_count": 15,
     "metadata": {},
     "output_type": "execute_result"
    }
   ],
   "source": [
    "s = {\"item1\", \"item2\", \"item3\", \"item4\"}\n",
    "s.clear()\n",
    "s"
   ]
  },
  {
   "cell_type": "code",
   "execution_count": 16,
   "id": "8a8200b3-f9bf-4f45-a7df-193d8682931b",
   "metadata": {},
   "outputs": [
    {
     "data": {
      "text/plain": [
       "set()"
      ]
     },
     "execution_count": 16,
     "metadata": {},
     "output_type": "execute_result"
    }
   ],
   "source": [
    "fruits = {\"banana\", \"orange\", \"mango\", \"lemon\"}\n",
    "fruits.clear()\n",
    "fruits"
   ]
  },
  {
   "cell_type": "markdown",
   "id": "fca1584c-b5bf-461a-8285-c644e3a5a281",
   "metadata": {},
   "source": [
    "## Deleting a Set"
   ]
  },
  {
   "cell_type": "code",
   "execution_count": 17,
   "id": "dbceb9b4-49bc-4627-86fa-ce38b7756abf",
   "metadata": {},
   "outputs": [],
   "source": [
    "s = {\"item1\", \"item2\", \"item3\", \"item4\"}\n",
    "del s"
   ]
  },
  {
   "cell_type": "code",
   "execution_count": 18,
   "id": "69b0e3d3-6950-420c-a97b-9fff820d4cc4",
   "metadata": {},
   "outputs": [],
   "source": [
    "fruits = {\"banana\", \"orange\", \"mango\", \"lemon\"}\n",
    "del fruits"
   ]
  },
  {
   "cell_type": "markdown",
   "id": "61d04e73-ebaf-4d4b-94fc-46c10b7882c6",
   "metadata": {},
   "source": [
    "## Converting List to Set\n",
    "\n",
    "We can convert list to set and set to list. Converting list to set **removes duplicates** and only unique items will be reserved."
   ]
  },
  {
   "cell_type": "code",
   "execution_count": 19,
   "id": "f9511f13-2d3d-4785-9d46-314079a2219e",
   "metadata": {},
   "outputs": [
    {
     "data": {
      "text/plain": [
       "{'item1', 'item2', 'item3', 'item4'}"
      ]
     },
     "execution_count": 19,
     "metadata": {},
     "output_type": "execute_result"
    }
   ],
   "source": [
    "l = [\"item1\", \"item2\", \"item3\", \"item4\", \"item1\", \"item2\"]\n",
    "s = set(l)\n",
    "s"
   ]
  },
  {
   "cell_type": "code",
   "execution_count": 20,
   "id": "b215dcc8-70dc-4af8-9779-743c49cf794d",
   "metadata": {},
   "outputs": [
    {
     "data": {
      "text/plain": [
       "{'banana', 'lemon', 'mango', 'orange'}"
      ]
     },
     "execution_count": 20,
     "metadata": {},
     "output_type": "execute_result"
    }
   ],
   "source": [
    "fruits = [\"banana\", \"orange\", \"mango\", \"lemon\", \"orange\", \"banana\"]\n",
    "fruits = set(fruits)\n",
    "fruits"
   ]
  },
  {
   "cell_type": "markdown",
   "id": "b765d233-9241-44a8-b579-c947a66eff2d",
   "metadata": {},
   "source": [
    "## Joining Sets\n",
    "\n",
    "### union()"
   ]
  },
  {
   "cell_type": "code",
   "execution_count": 21,
   "id": "15075c50-3750-44a4-bdc7-fe2c1a9b3a3c",
   "metadata": {},
   "outputs": [
    {
     "data": {
      "text/plain": [
       "{'item1', 'item2', 'item3', 'item4', 'item5', 'item6', 'item7', 'item8'}"
      ]
     },
     "execution_count": 21,
     "metadata": {},
     "output_type": "execute_result"
    }
   ],
   "source": [
    "s1 = {\"item1\", \"item2\", \"item3\", \"item4\"}\n",
    "s2 = {\"item5\", \"item6\", \"item7\", \"item8\"}\n",
    "s3 = s1.union(s2)\n",
    "s3"
   ]
  },
  {
   "cell_type": "code",
   "execution_count": 22,
   "id": "159f152b-8550-4719-bebc-dc0f05bfd3c8",
   "metadata": {},
   "outputs": [
    {
     "data": {
      "text/plain": [
       "{'banana',\n",
       " 'cabbage',\n",
       " 'carrot',\n",
       " 'lemon',\n",
       " 'mango',\n",
       " 'onion',\n",
       " 'orange',\n",
       " 'potato',\n",
       " 'tomato'}"
      ]
     },
     "execution_count": 22,
     "metadata": {},
     "output_type": "execute_result"
    }
   ],
   "source": [
    "fruits = {\"banana\", \"orange\", \"mango\", \"lemon\"}\n",
    "vegetables = {\"tomato\", \"potato\", \"cabbage\", \"onion\", \"carrot\"}\n",
    "fruits.union(vegetables)"
   ]
  },
  {
   "cell_type": "markdown",
   "id": "5ee56885-964e-4d7d-8750-1902cc049426",
   "metadata": {},
   "source": [
    "### update()"
   ]
  },
  {
   "cell_type": "code",
   "execution_count": 23,
   "id": "a02ba959-9658-4294-91a3-bc724b5185a1",
   "metadata": {},
   "outputs": [
    {
     "data": {
      "text/plain": [
       "{'item1', 'item2', 'item3', 'item4', 'item5', 'item6', 'item7', 'item8'}"
      ]
     },
     "execution_count": 23,
     "metadata": {},
     "output_type": "execute_result"
    }
   ],
   "source": [
    "s1 = {\"item1\", \"item2\", \"item3\", \"item4\"}\n",
    "s2 = {\"item5\", \"item6\", \"item7\", \"item8\"}\n",
    "s1.update(s2)\n",
    "s1"
   ]
  },
  {
   "cell_type": "code",
   "execution_count": 24,
   "id": "3921f2fa-6148-40ab-af0d-13e6a8566c46",
   "metadata": {},
   "outputs": [
    {
     "data": {
      "text/plain": [
       "{'banana',\n",
       " 'cabbage',\n",
       " 'carrot',\n",
       " 'lemon',\n",
       " 'mango',\n",
       " 'onion',\n",
       " 'orange',\n",
       " 'potato',\n",
       " 'tomato'}"
      ]
     },
     "execution_count": 24,
     "metadata": {},
     "output_type": "execute_result"
    }
   ],
   "source": [
    "fruits = {\"banana\", \"orange\", \"mango\", \"lemon\"}\n",
    "vegetables = {\"tomato\", \"potato\", \"cabbage\", \"onion\", \"carrot\"}\n",
    "fruits.update(vegetables)\n",
    "fruits"
   ]
  },
  {
   "cell_type": "markdown",
   "id": "a9dee8ac-1243-4283-8e10-19c9db1015a5",
   "metadata": {},
   "source": [
    "## Finding Intersection Items\n",
    "\n",
    "`intersection()` returns a set of items which are in both the sets."
   ]
  },
  {
   "cell_type": "code",
   "execution_count": 25,
   "id": "7295e1af-4beb-4e08-9419-97de16320078",
   "metadata": {},
   "outputs": [
    {
     "data": {
      "text/plain": [
       "{'item2', 'item3'}"
      ]
     },
     "execution_count": 25,
     "metadata": {},
     "output_type": "execute_result"
    }
   ],
   "source": [
    "s1 = {\"item1\", \"item2\", \"item3\", \"item4\"}\n",
    "s2 = {\"item3\", \"item2\"}\n",
    "s1.intersection(s2)"
   ]
  },
  {
   "cell_type": "code",
   "execution_count": 26,
   "id": "8bbfad27-f31a-430b-a587-974641339f0a",
   "metadata": {},
   "outputs": [
    {
     "data": {
      "text/plain": [
       "{0, 2, 4, 6, 8, 10}"
      ]
     },
     "execution_count": 26,
     "metadata": {},
     "output_type": "execute_result"
    }
   ],
   "source": [
    "whole_numbers = {0, 1, 2, 3, 4, 5, 6, 7, 8, 9, 10}\n",
    "even_numbers = {0, 2, 4, 6, 8, 10}\n",
    "whole_numbers.intersection(even_numbers)"
   ]
  },
  {
   "cell_type": "code",
   "execution_count": 27,
   "id": "c71c9165-5119-48ac-a59f-b095ec150789",
   "metadata": {},
   "outputs": [
    {
     "data": {
      "text/plain": [
       "{'n', 'o'}"
      ]
     },
     "execution_count": 27,
     "metadata": {},
     "output_type": "execute_result"
    }
   ],
   "source": [
    "python = {\"p\", \"y\", \"t\", \"h\", \"o\", \"n\"}\n",
    "dragon = {\"d\", \"r\", \"a\", \"g\", \"o\", \"n\"}\n",
    "python.intersection(dragon)"
   ]
  },
  {
   "cell_type": "markdown",
   "id": "eb0e275a-5e79-41d3-90ea-bc6dcacb4d11",
   "metadata": {},
   "source": [
    "## Checking Subset and Super Set\n",
    "\n",
    "A set can be a subset or super set of other sets:\n",
    "\n",
    "* Subset: `issubset()`\n",
    "* Superset: `issuperset()`"
   ]
  },
  {
   "cell_type": "code",
   "execution_count": 28,
   "id": "e34cd02e-f06b-44a4-b275-1ecc01622f6c",
   "metadata": {},
   "outputs": [],
   "source": [
    "s1 = {\"item1\", \"item2\", \"item3\", \"item4\"}\n",
    "s2 = {\"item2\", \"item3\"}"
   ]
  },
  {
   "cell_type": "code",
   "execution_count": 29,
   "id": "3c02f14b-d3ac-42cb-a63c-1ef3b49799ff",
   "metadata": {},
   "outputs": [
    {
     "data": {
      "text/plain": [
       "True"
      ]
     },
     "execution_count": 29,
     "metadata": {},
     "output_type": "execute_result"
    }
   ],
   "source": [
    "s2.issubset(s1)"
   ]
  },
  {
   "cell_type": "code",
   "execution_count": 30,
   "id": "8503c27e-e71b-41b7-8383-3916ae2583a0",
   "metadata": {},
   "outputs": [
    {
     "data": {
      "text/plain": [
       "True"
      ]
     },
     "execution_count": 30,
     "metadata": {},
     "output_type": "execute_result"
    }
   ],
   "source": [
    "s1.issuperset(s2)"
   ]
  },
  {
   "cell_type": "code",
   "execution_count": 31,
   "id": "80a72a81-61e1-44a9-8f36-613c1ee72e47",
   "metadata": {},
   "outputs": [
    {
     "name": "stdout",
     "output_type": "stream",
     "text": [
      "False\n",
      "True\n"
     ]
    }
   ],
   "source": [
    "whole_numbers = {0, 1, 2, 3, 4, 5, 6, 7, 8, 9, 10}\n",
    "even_numbers = {0, 2, 4, 6, 8, 10}\n",
    "\n",
    "print(whole_numbers.issubset(even_numbers))\n",
    "print(whole_numbers.issuperset(even_numbers))"
   ]
  },
  {
   "cell_type": "code",
   "execution_count": 32,
   "id": "3b2e7f68-9f10-4bd4-847f-2c80f7722969",
   "metadata": {},
   "outputs": [
    {
     "data": {
      "text/plain": [
       "False"
      ]
     },
     "execution_count": 32,
     "metadata": {},
     "output_type": "execute_result"
    }
   ],
   "source": [
    "python = {\"p\", \"y\", \"t\", \"h\", \"o\", \"n\"}\n",
    "dragon = {\"d\", \"r\", \"a\", \"g\", \"o\", \"n\"}\n",
    "python.issubset(dragon)"
   ]
  },
  {
   "cell_type": "markdown",
   "id": "3025d56a-06ef-4ee4-bf91-530e5752d07b",
   "metadata": {},
   "source": [
    "## Checking the Difference Between Two Sets"
   ]
  },
  {
   "cell_type": "code",
   "execution_count": 33,
   "id": "1e8fb5d5-280b-469a-b7db-d1f8a2b71702",
   "metadata": {},
   "outputs": [],
   "source": [
    "s1 = {\"item1\", \"item2\", \"item3\", \"item4\"}\n",
    "s2 = {\"item2\", \"item3\"}"
   ]
  },
  {
   "cell_type": "code",
   "execution_count": 34,
   "id": "cf595ee7-cc37-4024-a623-99d014c09e78",
   "metadata": {},
   "outputs": [
    {
     "data": {
      "text/plain": [
       "set()"
      ]
     },
     "execution_count": 34,
     "metadata": {},
     "output_type": "execute_result"
    }
   ],
   "source": [
    "s2.difference(s1)"
   ]
  },
  {
   "cell_type": "code",
   "execution_count": 35,
   "id": "e292d130-79ce-4e86-85aa-be71bb36be8a",
   "metadata": {},
   "outputs": [
    {
     "data": {
      "text/plain": [
       "{'item1', 'item4'}"
      ]
     },
     "execution_count": 35,
     "metadata": {},
     "output_type": "execute_result"
    }
   ],
   "source": [
    "s1.difference(s2)"
   ]
  },
  {
   "cell_type": "code",
   "execution_count": 36,
   "id": "c5cf081a-a3dc-4105-863a-afa8dbfa32de",
   "metadata": {},
   "outputs": [
    {
     "data": {
      "text/plain": [
       "{1, 3, 5, 7, 9}"
      ]
     },
     "execution_count": 36,
     "metadata": {},
     "output_type": "execute_result"
    }
   ],
   "source": [
    "whole_numbers = {0, 1, 2, 3, 4, 5, 6, 7, 8, 9, 10}\n",
    "even_numbers = {0, 2, 4, 6, 8, 10}\n",
    "whole_numbers.difference(even_numbers)"
   ]
  },
  {
   "cell_type": "code",
   "execution_count": 37,
   "id": "16bf54e0-00cd-43c5-a8d2-cb54de5c1577",
   "metadata": {},
   "outputs": [
    {
     "name": "stdout",
     "output_type": "stream",
     "text": [
      "{'t', 'y', 'p'}\n",
      "{'g', 'd', 'a', 'r'}\n"
     ]
    }
   ],
   "source": [
    "python = {\"p\", \"y\", \"t\", \"o\", \"n\"}\n",
    "dragon = {\"d\", \"r\", \"a\", \"g\", \"o\", \"n\"}\n",
    "print(python.difference(dragon))\n",
    "print(dragon.difference(python))"
   ]
  }
 ],
 "metadata": {
  "kernelspec": {
   "display_name": "Python 3 (ipykernel)",
   "language": "python",
   "name": "python3"
  },
  "language_info": {
   "codemirror_mode": {
    "name": "ipython",
    "version": 3
   },
   "file_extension": ".py",
   "mimetype": "text/x-python",
   "name": "python",
   "nbconvert_exporter": "python",
   "pygments_lexer": "ipython3",
   "version": "3.12.4"
  }
 },
 "nbformat": 4,
 "nbformat_minor": 5
}
