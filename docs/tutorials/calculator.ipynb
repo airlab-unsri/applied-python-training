{
 "cells": [
  {
   "cell_type": "markdown",
   "id": "85c0d82f-fc22-473c-8daf-cebb7702c655",
   "metadata": {},
   "source": [
    "# Calculator Program in Python\n",
    "\n",
    "Pada tutorial ini, kita akan membuat program kalkulator sederhana menggunakan Python. Program kalkulator ini nantinya akan mampu melakukan operasi aritmatika sederhana.\n",
    "\n",
    "Kita akan menggunakan operator matematika, variabel, kondisi, fungsi."
   ]
  },
  {
   "cell_type": "markdown",
   "id": "5b65c5ac-84a0-4294-a456-263008f199a1",
   "metadata": {},
   "source": [
    "## Langkah 1 - Mendapatkan input dari user\n",
    "\n",
    "User harus memasukkan angka-angka untuk dioperasikan oleh program kalkulator kita. Untuk menerima masukan dari user, kita akan menggunakan fungsi built-in `input()`."
   ]
  },
  {
   "cell_type": "code",
   "execution_count": 1,
   "id": "189ee595-6ad7-4284-b04d-6163536440ea",
   "metadata": {},
   "outputs": [
    {
     "name": "stdin",
     "output_type": "stream",
     "text": [
      "Masukkan angka pertama:  1\n",
      "Masukkan angka kedua  :  2\n"
     ]
    }
   ],
   "source": [
    "angka_1 = input(\"Masukkan angka pertama: \")\n",
    "angka_2 = input(\"Masukkan angka kedua  : \")"
   ]
  },
  {
   "cell_type": "markdown",
   "id": "6605cfb2-8462-4ac2-ae7f-ae7d64a12346",
   "metadata": {},
   "source": [
    "Perlu diingat bahwa fungsi `input()` menerima dan mengeluarkan tipe data `string`. Untuk program kalkulator kita, kita harus menggunakan angka. Karena itu kita perlu melakukan _casting_ ke tipe data `int`."
   ]
  },
  {
   "cell_type": "code",
   "execution_count": 2,
   "id": "a0207b36-aa2b-489c-9cf0-51c14b21a503",
   "metadata": {},
   "outputs": [
    {
     "name": "stdin",
     "output_type": "stream",
     "text": [
      "Masukkan angka pertama:  2\n",
      "Masukkan angka kedua  :  3\n"
     ]
    }
   ],
   "source": [
    "angka_1 = int(input(\"Masukkan angka pertama: \"))\n",
    "angka_2 = int(input(\"Masukkan angka kedua  : \"))"
   ]
  },
  {
   "cell_type": "markdown",
   "id": "4e930602-0187-424b-925f-b8a8e28adcda",
   "metadata": {},
   "source": [
    "Kita bisa mengecek tipe data variabel-variabel di atas menggunakan fungsi built-in `type`."
   ]
  },
  {
   "cell_type": "code",
   "execution_count": 3,
   "id": "e542fefa-4894-4bf2-81c5-5c6b91dc0a34",
   "metadata": {},
   "outputs": [
    {
     "name": "stdout",
     "output_type": "stream",
     "text": [
      "<class 'int'>\n",
      "<class 'int'>\n"
     ]
    }
   ],
   "source": [
    "print(type(angka_1))\n",
    "print(type(angka_2))"
   ]
  },
  {
   "cell_type": "markdown",
   "id": "c9d8608e-6329-4fa6-9f4d-e0f2dd3e2776",
   "metadata": {},
   "source": [
    "## Langkah 2 - Menambahkan operator matematika\n",
    "\n",
    "Selanjutnya, kita akan membahkan 4 operasi matematika sederhana:\n",
    "\n",
    "* `+` untuk penjumlahan\n",
    "* `-` untuk pengurangan\n",
    "* `*` untuk perkalian\n",
    "* `/` untuk pembagian"
   ]
  },
  {
   "cell_type": "code",
   "execution_count": 4,
   "id": "7c7520bd-1d3e-42c4-9227-aa4bb3b3d884",
   "metadata": {},
   "outputs": [
    {
     "name": "stdout",
     "output_type": "stream",
     "text": [
      "2 + 3 = \n",
      "5\n",
      "2 - 3 = \n",
      "-1\n",
      "2 * 3 = \n",
      "6\n",
      "2 / 3 = \n",
      "0.6666666666666666\n"
     ]
    }
   ],
   "source": [
    "# Addition\n",
    "print(\"{} + {} = \".format(angka_1, angka_2))\n",
    "print(angka_1 + angka_2)\n",
    "\n",
    "# Subtraction\n",
    "print(\"{} - {} = \".format(angka_1, angka_2))\n",
    "print(angka_1 - angka_2)\n",
    "\n",
    "# Multiplication\n",
    "print(\"{} * {} = \".format(angka_1, angka_2))\n",
    "print(angka_1 * angka_2)\n",
    "\n",
    "# Division\n",
    "print(\"{} / {} = \".format(angka_1, angka_2))\n",
    "print(angka_1 / angka_2)"
   ]
  },
  {
   "cell_type": "markdown",
   "id": "acfef52c-dc7a-47db-94da-42b75ee8e164",
   "metadata": {},
   "source": [
    "## Langkah 3 - Menambahkan kondisi\n",
    "\n",
    "Tujuan dari program kalkulator adalah untuk memungkinkan user memilih operasi matematika yang mereka inginkan. Kita akan menambahkan informasi operasi matematika yang didukung oleh program untuk dipilih oleh user."
   ]
  },
  {
   "cell_type": "code",
   "execution_count": 5,
   "id": "185e3998-a89a-40e8-876a-e6ee844d928e",
   "metadata": {},
   "outputs": [
    {
     "name": "stdin",
     "output_type": "stream",
     "text": [
      "Operasi matematika yang didukung:\n",
      "    + untuk penjumlahan\n",
      "    - untuk pengurangan\n",
      "    * untuk perkalian\n",
      "    / untuk pembagian\n",
      "Silahkan pilih operasi matematika: +\n"
     ]
    }
   ],
   "source": [
    "operasi = input(\n",
    "    \"\"\"Operasi matematika yang didukung:\n",
    "    + untuk penjumlahan\n",
    "    - untuk pengurangan\n",
    "    * untuk perkalian\n",
    "    / untuk pembagian\n",
    "Silahkan pilih operasi matematika:\"\"\"\n",
    ")"
   ]
  },
  {
   "cell_type": "markdown",
   "id": "a43ede00-3cc8-4777-9d55-e1e39ce4e139",
   "metadata": {},
   "source": [
    "Setelah kamu menjalankan blok kode diatas, tidak ada yang berubah pada program kita, karena kita belum memproses operasi yang diinputkan oleh user. Untuk itu, kita perlu menambahkan conditional statements. Kita akan menggunakan `if` untuk operasi penjumlahan, dilanjutkan dengan 3 `elif` untuk operasi-operasi lainnya, dan `else` untuk operasi yang tidak didukung."
   ]
  },
  {
   "cell_type": "code",
   "execution_count": 6,
   "id": "18c381be-8a6c-446a-a49c-758e8049c497",
   "metadata": {},
   "outputs": [
    {
     "name": "stdout",
     "output_type": "stream",
     "text": [
      "2 + 3 = \n",
      "5\n"
     ]
    }
   ],
   "source": [
    "if operasi == \"+\":\n",
    "    print(\"{} + {} = \".format(angka_1, angka_2))\n",
    "    print(angka_1 + angka_2)\n",
    "\n",
    "elif operasi == \"-\":\n",
    "    print(\"{} - {} = \".format(angka_1, angka_2))\n",
    "    print(angka_1 - angka_2)\n",
    "\n",
    "elif operasi == \"*\":\n",
    "    print(\"{} * {} = \".format(angka_1, angka_2))\n",
    "    print(angka_1 * angka_2)\n",
    "\n",
    "elif operasi == \"/\":\n",
    "    print(\"{} / {} = \".format(angka_1, angka_2))\n",
    "    print(angka_1 / angka_2)\n",
    "\n",
    "else:\n",
    "    print(\"Operasi yang kamu masukkan tidak didukung. Harap coba sekali lagi.\")"
   ]
  },
  {
   "cell_type": "markdown",
   "id": "06a69458-e4d0-41d4-85b0-8b1ec6aabbfe",
   "metadata": {},
   "source": [
    "## Langkah 4 - Menggunakan fungsi\n",
    "\n",
    "Agar bisa menjalankan program terus-menerus sesuai keinginan user, kita perlu mendefinisikan beberapa fungsi. Pertama, kita bisa memasukkan semua kode yang sudah kita tulis ke fungsi `calculate()`."
   ]
  },
  {
   "cell_type": "code",
   "execution_count": 7,
   "id": "962f4995-0714-4733-9893-49556748436b",
   "metadata": {},
   "outputs": [
    {
     "name": "stdin",
     "output_type": "stream",
     "text": [
      "Masukkan angka pertama:  3\n",
      "Masukkan angka kedua  :  4\n",
      "Operasi matematika yang didukung:\n",
      "    + untuk penjumlahan\n",
      "    - untuk pengurangan\n",
      "    * untuk perkalian\n",
      "    / untuk pembagian\n",
      "Silahkan pilih operasi matematika:  +\n"
     ]
    },
    {
     "name": "stdout",
     "output_type": "stream",
     "text": [
      "3 + 4 = \n",
      "7\n"
     ]
    }
   ],
   "source": [
    "# Define calculate function\n",
    "def calculate():\n",
    "    angka_1 = int(input(\"Masukkan angka pertama: \"))\n",
    "    angka_2 = int(input(\"Masukkan angka kedua  : \"))\n",
    "\n",
    "    operasi = input(\n",
    "        \"\"\"Operasi matematika yang didukung:\n",
    "    + untuk penjumlahan\n",
    "    - untuk pengurangan\n",
    "    * untuk perkalian\n",
    "    / untuk pembagian\n",
    "Silahkan pilih operasi matematika: \"\"\"\n",
    "    )\n",
    "\n",
    "    if operasi == \"+\":\n",
    "        print(\"{} + {} = \".format(angka_1, angka_2))\n",
    "        print(angka_1 + angka_2)\n",
    "\n",
    "    elif operasi == \"-\":\n",
    "        print(\"{} - {} = \".format(angka_1, angka_2))\n",
    "        print(angka_1 - angka_2)\n",
    "\n",
    "    elif operasi == \"*\":\n",
    "        print(\"{} * {} = \".format(angka_1, angka_2))\n",
    "        print(angka_1 * angka_2)\n",
    "\n",
    "    elif operasi == \"/\":\n",
    "        print(\"{} / {} = \".format(angka_1, angka_2))\n",
    "        print(angka_1 / angka_2)\n",
    "\n",
    "    else:\n",
    "        print(\"Operasi yang kamu masukkan tidak didukung. Harap coba sekali lagi.\")\n",
    "\n",
    "\n",
    "# Call calculate() function to execute it\n",
    "calculate()"
   ]
  },
  {
   "cell_type": "markdown",
   "id": "bdc1dca5-d201-4a06-91ea-8454edd62dcc",
   "metadata": {},
   "source": [
    "Selanjutnya, kita akan membuat fungsi kedua yang bertugas untuk menanyakan apakah user ingin melakukan kalkulasi lagi atau selesai."
   ]
  },
  {
   "cell_type": "code",
   "execution_count": 8,
   "id": "c88e67a1-7d3d-4e84-a8fd-f7da9daef1d1",
   "metadata": {},
   "outputs": [],
   "source": [
    "def again():\n",
    "    lagi = input(\"Apakah kamu ingin melakukan kalkulasi lagi (Y/T)?\")\n",
    "\n",
    "    if lagi.upper() == \"Y\":\n",
    "        calculate()\n",
    "\n",
    "    elif lagi.upper() == \"T\":\n",
    "        print(\"Terima kasih. Sampai jumpa 👋\")\n",
    "\n",
    "    else:\n",
    "        again()"
   ]
  },
  {
   "cell_type": "markdown",
   "id": "a198b054-142b-42eb-9bca-b68e95fac4cb",
   "metadata": {},
   "source": [
    "Selanjutnya, kamu perlu mengubah fungsi `calculate()` yang telah kamu buat selanjutnya agar mengeksekusi fungsi `again()` setelah selesai melakukan operasi kalkulasi.\n",
    "\n",
    "Kode keseluruhan program kalkulator Python kita akan menjadi seperti di bawah ini:"
   ]
  },
  {
   "cell_type": "code",
   "execution_count": 9,
   "id": "0c1e379f-c666-4ec9-95d4-55413a401240",
   "metadata": {},
   "outputs": [
    {
     "name": "stdin",
     "output_type": "stream",
     "text": [
      "Masukkan angka pertama:  5\n",
      "Masukkan angka kedua  :  5\n",
      "Operasi matematika yang didukung:\n",
      "    + untuk penjumlahan\n",
      "    - untuk pengurangan\n",
      "    * untuk perkalian\n",
      "    / untuk pembagian\n",
      "Silahkan pilih operasi matematika:  +\n"
     ]
    },
    {
     "name": "stdout",
     "output_type": "stream",
     "text": [
      "5 + 5 = \n",
      "10\n"
     ]
    },
    {
     "name": "stdin",
     "output_type": "stream",
     "text": [
      "Apakah kamu ingin melakukan kalkulasi lagi (Y/T)? Y\n",
      "Masukkan angka pertama:  100\n",
      "Masukkan angka kedua  :  100\n",
      "Operasi matematika yang didukung:\n",
      "    + untuk penjumlahan\n",
      "    - untuk pengurangan\n",
      "    * untuk perkalian\n",
      "    / untuk pembagian\n",
      "Silahkan pilih operasi matematika:  *\n"
     ]
    },
    {
     "name": "stdout",
     "output_type": "stream",
     "text": [
      "100 * 100 = \n",
      "10000\n"
     ]
    },
    {
     "name": "stdin",
     "output_type": "stream",
     "text": [
      "Apakah kamu ingin melakukan kalkulasi lagi (Y/T)? T\n"
     ]
    },
    {
     "name": "stdout",
     "output_type": "stream",
     "text": [
      "Terima kasih. Sampai jumpa 👋\n"
     ]
    }
   ],
   "source": [
    "def calculate():\n",
    "    angka_1 = int(input(\"Masukkan angka pertama: \"))\n",
    "    angka_2 = int(input(\"Masukkan angka kedua  : \"))\n",
    "\n",
    "    operasi = input(\n",
    "        \"\"\"Operasi matematika yang didukung:\n",
    "    + untuk penjumlahan\n",
    "    - untuk pengurangan\n",
    "    * untuk perkalian\n",
    "    / untuk pembagian\n",
    "Silahkan pilih operasi matematika: \"\"\"\n",
    "    )\n",
    "\n",
    "    if operasi == \"+\":\n",
    "        print(\"{} + {} = \".format(angka_1, angka_2))\n",
    "        print(angka_1 + angka_2)\n",
    "\n",
    "    elif operasi == \"-\":\n",
    "        print(\"{} - {} = \".format(angka_1, angka_2))\n",
    "        print(angka_1 - angka_2)\n",
    "\n",
    "    elif operasi == \"*\":\n",
    "        print(\"{} * {} = \".format(angka_1, angka_2))\n",
    "        print(angka_1 * angka_2)\n",
    "\n",
    "    elif operasi == \"/\":\n",
    "        print(\"{} / {} = \".format(angka_1, angka_2))\n",
    "        print(angka_1 / angka_2)\n",
    "\n",
    "    else:\n",
    "        print(\"Operasi yang kamu masukkan tidak didukung. Harap coba sekali lagi.\")\n",
    "\n",
    "    # Jalankan fungsi again() untuk menanyakan user apakah mau melakukan kalkulasi lagi\n",
    "    # atau selesai.\n",
    "    again()\n",
    "\n",
    "\n",
    "def again():\n",
    "    lagi = input(\"Apakah kamu ingin melakukan kalkulasi lagi (Y/T)?\")\n",
    "\n",
    "    if lagi.upper() == \"Y\":\n",
    "        calculate()\n",
    "\n",
    "    elif lagi.upper() == \"T\":\n",
    "        print(\"Terima kasih. Sampai jumpa 👋\")\n",
    "\n",
    "    else:\n",
    "        again()\n",
    "\n",
    "\n",
    "calculate()"
   ]
  },
  {
   "cell_type": "markdown",
   "id": "011df6f8-78d7-4720-a6c0-e4515d20eda7",
   "metadata": {},
   "source": [
    "## Kesimpulan\n",
    "\n",
    "Pada tutorial ini kamu telah belajar membuat kalkulator sederhana menggunakan Python. Kamu telah mempraktekkan bagaimana mendapatkan input dari user, mengubah tipe data `string` ke `int`, melakukan operasi matematika, membuat kondisi percabangan logika, dan menggunakan fungsi."
   ]
  },
  {
   "cell_type": "markdown",
   "id": "109ee74d-8a31-4300-813c-a0e20e314790",
   "metadata": {},
   "source": [
    "## Latihan\n",
    "\n",
    "1. Pindahkan source code dari notebook ini ke satu .py file\n",
    "2. Berikan dukungan untuk tipe data `float`\n",
    "3. Tambahkan operasi pangkat\n",
    "4. Tambahkan penangan exception untuk `ZeroDivisionError`"
   ]
  }
 ],
 "metadata": {
  "kernelspec": {
   "display_name": "Python 3 (ipykernel)",
   "language": "python",
   "name": "python3"
  },
  "language_info": {
   "codemirror_mode": {
    "name": "ipython",
    "version": 3
   },
   "file_extension": ".py",
   "mimetype": "text/x-python",
   "name": "python",
   "nbconvert_exporter": "python",
   "pygments_lexer": "ipython3",
   "version": "3.12.4"
  }
 },
 "nbformat": 4,
 "nbformat_minor": 5
}
