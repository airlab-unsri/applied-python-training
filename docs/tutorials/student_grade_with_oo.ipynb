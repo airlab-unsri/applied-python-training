{
 "cells": [
  {
   "cell_type": "markdown",
   "id": "6407c528-0511-43eb-a441-806f49577a19",
   "metadata": {},
   "source": [
    "# Student Grader Program with Object-Oriented Programming\n",
    "\n",
    "Pada tutorial kali ini, kamu akan membuat program kalkulator nilai siswa menggunakan pemrograman berbasis objek.\n",
    "\n",
    "Kita akan membuat kelas Siswa untuk merepresentasikan setiap siswa dengan methods berikut:\n",
    "\n",
    "1. `__init__` menginisialisasi objek Siswa dengan nama dan nomor induk.\n",
    "2. `tambah_nilai` memungkinkan penambahan nilai untuk mata pelajaran yang berbeda.\n",
    "3. `hitung_nilai_rata_rata` menghitung rata-rata dari semua nilai.\n",
    "4. `dapatkan_nilai_huruf` mengkonversi nilai numerik menjadi nilai huruf.\n",
    "5. `tampilkan_rapor` menampilkan rapor lengkap untuk siswa."
   ]
  },
  {
   "cell_type": "code",
   "execution_count": 1,
   "id": "17bdd901-60ab-4580-9cbf-98876971277e",
   "metadata": {},
   "outputs": [],
   "source": [
    "class Siswa:\n",
    "    def __init__(self, nama, nomor_induk):\n",
    "        \"\"\"\n",
    "        Inisialisasi objek Siswa.\n",
    "\n",
    "        Parameter:\n",
    "        - nama (str): Nama siswa\n",
    "        - nomor_induk (str): Nomor induk siswa\n",
    "        \"\"\"\n",
    "        self.nama = nama\n",
    "        self.nomor_induk = nomor_induk\n",
    "        self.nilai = {}\n",
    "        self.nilai_rata_rata = None\n",
    "\n",
    "    def tambah_nilai(self, mata_pelajaran, skor):\n",
    "        \"\"\"\n",
    "        Menambahkan nilai untuk mata pelajaran tertentu.\n",
    "\n",
    "        Parameter:\n",
    "        - mata_pelajaran (str): Nama mata pelajaran\n",
    "        - skor (float): Nilai yang diperoleh (0-100)\n",
    "        \"\"\"\n",
    "        if 0 <= skor <= 100:\n",
    "            self.nilai[mata_pelajaran] = skor\n",
    "        else:\n",
    "            print(\n",
    "                f\"Nilai tidak valid untuk {mata_pelajaran}. Nilai harus antara 0 dan 100.\"\n",
    "            )\n",
    "\n",
    "    def hitung_nilai_rata_rata(self):\n",
    "        \"\"\"\n",
    "        Menghitung nilai rata-rata dari semua mata pelajaran.\n",
    "        \"\"\"\n",
    "        if self.nilai:\n",
    "            self.nilai_rata_rata = sum(self.nilai.values()) / len(self.nilai)\n",
    "        else:\n",
    "            self.nilai_rata_rata = None\n",
    "\n",
    "    def dapatkan_nilai_huruf(self):\n",
    "        \"\"\"\n",
    "        Mengkonversi nilai rata-rata numerik menjadi nilai huruf.\n",
    "\n",
    "        Mengembalikan:\n",
    "        - str: Nilai huruf (A, B, C, D, atau E)\n",
    "        \"\"\"\n",
    "        if self.nilai_rata_rata is None:\n",
    "            return \"Belum ada nilai\"\n",
    "        elif self.nilai_rata_rata >= 90:\n",
    "            return \"A\"\n",
    "        elif self.nilai_rata_rata >= 80:\n",
    "            return \"B\"\n",
    "        elif self.nilai_rata_rata >= 70:\n",
    "            return \"C\"\n",
    "        elif self.nilai_rata_rata >= 60:\n",
    "            return \"D\"\n",
    "        else:\n",
    "            return \"E\"\n",
    "\n",
    "    def tampilkan_rapor(self):\n",
    "        \"\"\"\n",
    "        Menampilkan rapor lengkap untuk siswa.\n",
    "        \"\"\"\n",
    "        print(f\"\\nRapor Siswa untuk {self.nama} (NIS: {self.nomor_induk})\")\n",
    "        print(\"Nilai Mata Pelajaran:\")\n",
    "        for mata_pelajaran, nilai in self.nilai.items():\n",
    "            print(f\"{mata_pelajaran}: {nilai}\")\n",
    "        self.hitung_nilai_rata_rata()\n",
    "        print(f\"\\nNilai Rata-rata: {self.nilai_rata_rata:.2f}\")\n",
    "        print(f\"Nilai Huruf: {self.dapatkan_nilai_huruf()}\")"
   ]
  },
  {
   "cell_type": "markdown",
   "id": "833b52f8-dc03-463d-9124-b8d9a2c909da",
   "metadata": {},
   "source": [
    "Selanjutnya, kita bisa meng-instansiasi objek Siswa pada program kita:"
   ]
  },
  {
   "cell_type": "code",
   "execution_count": 2,
   "id": "bb29c38d-cc4f-48fd-b54b-b24675d7f0a9",
   "metadata": {},
   "outputs": [
    {
     "name": "stdout",
     "output_type": "stream",
     "text": [
      "\n",
      "Rapor Siswa untuk Luna (NIS: S12345)\n",
      "Nilai Mata Pelajaran:\n",
      "Matematika: 95\n",
      "Bahasa Inggris: 98\n",
      "Kecerdasan Buatan: 90\n",
      "Pemrosesan Bahasa Alami: 92\n",
      "\n",
      "Nilai Rata-rata: 93.75\n",
      "Nilai Huruf: A\n"
     ]
    }
   ],
   "source": [
    "siswa1 = Siswa(\"Luna\", \"S12345\")\n",
    "\n",
    "# Menambahkan nilai untuk berbagai mata kuliah\n",
    "siswa1.tambah_nilai(\"Matematika\", 95)\n",
    "siswa1.tambah_nilai(\"Bahasa Inggris\", 98)\n",
    "siswa1.tambah_nilai(\"Kecerdasan Buatan\", 90)\n",
    "siswa1.tambah_nilai(\"Pemrosesan Bahasa Alami\", 92)\n",
    "\n",
    "# Menampilkan rapor siswa\n",
    "siswa1.tampilkan_rapor()"
   ]
  },
  {
   "cell_type": "markdown",
   "id": "28af8204-30e9-4343-8217-cf2df2ce439a",
   "metadata": {},
   "source": [
    "## Inheritance\n",
    "\n",
    "Pada bagian selanjutnya, kita akan menambahkan konsep pewarisan pada program kita.\n",
    "\n",
    "Kita akan membuat kelas baru, yaitu `SiswaBeasiswa` yang mewarisi kelas `Siswa` dan memiliki atribut dan fitur tambahan."
   ]
  },
  {
   "cell_type": "code",
   "execution_count": 3,
   "id": "f23f3730-2599-4d58-84c7-dfaee79bdb89",
   "metadata": {},
   "outputs": [],
   "source": [
    "class SiswaBeasiswa(Siswa):\n",
    "    def __init__(self, nama, nomor_induk, jenis_beasiswa):\n",
    "        \"\"\"\n",
    "        Inisialisasi objek SiswaBeasiswa.\n",
    "\n",
    "        Parameter:\n",
    "        - nama (str): Nama siswa\n",
    "        - nomor_induk (str): Nomor induk siswa\n",
    "        - jenis_beasiswa (str): Jenis beasiswa yang diterima\n",
    "        \"\"\"\n",
    "        super().__init__(nama, nomor_induk)  # Memanggil konstruktor kelas induk\n",
    "        self.jenis_beasiswa = jenis_beasiswa\n",
    "        self.syarat_nilai_minimum = 80\n",
    "\n",
    "    def cek_kelayakan_beasiswa(self):\n",
    "        \"\"\"\n",
    "        Memeriksa apakah siswa masih layak menerima beasiswa.\n",
    "\n",
    "        Mengembalikan:\n",
    "        - bool: True jika layak, False jika tidak\n",
    "        \"\"\"\n",
    "        self.hitung_nilai_rata_rata()\n",
    "        return self.nilai_rata_rata >= self.syarat_nilai_minimum\n",
    "\n",
    "    def tampilkan_rapor(self):\n",
    "        \"\"\"\n",
    "        Menampilkan rapor lengkap untuk siswa beasiswa.\n",
    "        Override metode dari kelas induk.\n",
    "        \"\"\"\n",
    "        super().tampilkan_rapor()  # Memanggil metode kelas induk\n",
    "        print(f\"Jenis Beasiswa: {self.jenis_beasiswa}\")\n",
    "        if self.cek_kelayakan_beasiswa():\n",
    "            print(\"Status Beasiswa: Layak\")\n",
    "        else:\n",
    "            print(\"Status Beasiswa: Tidak Layak\")"
   ]
  },
  {
   "cell_type": "code",
   "execution_count": 4,
   "id": "c379eda6-4991-43db-bcc8-a8346c520994",
   "metadata": {},
   "outputs": [
    {
     "name": "stdout",
     "output_type": "stream",
     "text": [
      "\n",
      "Rapor Siswa untuk Aurora (NIS: S67890)\n",
      "Nilai Mata Pelajaran:\n",
      "Matematika: 100\n",
      "Bahasa Inggris: 100\n",
      "Kecerdasan Buatan: 95\n",
      "Pemrosesan Bahasa Alami: 95\n",
      "\n",
      "Nilai Rata-rata: 97.50\n",
      "Nilai Huruf: A\n",
      "Jenis Beasiswa: Beasiswa Prestasi\n",
      "Status Beasiswa: Layak\n"
     ]
    }
   ],
   "source": [
    "# Membuat siswa beasiswa\n",
    "siswa_beasiswa1 = SiswaBeasiswa(\"Aurora\", \"S67890\", \"Beasiswa Prestasi\")\n",
    "siswa_beasiswa1.tambah_nilai(\"Matematika\", 100)\n",
    "siswa_beasiswa1.tambah_nilai(\"Bahasa Inggris\", 100)\n",
    "siswa_beasiswa1.tambah_nilai(\"Kecerdasan Buatan\", 95)\n",
    "siswa_beasiswa1.tambah_nilai(\"Pemrosesan Bahasa Alami\", 95)\n",
    "siswa_beasiswa1.tampilkan_rapor()"
   ]
  }
 ],
 "metadata": {
  "kernelspec": {
   "display_name": "Python 3 (ipykernel)",
   "language": "python",
   "name": "python3"
  },
  "language_info": {
   "codemirror_mode": {
    "name": "ipython",
    "version": 3
   },
   "file_extension": ".py",
   "mimetype": "text/x-python",
   "name": "python",
   "nbconvert_exporter": "python",
   "pygments_lexer": "ipython3",
   "version": "3.12.4"
  }
 },
 "nbformat": 4,
 "nbformat_minor": 5
}
