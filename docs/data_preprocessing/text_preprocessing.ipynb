{
 "cells": [
  {
   "cell_type": "markdown",
   "id": "fe55bc1b-42a0-4776-ba95-9460722441a1",
   "metadata": {},
   "source": [
    "# Text Preprocessing\n",
    "\n",
    "Text Preprocessing adalah serangkaian langkah yang dilakukan untuk mempersiapkan teks mentah agar siap digunakan dalam proses analisis atau model machine learning. Proses ini penting karena teks mentah sering kali tidak dapat langsung digunakan oleh algoritma komputasi. Text preprocessing bertujuan untuk membersihkan, menyederhanakan, dan mengubah teks ke dalam format yang lebih mudah diproses."
   ]
  },
  {
   "cell_type": "code",
   "execution_count": 1,
   "id": "9b80b30c-9ef9-4626-a534-580f84b45874",
   "metadata": {},
   "outputs": [],
   "source": [
    "# !poetry add nltk"
   ]
  },
  {
   "cell_type": "code",
   "execution_count": 2,
   "id": "a7a1167f-9d9e-433f-b9f1-9e7edcd3c006",
   "metadata": {},
   "outputs": [],
   "source": [
    "# !python -m nltk.downloader all"
   ]
  },
  {
   "cell_type": "code",
   "execution_count": 3,
   "id": "4308b220-7474-463e-9d0d-29b3f377b312",
   "metadata": {},
   "outputs": [],
   "source": [
    "# !poetry add PySastrawi"
   ]
  },
  {
   "cell_type": "markdown",
   "id": "0d86e8f8-f3ab-4be2-b4dc-ab72623cb259",
   "metadata": {},
   "source": [
    "## Case Folding\n",
    "\n",
    "Case folding adalah proses mengubah seluruh teks menjadi huruf kecil. Ini dilakukan untuk memastikan bahwa semua kata diperlakukan secara konsisten tanpa memperhatikan kapitalisasi, misalnya, kata “Python” dan “python” dianggap sama."
   ]
  },
  {
   "cell_type": "code",
   "execution_count": 4,
   "id": "968d1c65-b670-474d-839c-3f1f37b763fe",
   "metadata": {},
   "outputs": [
    {
     "name": "stdout",
     "output_type": "stream",
     "text": [
      "Laboratorium Fakultas Ilmu Komputer Universitas Sriwijaya mengadakan pelatihan bahasa pemrograman Python.\n"
     ]
    }
   ],
   "source": [
    "sentence = \"Laboratorium Fakultas Ilmu Komputer Universitas Sriwijaya mengadakan pelatihan bahasa pemrograman Python.\"\n",
    "print(sentence)"
   ]
  },
  {
   "cell_type": "code",
   "execution_count": 5,
   "id": "5971ab06-ec0d-4432-a1a4-4d2ea69946f9",
   "metadata": {},
   "outputs": [
    {
     "name": "stdout",
     "output_type": "stream",
     "text": [
      "laboratorium fakultas ilmu komputer universitas sriwijaya mengadakan pelatihan bahasa pemrograman python.\n"
     ]
    }
   ],
   "source": [
    "lowercase_sentence = sentence.lower()\n",
    "print(lowercase_sentence)"
   ]
  },
  {
   "cell_type": "markdown",
   "id": "15b79182-c37f-44f5-bca0-e0cae95995b1",
   "metadata": {},
   "source": [
    "## Tokenization\n",
    "\n",
    "Tokenization adalah proses memecah teks menjadi unit-unit terkecil yang disebut token. Token ini bisa berupa kata, frasa, atau bahkan karakter, tergantung pada tingkat tokenisasi yang diinginkan. Misalnya, kalimat “Natural Language Processing” dapat diubah menjadi [“Natural”, “Language”, “Processing”]."
   ]
  },
  {
   "cell_type": "code",
   "execution_count": 6,
   "id": "cdf999d1-0c3e-4424-b66b-d9baf58514fa",
   "metadata": {},
   "outputs": [
    {
     "name": "stdout",
     "output_type": "stream",
     "text": [
      "Pada hari Senin, tanggal 12 Agustus 2024, pelatihan bahasa pemrograman Python dimulai.\n",
      "Pelatihan ini diadakan oleh Laboratorium Fakultas Ilmu Komputer Universitas Sriwijaya.\n",
      "Lebih dari 1.234 mahasiswa dari berbagai fakultas yang mengikuti kegiatan tersebut.\n",
      "Python adalah salah satu bahasa pemrograman populer yang banyak digunakan oleh software engineer dan data scientist.\n"
     ]
    }
   ],
   "source": [
    "sentence = \"Pada hari Senin, tanggal 12 Agustus 2024, pelatihan bahasa pemrograman Python dimulai.\\nPelatihan ini diadakan oleh Laboratorium Fakultas Ilmu Komputer Universitas Sriwijaya.\\nLebih dari 1.234 mahasiswa dari berbagai fakultas yang mengikuti kegiatan tersebut.\\nPython adalah salah satu bahasa pemrograman populer yang banyak digunakan oleh software engineer dan data scientist.\"\n",
    "print(sentence)"
   ]
  },
  {
   "cell_type": "code",
   "execution_count": 7,
   "id": "517e3750-e26e-4129-9a37-f0f2e8bd7050",
   "metadata": {},
   "outputs": [],
   "source": [
    "import re\n",
    "import string\n",
    "\n",
    "from nltk.tokenize import word_tokenize"
   ]
  },
  {
   "cell_type": "code",
   "execution_count": 8,
   "id": "e64acc58-e0d1-4e2c-a07c-7e7df3b307e4",
   "metadata": {},
   "outputs": [
    {
     "name": "stdout",
     "output_type": "stream",
     "text": [
      "Case folding result:\n",
      "\n",
      "pada hari senin, tanggal 12 agustus 2024, pelatihan bahasa pemrograman python dimulai.\n",
      "pelatihan ini diadakan oleh laboratorium fakultas ilmu komputer universitas sriwijaya.\n",
      "lebih dari 1.234 mahasiswa dari berbagai fakultas yang mengikuti kegiatan tersebut.\n",
      "python adalah salah satu bahasa pemrograman populer yang banyak digunakan oleh software engineer dan data scientist.\n"
     ]
    }
   ],
   "source": [
    "lowercase_sentence = sentence.lower()\n",
    "print(\"Case folding result:\\n\")\n",
    "print(lowercase_sentence)"
   ]
  },
  {
   "cell_type": "code",
   "execution_count": 9,
   "id": "6b4f08c0-8e43-4a15-890d-25a3860fbd22",
   "metadata": {},
   "outputs": [
    {
     "name": "stdout",
     "output_type": "stream",
     "text": [
      "Tokenizing result:\n",
      "\n",
      "['pada', 'hari', 'senin', 'tanggal', 'agustus', 'pelatihan', 'bahasa', 'pemrograman', 'python', 'dimulai', 'pelatihan', 'ini', 'diadakan', 'oleh', 'laboratorium', 'fakultas', 'ilmu', 'komputer', 'universitas', 'sriwijaya', 'lebih', 'dari', 'mahasiswa', 'dari', 'berbagai', 'fakultas', 'yang', 'mengikuti', 'kegiatan', 'tersebut', 'python', 'adalah', 'salah', 'satu', 'bahasa', 'pemrograman', 'populer', 'yang', 'banyak', 'digunakan', 'oleh', 'software', 'engineer', 'dan', 'data', 'scientist']\n"
     ]
    }
   ],
   "source": [
    "# remove number\n",
    "lowercase_sentence = re.sub(r\"\\d+\", \"\", lowercase_sentence)\n",
    "\n",
    "# remove punctuation\n",
    "lowercase_sentence = lowercase_sentence.translate(\n",
    "    str.maketrans(\"\", \"\", string.punctuation)\n",
    ")\n",
    "\n",
    "# remove whitespace leading & trailing\n",
    "lowercase_sentence = lowercase_sentence.strip()\n",
    "\n",
    "# remove multiple whitespace into single whitespace\n",
    "lowercase_sentence = re.sub(r\"\\s+\", \" \", lowercase_sentence)\n",
    "\n",
    "\n",
    "tokens = word_tokenize(lowercase_sentence)\n",
    "\n",
    "print(\"Tokenizing result:\\n\")\n",
    "print(tokens)"
   ]
  },
  {
   "cell_type": "markdown",
   "id": "1f7fcabc-f14a-46f9-8ae8-98ea1c207b55",
   "metadata": {},
   "source": [
    "## Term Frequency\n",
    "\n",
    "Term frequency (TF) adalah ukuran seberapa sering suatu kata muncul dalam dokumen. Teknik ini digunakan untuk menilai pentingnya suatu kata dalam konteks dokumen tertentu. Semakin sering kata muncul, semakin tinggi nilai TF-nya."
   ]
  },
  {
   "cell_type": "code",
   "execution_count": 10,
   "id": "13a3138b-d97a-4805-aa29-f65eb62e34b1",
   "metadata": {},
   "outputs": [
    {
     "name": "stdout",
     "output_type": "stream",
     "text": [
      "Tokens frequency:\n",
      "\n",
      "[('pelatihan', 2), ('bahasa', 2), ('pemrograman', 2), ('python', 2), ('oleh', 2), ('fakultas', 2), ('dari', 2), ('yang', 2), ('pada', 1), ('hari', 1), ('senin', 1), ('tanggal', 1), ('agustus', 1), ('dimulai', 1), ('ini', 1), ('diadakan', 1), ('laboratorium', 1), ('ilmu', 1), ('komputer', 1), ('universitas', 1), ('sriwijaya', 1), ('lebih', 1), ('mahasiswa', 1), ('berbagai', 1), ('mengikuti', 1), ('kegiatan', 1), ('tersebut', 1), ('adalah', 1), ('salah', 1), ('satu', 1), ('populer', 1), ('banyak', 1), ('digunakan', 1), ('software', 1), ('engineer', 1), ('dan', 1), ('data', 1), ('scientist', 1)]\n"
     ]
    }
   ],
   "source": [
    "from nltk.probability import FreqDist\n",
    "\n",
    "tokens_freq = FreqDist(tokens)\n",
    "\n",
    "print(\"Tokens frequency:\\n\")\n",
    "print(tokens_freq.most_common())"
   ]
  },
  {
   "cell_type": "code",
   "execution_count": 11,
   "id": "1961118d-f48b-4f31-84a0-d53e998da6bf",
   "metadata": {},
   "outputs": [
    {
     "data": {
      "text/plain": [
       "<Axes: ylabel='Key'>"
      ]
     },
     "execution_count": 11,
     "metadata": {},
     "output_type": "execute_result"
    },
    {
     "data": {
      "image/png": "[encoded data removed]",
      "text/plain": [
       "<Figure size 640x480 with 1 Axes>"
      ]
     },
     "metadata": {},
     "output_type": "display_data"
    }
   ],
   "source": [
    "import pandas as pd\n",
    "\n",
    "df_freq_tokens = pd.DataFrame.from_dict(tokens_freq, orient=\"index\")\n",
    "df_freq_tokens.columns = [\"Frequency\"]\n",
    "df_freq_tokens.index.name = \"Key\"\n",
    "\n",
    "df_freq_tokens.plot.barh()"
   ]
  },
  {
   "cell_type": "markdown",
   "id": "98598018-f0d5-45bd-96f3-e3ea1c995fa0",
   "metadata": {},
   "source": [
    "## Stop Words Removal\n",
    "\n",
    "Stop words adalah kata-kata umum yang biasanya tidak memberikan banyak informasi dalam analisis teks, seperti “dan”, “atau”, “dari”, dll. Proses ini menghilangkan kata-kata tersebut untuk fokus pada kata-kata yang lebih bermakna.\n",
    "\n",
    "Untuk beberapa kasus, kamu mungkin tidak membutuhkan stop words removal. Misalnya, untuk sentiment analysis, dimana jika kamu menghilangkan beberapa stop words, maka bisa jadi mengubah makna kalimatnya."
   ]
  },
  {
   "cell_type": "code",
   "execution_count": 12,
   "id": "42ade90a-56d5-42f3-9ac6-c2c927ba8666",
   "metadata": {},
   "outputs": [
    {
     "name": "stdout",
     "output_type": "stream",
     "text": [
      "{'dikarenakan', 'bahwasanya', 'setidaknya', 'kamilah', 'mampukah', 'pentingnya', 'agar', 'aku', 'entahlah', 'bila', 'katakan', 'tanyakan', 'semakin', 'terlebih', 'atas', 'benarkah', 'menginginkan', 'sebaiknya', 'tidakkah', 'kapan', 'mampu', 'gunakan', 'tapi', 'mengapa', 'kepada', 'apaan', 'semuanya', 'terbanyak', 'meyakinkan', 'khususnya', 'seluruh', 'sebelumnya', 'diminta', 'begini', 'bisa', 'baru', 'bulan', 'keseluruhan', 'waktu', 'paling', 'bukanlah', 'terus', 'masa', 'sangat', 'usah', 'kepadanya', 'tampak', 'berapalah', 'dikatakan', 'perlunya', 'tambahnya', 'diucapkannya', 'karena', 'beginikah', 'beri', 'sendirinya', 'teringat', 'bertanya-tanya', 'ikut', 'kami', 'mempersiapkan', 'terlihat', 'merupakan', 'kelihatannya', 'meskipun', 'didatangkan', 'sajalah', 'mulai', 'nanti', 'memisalkan', 'tiba', 'sekali', 'berlainan', 'memastikan', 'setelah', 'kita', 'lewat', 'teringat-ingat', 'selamanya', 'dimulai', 'mungkin', 'antaranya', 'diketahui', 'penting', 'merasa', 'hendak', 'sempat', 'memberikan', 'berapapun', 'menyeluruh', 'seterusnya', 'menuturkan', 'kedua', 'biasa', 'inilah', 'kira-kira', 'seberapa', 'jadilah', 'demikianlah', 'dirinya', 'membuat', 'menanti-nanti', 'ungkap', 'sana', 'manalagi', 'diberikan', 'betul', 'antara', 'banyak', 'tuturnya', 'saya', 'umum', 'akankah', 'hal', 'sebanyak', 'menuju', 'hendaklah', 'sebab', 'mengatakannya', 'sedang', 'manakala', 'memberi', 'menunjuknya', 'sebegini', 'bagai', 'enggak', 'selalu', 'tentu', 'pun', 'tersebutlah', 'pihak', 'mempunyai', 'terjadinya', 'rupanya', 'sedikit', 'cukupkah', 'dapat', 'cara', 'kira', 'yaitu', 'harusnya', 'ditanyai', 'waktunya', 'rasa', 'sudah', 'sekurangnya', 'sampaikan', 'apabila', 'dijelaskan', 'sementara', 'misal', 'terdahulu', 'sehingga', 'caranya', 'demi', 'misalnya', 'mengatakan', 'dijelaskannya', 'kembali', 'masing', 'begitulah', 'pernah', 'sekitarnya', 'mungkinkah', 'melihat', 'dilihat', 'macam', 'hanya', 'diperlihatkan', 'kan', 'katakanlah', 'sejak', 'turut', 'semaunya', 'bagi', 'kemungkinannya', 'dimaksudkannya', 'sedikitnya', 'ia', 'pak', 'yakin', 'antar', 'jawabnya', 'sebetulnya', 'ternyata', 'jelasnya', 'entah', 'datang', 'selaku', 'semula', 'sesaat', 'sendirian', 'dua', 'lima', 'walaupun', 'belum', 'sesegera', 'mulailah', 'baik', 'akhirnya', 'percuma', 'belakang', 'waduh', 'sebut', 'dibuatnya', 'dimungkinkan', 'kenapa', 'mempertanyakan', 'berakhirnya', 'benar', 'ditunjuki', 'menghendaki', 'sekalian', 'mau', 'berjumlah', 'disebutkannya', 'menandaskan', 'bersiap', 'pihaknya', 'jawab', 'berlangsung', 'biasanya', 'terlalu', 'menyangkut', 'setidak-tidaknya', 'seorang', 'memperkirakan', 'bukan', 'lainnya', 'toh', 'tertuju', 'setiap', 'sejauh', 'sebutnya', 'tiba-tiba', 'diantaranya', 'bermula', 'menyampaikan', 'suatu', 'semisal', 'menanya', 'merekalah', 'ditunjukkan', 'bawah', 'berujar', 'hampir', 'bolehlah', 'sekalipun', 'apa', 'oleh', 'apatah', 'kebetulan', 'jadi', 'sepertinya', 'memang', 'berlebihan', 'berturut-turut', 'semisalnya', 'balik', 'jangan', 'selama', 'dulu', 'sudahkah', 'bermaksud', 'tempat', 'sesampai', 'diperlukannya', 'lah', 'semasa', 'cuma', 'melainkan', 'ataupun', 'itulah', 'inginkan', 'olehnya', 'tandasnya', 'beginian', 'berikan', 'bagian', 'disampaikan', 'dimaksud', 'kitalah', 'sama', 'misalkan', 'kelima', 'saatnya', 'tambah', 'kata', 'kemudian', 'nyaris', 'inikah', 'ditunjuk', 'ditunjukkannya', 'itukah', 'jelaslah', 'sebabnya', 'tanyanya', 'menunjuk', 'malah', 'lanjut', 'buat', 'memihak', 'mendapatkan', 'dimulailah', 'beginilah', 'guna', 'segera', 'perlukah', 'terdiri', 'seluruhnya', 'dong', 'semua', 'kesampaian', 'sering', 'terdapat', 'sebelum', 'tanpa', 'jelas', 'kurang', 'dimisalkan', 'bertutur', 'diberikannya', 'dibuat', 'kok', 'bermacam-macam', 'ingat-ingat', 'inginkah', 'pukul', 'sekadar', 'persoalan', 'mengingat', 'dikira', 'memperlihatkan', 'sebegitu', 'ditanyakan', 'menantikan', 'ialah', 'siapapun', 'bagaikan', 'nyatanya', 'disebut', 'ibu', 'namun', 'menggunakan', 'tepat', 'dimintai', 'lain', 'artinya', 'bisakah', 'mana', 'dipertanyakan', 'bung', 'jauh', 'kalau', 'kinilah', 'sesudahnya', 'meminta', 'janganlah', 'apakah', 'berkenaan', 'kalaupun', 'terutama', 'berikutnya', 'diingatkan', 'sebenarnya', 'telah', 'naik', 'diperbuatnya', 'tampaknya', 'didapat', 'berikut', 'tadinya', 'apalagi', 'melalui', 'sesekali', 'pertanyakan', 'cukuplah', 'itu', 'menjelaskan', 'besar', 'sebagai', 'bakal', 'mengira', 'menyatakan', 'saat', 'saja', 'menaiki', 'pada', 'siap', 'diakhiri', 'dini', 'untuk', 'beberapa', 'tidaklah', 'menanyakan', 'berapa', 'jumlahnya', 'kelihatan', 'mengingatkan', 'agaknya', 'lanjutnya', 'mengakhiri', 'keluar', 'ke', 'digunakan', 'selain', 'sekitar', 'katanya', 'mengenai', 'sebagian', 'lalu', 'sepanjang', 'dimulainya', 'dituturkan', 'sesudah', 'pertama', 'malahan', 'tidak', 'amat', 'berkata', 'depan', 'sekiranya', 'masing-masing', 'masihkah', 'bahkan', 'sebutlah', 'tegasnya', 'adanya', 'sebisanya', 'melihatnya', 'dikerjakan', 'sampai-sampai', 'sesama', 'usai', 'berada', 'ditujukan', 'kemungkinan', 'disini', 'tak', 'masalah', 'sebaik', 'anda', 'jikalau', 'lagi', 'bermacam', 'mengucapkan', 'seolah', 'satu', 'terasa', 'mengetahui', 'bukankah', 'diibaratkannya', 'bagaimanakah', 'tentunya', 'sinilah', 'berakhirlah', 'sekali-kali', 'kalian', 'kini', 'bersama-sama', 'perlu', 'mereka', 'akhir', 'benarlah', 'memulai', 'akan', 'mempergunakan', 'sebesar', 'sekecil', 'ucap', 'sela', 'sedangkan', 'berkali-kali', 'se', 'menyiapkan', 'tersebut', 'mulanya', 'bapak', 'terkira', 'belumlah', 'diingat', 'seseorang', 'berawal', 'per', 'menyebutkan', 'disinilah', 'ditambahkan', 'hingga', 'menunjukkan', 'berturut', 'empat', 'menanyai', 'berdatangan', 'sudahlah', 'setibanya', 'seperlunya', 'dipersoalkan', 'ujar', 'keseluruhannya', 'lama', 'diperlukan', 'sesuatunya', 'sewaktu', 'pantas', 'pertanyaan', 'dari', 'terjadilah', 'mengerjakan', 'adalah', 'ditunjuknya', 'mirip', 'seolah-olah', 'enggaknya', 'seringnya', 'begitupun', 'supaya', 'berarti', 'mempersoalkan', 'makanya', 'sampai', 'menjawab', 'ini', 'berkehendak', 'memperbuat', 'sebagainya', 'termasuk', 'dijawab', 'semata-mata', 'segala', 'begitu', 'bersama', 'berupa', 'asal', 'walau', 'kecil', 'luar', 'hendaknya', 'makin', 'maupun', 'tersampaikan', 'soal', 'wong', 'boleh', 'sendiri', 'dekat', 'bolehkah', 'keinginan', 'dia', 'harus', 'bertanya', 'menurut', 'semacam', 'kamu', 'nah', 'jelaskan', 'menegaskan', 'memintakan', 'asalkan', 'diungkapkan', 'diucapkan', 'seusai', 'jawaban', 'bagaimanapun', 'tahun', 'secukupnya', 'terjadi', 'diberi', 'tentulah', 'diinginkan', 'dengan', 'akhiri', 'ditegaskan', 'seenaknya', 'mendatangi', 'sangatlah', 'siapa', 'dipunyai', 'ibaratnya', 'tetapi', 'akulah', 'diperbuat', 'bersiap-siap', 'keterlaluan', 'ujarnya', 'karenanya', 'sebaik-baiknya', 'panjang', 'rata', 'menanti', 'sepantasnya', 'setempat', 'mendapat', 'terhadapnya', 'cukup', 'tunjuk', 'sebaliknya', 'semata', 'punya', 'dialah', 'bakalan', 'melakukan', 'agak', 'siapakah', 'bekerja', 'tinggi', 'semampunya', 'dipergunakan', 'sekadarnya', 'berakhir', 'tahu', 'berkeinginan', 'meyakini', 'menambahkan', 'setengah', 'sepihak', 'andalah', 'diibaratkan', 'tiap', 'pula', 'bilakah', 'dipastikan', 'segalanya', 'setiba', 'menjadi', 'ibarat', 'ditandaskan', 'seharusnya', 'ada', 'kalaulah', 'berlalu', 'seperti', 'dilakukan', 'sejenak', 'sedemikian', 'keduanya', 'mendatangkan', 'tutur', 'pertama-tama', 'diri', 'dahulu', 'jika', 'sayalah', 'bahwa', 'awalnya', 'demikian', 'berapakah', 'saling', 'haruslah', 'meski', 'kiranya', 'sini', 'masalahnya', 'semasih', 'tegas', 'kelamaan', 'ingin', 'terakhir', 'atau', 'diakhirinya', 'hanyalah', 'tandas', 'seingat', 'tiga', 'para', 'memungkinkan', 'begitukah', 'dalam', 'dimaksudnya', 'ditanya', 'sebagaimana', 'sebuah', 'tentang', 'kapankah', 'ibaratkan', 'yang', 'padanya', 'umumnya', 'kasus', 'seketika', 'dituturkannya', 'kapanpun', 'mengibaratkannya', 'minta', 'sama-sama', 'secara', 'bukannya', 'hari', 'mengungkapkan', 'adapun', 'pasti', 'bagaimana', 'selama-lamanya', 'tanya', 'sekarang', 'ataukah', 'amatlah', 'lebih', 'soalnya', 'tertentu', 'dimaksudkan', 'mengucapkannya', 'kamulah', 'menunjuki', 'berbagai', 'jumlah', 'memerlukan', 'betulkah', 'sekaligus', 'sejumlah', 'lagian', 'ingat', 'selanjutnya', 'wahai', 'serupa', 'nantinya', 'kala', 'dan', 'keadaan', 'maka', 'pastilah', 'semampu', 'ungkapnya', 'awal', 'mengibaratkan', 'sesuatu', 'serta', 'sambil', 'tengah', 'dikatakannya', 'jadinya', 'ucapnya', 'dilalui', 'yakni', 'ketika', 'lamanya', 'masih', 'rasanya', 'daripada', 'juga', 'di', 'setinggi', 'tetap', 'sekurang-kurangnya', 'mula', 'belakangan', 'diketahuinya', 'terhadap', 'mendatang', 'diantara', 'diperkirakan', 'sepantasnyalah', 'justru', 'tadi', 'wah', 'padahal', 'disebutkan', 'jangankan'}\n"
     ]
    }
   ],
   "source": [
    "from nltk.corpus import stopwords\n",
    "\n",
    "indonesian_stopwords = set(stopwords.words(\"indonesian\"))\n",
    "print(indonesian_stopwords)"
   ]
  },
  {
   "cell_type": "code",
   "execution_count": 13,
   "id": "9903b61d-7275-43c0-89ea-856d5e75b28d",
   "metadata": {},
   "outputs": [
    {
     "name": "stdout",
     "output_type": "stream",
     "text": [
      "With stop words:\n",
      "\n",
      "['pada', 'hari', 'senin', 'tanggal', 'agustus', 'pelatihan', 'bahasa', 'pemrograman', 'python', 'dimulai', 'pelatihan', 'ini', 'diadakan', 'oleh', 'laboratorium', 'fakultas', 'ilmu', 'komputer', 'universitas', 'sriwijaya', 'lebih', 'dari', 'mahasiswa', 'dari', 'berbagai', 'fakultas', 'yang', 'mengikuti', 'kegiatan', 'tersebut', 'python', 'adalah', 'salah', 'satu', 'bahasa', 'pemrograman', 'populer', 'yang', 'banyak', 'digunakan', 'oleh', 'software', 'engineer', 'dan', 'data', 'scientist']\n",
      "\n",
      "Stop words removal result:\n",
      "\n",
      "['pelatihan', 'bahasa', 'pemrograman', 'python', 'fakultas', 'senin', 'tanggal', 'agustus', 'diadakan', 'laboratorium', 'ilmu', 'komputer', 'universitas', 'sriwijaya', 'mahasiswa', 'mengikuti', 'kegiatan', 'salah', 'populer', 'software', 'engineer', 'data', 'scientist']\n"
     ]
    }
   ],
   "source": [
    "tokens_without_stopwords = [\n",
    "    word for word in tokens_freq if not word in indonesian_stopwords\n",
    "]\n",
    "\n",
    "print(\"With stop words:\\n\")\n",
    "print(tokens)\n",
    "print(\"\\nStop words removal result:\\n\")\n",
    "print(tokens_without_stopwords)"
   ]
  },
  {
   "cell_type": "markdown",
   "id": "93670edc-96b3-405d-b255-c9032fd8c151",
   "metadata": {},
   "source": [
    "## Stemming\n",
    "\n",
    "Stemming adalah proses mengubah kata ke bentuk dasarnya atau akar kata. Misalnya, kata-kata seperti “running”, “runner”, dan “ran” semuanya dapat dikurangi menjadi “run”. Ini membantu mengkonsolidasikan berbagai bentuk kata menjadi satu bentuk dasar."
   ]
  },
  {
   "cell_type": "code",
   "execution_count": 14,
   "id": "1a6ccefa-89f6-4ef7-8dfc-a90dfcc06415",
   "metadata": {},
   "outputs": [
    {
     "name": "stdout",
     "output_type": "stream",
     "text": [
      "Stemming result:\n",
      "\n",
      "['pelatihan : latih', 'bahasa : bahasa', 'pemrograman : pemrograman', 'python : python', 'fakultas : fakultas', 'senin : senin', 'tanggal : tanggal', 'agustus : agustus', 'diadakan : ada', 'laboratorium : laboratorium', 'ilmu : ilmu', 'komputer : komputer', 'universitas : universitas', 'sriwijaya : sriwijaya', 'mahasiswa : mahasiswa', 'mengikuti : ikut', 'kegiatan : giat', 'salah : salah', 'populer : populer', 'software : software', 'engineer : engineer', 'data : data', 'scientist : scientist']\n"
     ]
    }
   ],
   "source": [
    "from Sastrawi.Stemmer.StemmerFactory import StemmerFactory\n",
    "\n",
    "factory = StemmerFactory()\n",
    "stemmer = factory.create_stemmer()\n",
    "\n",
    "output = [(token + \" : \" + stemmer.stem(token)) for token in tokens_without_stopwords]\n",
    "\n",
    "print(\"Stemming result:\\n\")\n",
    "print(output)"
   ]
  },
  {
   "cell_type": "code",
   "execution_count": 15,
   "id": "a0a39d02-5449-4e2b-9cb7-5a01549e17f0",
   "metadata": {},
   "outputs": [
    {
     "data": {
      "text/plain": [
       "['caresses : caress',\n",
       " 'flies : fli',\n",
       " 'dies : die',\n",
       " 'mules : mule',\n",
       " 'denied : deni',\n",
       " 'died : die',\n",
       " 'agreed : agre',\n",
       " 'owned : own',\n",
       " 'humbled : humbl',\n",
       " 'sized : size',\n",
       " 'meeting : meet',\n",
       " 'stating : state',\n",
       " 'siezing : siez',\n",
       " 'itemization : item',\n",
       " 'sensational : sensat',\n",
       " 'traditional : tradit',\n",
       " 'reference : refer',\n",
       " 'colonizer : colon',\n",
       " 'plotted : plot']"
      ]
     },
     "execution_count": 15,
     "metadata": {},
     "output_type": "execute_result"
    }
   ],
   "source": [
    "from nltk.stem import PorterStemmer\n",
    "\n",
    "stemmer = PorterStemmer()\n",
    "\n",
    "plurals = [\n",
    "    \"caresses\",\n",
    "    \"flies\",\n",
    "    \"dies\",\n",
    "    \"mules\",\n",
    "    \"denied\",\n",
    "    \"died\",\n",
    "    \"agreed\",\n",
    "    \"owned\",\n",
    "    \"humbled\",\n",
    "    \"sized\",\n",
    "    \"meeting\",\n",
    "    \"stating\",\n",
    "    \"siezing\",\n",
    "    \"itemization\",\n",
    "    \"sensational\",\n",
    "    \"traditional\",\n",
    "    \"reference\",\n",
    "    \"colonizer\",\n",
    "    \"plotted\",\n",
    "]\n",
    "\n",
    "singles = [(plural + \" : \" + stemmer.stem(plural)) for plural in plurals]\n",
    "singles"
   ]
  }
 ],
 "metadata": {
  "kernelspec": {
   "display_name": "Python 3 (ipykernel)",
   "language": "python",
   "name": "python3"
  },
  "language_info": {
   "codemirror_mode": {
    "name": "ipython",
    "version": 3
   },
   "file_extension": ".py",
   "mimetype": "text/x-python",
   "name": "python",
   "nbconvert_exporter": "python",
   "pygments_lexer": "ipython3",
   "version": "3.12.4"
  }
 },
 "nbformat": 4,
 "nbformat_minor": 5
}
